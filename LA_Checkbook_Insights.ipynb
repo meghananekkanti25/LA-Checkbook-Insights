{
 "cells": [
  {
   "cell_type": "markdown",
   "metadata": {},
   "source": [
    "# Final Project - Group 11\n",
    "**Group Lead:** Yanhui Wu  \n",
    "**Group Members:** Zhixing Liu, Nilgun Aslanova, Manuel Chavez, Feiyu Lin, Meghana Nekkanti"
   ]
  },
  {
   "cell_type": "markdown",
   "metadata": {},
   "source": [
    "## Ask 1 - Search for a dataset"
   ]
  },
  {
   "cell_type": "markdown",
   "metadata": {},
   "source": [
    "For the project, our group would like to look into this dataset about comprehensive financial transactions conducted by the City of Los Angeles for the year 2022. It includes details of payments made by the city to various vendors and entities, covering aspects like transaction amounts, dates, payees, and descriptions of the services or goods procured."
   ]
  },
  {
   "cell_type": "markdown",
   "metadata": {},
   "source": [
    "### Dataset source\n",
    "The dataset is publicly available and sourced from the Los Angeles City Controller's office, specifically from their open data portal at https://controller.lacity.gov/data. This portal is part of the city's initiative to promote transparency and accountability in public spending.\n",
    "\n",
    "You can download the dataset in the CSV format here https://controllerdata.lacity.org/api/views/mkec-7zmd/rows.csv?accessType=DOWNLOAD&api_foundry=true. The dataset's size is 413MB and is last updated on 11/22/2023. The dataset has 700145 records at the transactional level and 62 variables. Each record represents a transaction and provides the following information.\n",
    "\n",
    "You can find the data dictionary and more information about each field here (https://controllerdata.lacity.org/Purchasing/2020-Checkbook-Data/mkec-7zmd)"
   ]
  },
  {
   "cell_type": "markdown",
   "metadata": {},
   "source": [
    "### Why this dataset?\n",
    "\n",
    "The dataset stands out for its tidy and organized structure, which contributes to its analytical appeal. The meticulous organization of the 62 variables provides a clear and systematic framework for data exploration. This tidiness is crucial for researchers and analysts seeking to navigate and interpret the information efficiently. The detailed nature of the dataset allows for a granular understanding of resource allocation within the City of Los Angeles. By delving into specific variables related to expenditures, vendors, departments, and fund types, users can gain valuable insights into how financial resources are allocated across various sectors. This level of detail facilitates a comprehensive analysis, enabling a nuanced exploration of patterns and trends in resource distribution, ultimately aiding in informed decision-making processes."
   ]
  },
  {
   "cell_type": "markdown",
   "metadata": {},
   "source": [
    "### Is this dataset suitable for dimensional modeling and analytical analysis?\n",
    "\n",
    "Yes. The dataset is well-structured and organized, which is essential for effective dimensional modeling. It includes clear, defined fields such as date, amount, vendor, department, and account, making it easy to map into a dimensional model. Secondly, the dataset provides data at a transactional level, which is ideal for creating a detailed and comprehensive dimensional model."
   ]
  },
  {
   "cell_type": "markdown",
   "metadata": {},
   "source": [
    "### Analytical Questions we can answer with this data\n",
    "\n",
    "##### 1. What are the top three highest-ranking vendors based on the total dollar amount of orders? Additionally, what is the count of orders for each of these top three vendors, and what percentage does each vendor's order count contribute to the overall activity in the dataset?\n",
    "\n",
    "##### 2. What departments exhibit higher spending, and how is the government budget allocated among various activities within these departments?\n",
    "\n",
    "##### 3. Which departments use most of the Special Revenue funds and the Capital Projects funds?"
   ]
  },
  {
   "cell_type": "markdown",
   "metadata": {},
   "source": [
    "### Concerns with the data and changes we expect to overcome\n",
    "1. The dataset, which is as ***large*** as 413MB and comprises more than 700k rows, poses challenges in terms of processing time for codes, leading to potential delays in data analysis.\n",
    "2. Within the dataset, there are issues related to empty or redundant columns, contributing to ***data inefficiency and complexity***.\n",
    "3. ***Data governance*** concerns are evident, indicating the need for improved oversight, policies, and procedures to ensure better management, quality, and accountability in the handling of the data.\n",
    "4. The ***lack of metadata*** in the dataset is a notable issue, hindering the comprehensive understanding of the data's context, source, and attributes.\n",
    "5. ***Inconsistent data formats*** further complicate data analysis and interpretation, requiring standardization efforts to enhance compatibility and reliability in analytical processes."
   ]
  },
  {
   "cell_type": "markdown",
   "metadata": {},
   "source": [
    "## Ask 2: Data Wrangling and Dimensional Modeling"
   ]
  },
  {
   "cell_type": "markdown",
   "metadata": {},
   "source": [
    "Download the data using wget"
   ]
  },
  {
   "cell_type": "code",
   "execution_count": 1,
   "metadata": {},
   "outputs": [
    {
     "name": "stdout",
     "output_type": "stream",
     "text": [
      "/home/ubuntu/notebooks/Checkbook_Data\n"
     ]
    }
   ],
   "source": [
    "!pwd"
   ]
  },
  {
   "cell_type": "code",
   "execution_count": 2,
   "metadata": {},
   "outputs": [
    {
     "name": "stdout",
     "output_type": "stream",
     "text": [
      "Archive:  2020_Checkbook_Data.zip\n",
      "  inflating: 2020_Checkbook_Data.csv  \n"
     ]
    }
   ],
   "source": [
    "!unzip 2020_Checkbook_Data.zip"
   ]
  },
  {
   "cell_type": "markdown",
   "metadata": {},
   "source": [
    "use xsv headers to find the heading (attribute labels) of the 2020_Checkbook_Data.csv"
   ]
  },
  {
   "cell_type": "code",
   "execution_count": 3,
   "metadata": {
    "scrolled": true,
    "tags": []
   },
   "outputs": [
    {
     "name": "stdout",
     "output_type": "stream",
     "text": [
      "1   ID NUMBER\n",
      "2   FISCAL YEAR\n",
      "3   DEPARTMENT NAME\n",
      "4   VENDOR NAME\n",
      "5   TRANSACTION DATE\n",
      "6   DOLLAR AMOUNT\n",
      "7   AUTHORITY\n",
      "8   BUSINESS TAX REGISTRATION CERTIFICATE\n",
      "9   GOVERNMENT ACTIVITY\n",
      "10  FUND GROUP NAME\n",
      "11  FUND TYPE\n",
      "12  FUND NAME\n",
      "13  FUND\n",
      "14  ACCOUNT NAME\n",
      "15  ACCOUNT CODE\n",
      "16  TRANSACTION ID\n",
      "17  EXPENDITURE TYPE\n",
      "18  SETTLEMENT/JUDGMENT\n",
      "19  FISCAL MONTH NUMBER\n",
      "20  FISCAL YEAR-MONTH\n",
      "21  FISCAL YEAR-QUARTER\n",
      "22  CALENDAR MONTH NUMBER\n",
      "23  CALENDAR MONTH/YEAR\n",
      "24  CALENDAR MONTH\n",
      "25  DATA SOURCE\n",
      "26  AUTHORITY NAME\n",
      "27  AUTHORITY LINK\n",
      "28  DEPARTMENT NUMBER\n",
      "29  PROGRAM\n",
      "30  VENDOR ID\n",
      "31  ZIP\n",
      "32  PAYMENT METHOD\n",
      "33  PAYMENT STATUS\n",
      "34  INV NUM\n",
      "35  INVOICE DUE DATE\n",
      "36  INVOICE DISCOUNT DUE DATE\n",
      "37  INV DATE\n",
      "38  INV LINE\n",
      "39  INVOICE DISTRIBUTION LINE\n",
      "40  PO NUM\n",
      "41  DESCRIPTION\n",
      "42  DETAILED ITEM DESCRIPTION\n",
      "43  UNIT PRICE\n",
      "44  UNIT OF MEASURE\n",
      "45  QUANTITY\n",
      "46  SALES TAX PERCENT\n",
      "47  SALES TAX\n",
      "48  DISCOUNT\n",
      "49  RECEIVER ID\n",
      "50  PO DATE\n",
      "51  PO LINE NUMBER\n",
      "52  PROCUREMENT ORGANIZATION\n",
      "53  BUYER NAME\n",
      "54  SUPPLIER CITY\n",
      "55  SUPPLIER COUNTRY\n",
      "56  BU NAME\n",
      "57  SITE LOCATION\n",
      "58  ITEM CODE\n",
      "59  ITEM CODE NAME\n",
      "60  CURRENCY\n",
      "61  VALUE OF SPEND\n",
      "62  VENDOR NUM\n"
     ]
    }
   ],
   "source": [
    "!xsv headers 2020_Checkbook_Data.csv"
   ]
  },
  {
   "cell_type": "markdown",
   "metadata": {},
   "source": [
    "There are **62** columns totally in the original dataset."
   ]
  },
  {
   "cell_type": "markdown",
   "metadata": {},
   "source": [
    "Since we want to analyze a few columns from the dataset, we can just select the columns which we want to keep and create a new csv file called *\"2020_Checkbook_Data_cut\"*.\n",
    "\n",
    "- 3     DEPARTMENT NAME\n",
    "- 4     VENDOR NAME\n",
    "- 5     TRANSACTION DATE\n",
    "- 6     DOLLAR AMOUNT\n",
    "- 9     GOVERNMENT ACTIVITY\n",
    "- 10\tFUND GROUP NAME\n",
    "- 11\tFUND TYPE\n",
    "- 12\tFUND NAME\n",
    "- 13\tFUND\n",
    "- 17\tEXPENDITURE TYPE\n",
    "- 19\tFISCAL MONTH NUMBER\n",
    "- 21\tFISCAL YEAR-QUARTER\n",
    "- 28\tDEPARTMENT NUMBER\n",
    "- 30\tVENDOR ID\n",
    "- 33\tPAYMENT STATUS\n",
    "\n",
    "- 37    INV DATE\n",
    "- 40    PO NUM\n",
    "- 41    DESCRIPTION\n",
    "\n",
    "- 43\tUNIT PRICE\n",
    "- 45\tQUANTITY\n",
    "- 48\tDISCOUNT\n",
    "\n",
    "- 50    PO DATE\n",
    "\n",
    "- 54\tSUPPLIER CITY\n",
    "- 55\tSUPPLIER COUNTRY\n",
    "- 58\tITEM CODE\n",
    "- 59\tITEM CODE NAME\n",
    "- 61\tVALUE OF SPEND"
   ]
  },
  {
   "cell_type": "code",
   "execution_count": 4,
   "metadata": {},
   "outputs": [],
   "source": [
    "!xsv select  3,4,5,6,9,10,11,12,13,17,19,21,28,30,33,37,40,41,43,45,48,50,54,55,58,59,61  2020_Checkbook_Data.csv > 2020_Checkbook_Data_cut.csv"
   ]
  },
  {
   "cell_type": "markdown",
   "metadata": {},
   "source": [
    "use xsv count to check the number of lines in the 2020_Checkbook_Data_cut.csv"
   ]
  },
  {
   "cell_type": "code",
   "execution_count": 5,
   "metadata": {},
   "outputs": [
    {
     "name": "stdout",
     "output_type": "stream",
     "text": [
      "700145\n"
     ]
    }
   ],
   "source": [
    "!xsv count 2020_Checkbook_Data_cut.csv"
   ]
  },
  {
   "cell_type": "markdown",
   "metadata": {},
   "source": [
    "use xsv headers to find the heading (attribute labels) of the 2020_Checkbook_Data_cut.csv"
   ]
  },
  {
   "cell_type": "code",
   "execution_count": 6,
   "metadata": {
    "scrolled": true,
    "tags": []
   },
   "outputs": [
    {
     "name": "stdout",
     "output_type": "stream",
     "text": [
      "1   DEPARTMENT NAME\n",
      "2   VENDOR NAME\n",
      "3   TRANSACTION DATE\n",
      "4   DOLLAR AMOUNT\n",
      "5   GOVERNMENT ACTIVITY\n",
      "6   FUND GROUP NAME\n",
      "7   FUND TYPE\n",
      "8   FUND NAME\n",
      "9   FUND\n",
      "10  EXPENDITURE TYPE\n",
      "11  FISCAL MONTH NUMBER\n",
      "12  FISCAL YEAR-QUARTER\n",
      "13  DEPARTMENT NUMBER\n",
      "14  VENDOR ID\n",
      "15  PAYMENT STATUS\n",
      "16  INV DATE\n",
      "17  PO NUM\n",
      "18  DESCRIPTION\n",
      "19  UNIT PRICE\n",
      "20  QUANTITY\n",
      "21  DISCOUNT\n",
      "22  PO DATE\n",
      "23  SUPPLIER CITY\n",
      "24  SUPPLIER COUNTRY\n",
      "25  ITEM CODE\n",
      "26  ITEM CODE NAME\n",
      "27  VALUE OF SPEND\n"
     ]
    }
   ],
   "source": [
    "!xsv headers 2020_Checkbook_Data_cut.csv"
   ]
  },
  {
   "cell_type": "markdown",
   "metadata": {},
   "source": [
    "now there are **27** columns in the new dataset"
   ]
  },
  {
   "cell_type": "markdown",
   "metadata": {},
   "source": [
    "### Column description:\n",
    "1. ***Department Name:*** The name of the department within the government that is making the transaction.\n",
    "2. ***Vendor Name:*** Entities or businesses that the city has engaged with for various transactions.\n",
    "3. ***Transaction Date:*** The date on which the transaction was recorded or processed.\n",
    "4. ***Dollar Amount:*** The total amount of money involved in that transaction.\n",
    "5. ***Government Activity:*** Description or identifier of the government activity associated with the transaction.\n",
    "6. ***Fund Group Name:*** The name of the group of funds from which the transaction is being paid.\n",
    "7. ***Fund Type:*** Classification or type of the fund that is being used for the transaction.\n",
    "8. ***Fund Name:*** The specific name of the fund from which the transaction is being paid.\n",
    "9. ***Fund:*** Coded identification of the fund being used.\n",
    "10. ***Expenditure Type:*** The category of expenditure that the transaction falls under.\n",
    "11. ***Fiscal Month Number:*** The numerical representation of the month in the fiscal calendar when the transaction was recorded.\n",
    "12. ***Fiscal Year-Quarter:*** Identifier for the fiscal year and the quarter within which the transaction falls.\n",
    "13. ***Department Number:*** Code assigned to the Departments involved\n",
    "14. ***Vendor ID:*** ID code for the Vendors\n",
    "15. ***Payment Status:*** Current state or condition of a financial transaction in terms of whether the payment associated with that transaction has been paid, is canceled, or may have a different status\n",
    "16. ***Inv date:*** Issuance date of an invoice\n",
    "17. ***PO Num:*** Unique reference assigned to a Purchase Order, facilitating tracking and communication between a buyer and seller in a business transaction.\n",
    "18. ***Description:*** Description of the purchase order.\n",
    "19. ***Unit Price:*** The cost per individual unit of the item purchased.\n",
    "20. ***Quantity:*** The number of units purchased in the transaction.\n",
    "21. ***Discount:*** Discount on purchased item\n",
    "22. ***PO Date:*** Date of the Purchase Order.\n",
    "23. ***Supplier City:*** The city where the supplier of the goods or services is located.\n",
    "24. ***Supplier Country:*** The country where the supplier of the goods or services is located.\n",
    "25. ***Item Code:*** Codes that identify the specific item purchased.\n",
    "26. ***Item Code Name:*** The name associated with the item code.\n",
    "27. ***Value of Spend:*** The calculated amount of money spent, typically based on the unit price multiplied by the quantity of items."
   ]
  },
  {
   "cell_type": "markdown",
   "metadata": {},
   "source": [
    "the first few rows of the dataset:"
   ]
  },
  {
   "cell_type": "code",
   "execution_count": 7,
   "metadata": {
    "scrolled": true,
    "tags": []
   },
   "outputs": [
    {
     "name": "stdout",
     "output_type": "stream",
     "text": [
      "DEPARTMENT NAME  VENDOR NAME              TRANSACTION DATE  DOLLAR AMOUNT  GOVERNMENT ACTIVITY                      FUND GROUP NAME  FUND TYPE   FUND NAME       FUND  EXPENDITURE TYPE            FISCAL MONTH NUMBER  FISCAL YEAR-QUARTER  DEPARTMENT NUMBER  VENDOR ID  PAYMENT STATUS  INV DATE    PO NUM               DESCRIPTION                                                                        UNIT PRICE  QUANTITY  DISCOUNT  PO DATE     SUPPLIER CITY  SUPPLIER COUNTRY  ITEM CODE  ITEM CODE NAME  VALUE OF SPEND\n",
      "HARBOR           RETAIL INDUSTRY LEADERS  01/14/2020        3500           TRANSPORTATION, COMMERCE AND ENTERPRISE  PROPRIETARY      ENTERPRISE  HARBOR REVENUE  702   MEMBERSHIPS                 7                    2020-03              42                 7515       PAID            12/02/2019  AFE5524              RETAIL INDUSTRY LEADERS ASSOCIATION MEMBERSHIP FOR CHRIS CHASE. INVOICE #4325                                      12/20/2019  BOSTON         US                                           \n",
      "HARBOR           AT&T CORP                01/29/2020        57525.22       TRANSPORTATION, COMMERCE AND ENTERPRISE  PROPRIETARY      ENTERPRISE  HARBOR REVENUE  702   TELEPHONE SERVICE           7                    2020-03              42                 1990       PAID            12/13/2019  AG3333-000014027834  AT&T SERVICES UNDER AG3333 FOR ACCOUNT 9391035427 INVOICE 000014027834                                             01/21/2020  CAROL STREAM   US                                           \n",
      "HARBOR           A-THRONE CO. INC.        01/03/2020        67.2           TRANSPORTATION, COMMERCE AND ENTERPRISE  PROPRIETARY      ENTERPRISE  HARBOR REVENUE  702   54025 MAINT SVCS- FAC&LAND  7                    2020-03              42                 3104       PAID            12/01/2019  EB16918              119969_156 - FENCE RENTAL @ 1050 WAYS (11/04/19 - 12/01/19) - INVOICE NO. 611923                                   07/01/2019  LONG BEACH     US                                           \n",
      "HARBOR           A-THRONE CO. INC.        01/03/2020        45.5           TRANSPORTATION, COMMERCE AND ENTERPRISE  PROPRIETARY      ENTERPRISE  HARBOR REVENUE  702   54025 MAINT SVCS- FAC&LAND  7                    2020-03              42                 3104       PAID            12/01/2019  EB16919              XXXXXX_131 - FENCE RENTAL @ BERTH 93A (11/05/19 - 12/02/19) - INVOICE NO. 611924                                   07/01/2019  LONG BEACH     US                                           \n",
      "HARBOR           A-THRONE CO. INC.        01/03/2020        30             TRANSPORTATION, COMMERCE AND ENTERPRISE  PROPRIETARY      ENTERPRISE  HARBOR REVENUE  702   54025 MAINT SVCS- FAC&LAND  7                    2020-03              42                 3104       PAID            12/01/2019  EB16920              XXXXXXX_131 - FENCE RENTAL  @ BERTH 68 (11/22/19 - 12/19/19) - INVOICE NO. 611925                                  07/01/2019  LONG BEACH     US                                           \n"
     ]
    }
   ],
   "source": [
    "!xsv slice -l 5 2020_Checkbook_Data_cut.csv | xsv table"
   ]
  },
  {
   "cell_type": "markdown",
   "metadata": {},
   "source": [
    "use xsv stats to summarize the statistical infomation of each column"
   ]
  },
  {
   "cell_type": "code",
   "execution_count": 8,
   "metadata": {
    "scrolled": true,
    "tags": []
   },
   "outputs": [
    {
     "name": "stdout",
     "output_type": "stream",
     "text": [
      "field                type     sum                 min                                                           max                                          min_length  max_length  mean                stddev\n",
      "DEPARTMENT NAME      Unicode                      AGING                                                         ZOO                                          3           60                              \n",
      "VENDOR NAME          Unicode                      (LA) R.S. HUGHES COMPANY, INC                                 ZW USA INC                                   3           68                              \n",
      "TRANSACTION DATE     Unicode                      01/02/2020                                                    12/31/2019                                   10          10                              \n",
      "DOLLAR AMOUNT        Float    8489878784.7898     -47388626.9                                                   174747762.7                                  1           11          12125.88647321605   354576.6782963182\n",
      "GOVERNMENT ACTIVITY  Unicode                      COMMUNITY DEVELOPMENT                                         TRANSPORTATION, COMMERCE AND/OR ENTERPRISE   0           42                              \n",
      "FUND GROUP NAME      Unicode                      FIDUCIARY                                                     PROPRIETARY                                  9           12                              \n",
      "FUND TYPE            Unicode                      AGENCY                                                        SPECIAL REVENUE                              6           16                              \n",
      "FUND NAME            Unicode                      17-18 CALIFORNIA VIOLENCE INTERVENTION AND PREVENTION PROGRA  ZOO ENTERPRISE TRUST FUND                    4           60                              \n",
      "FUND                 Unicode                      100                                                           X99                                          3           3                               \n",
      "EXPENDITURE TYPE     Unicode                      11220 REC-POLLUTION COST RECOV                                ZONING AND SUBDIVISION FEE                   5           49                              \n",
      "FISCAL MONTH NUMBER  Integer  5014441             1                                                             12                                           1           2           7.1620035849719885  3.1984271225183694\n",
      "FISCAL YEAR-QUARTER  Unicode                      2020-01                                                       2020-04                                      7           7                               \n",
      "DEPARTMENT NUMBER    Integer  38680115            2                                                             98                                           1           2           55.24586335687508   27.784397189694783\n",
      "VENDOR ID            Unicode                      07SJ59                                                        VS0000005713                                 2           68                              \n",
      "PAYMENT STATUS       Unicode                      CANCELLED                                                     PAID                                         4           9                               \n",
      "INV DATE             Unicode                      01/01/2018                                                    12/31/2020                                   0           10                              \n",
      "PO NUM               Unicode                      201831549                                                     VPO40200000000003                            0           22                              \n",
      "DESCRIPTION          Unicode                      \"\"\"CONFIRMING ORDER\"\"\"                                        [USBLT1MBL] STARTECH.COM 1M BLUE             0           240                             \n",
      "UNIT PRICE           Float    254857125.83003446  0                                                             5887821.92                                   0           10          525.1764981175805   14813.896241017495\n",
      "QUANTITY             Float    310977257.62716734  0                                                             4839048                                      0           11          640.821584340491    20927.605162636944\n",
      "DISCOUNT             Float    5806897.41000002    -6741.69                                                      97781.63                                     0           8           8.852355603592546   303.29487744322284\n",
      "PO DATE              Unicode                      01/02/2018                                                    12/31/2019                                   0           10                              \n",
      "SUPPLIER CITY        Unicode                      .ORANGE                                                       murrieta                                     0           29                              \n",
      "SUPPLIER COUNTRY     Unicode                      AU                                                            USA                                          0           3                               \n",
      "ITEM CODE            Unicode                      0                                                             M                                            0           11                              \n",
      "ITEM CODE NAME       Unicode                      \"\"\"FACESHIELD,FULL FACE, UVEX\"                                ZINC, GALVANIZING SPRAY, 16-OZ. AEROSOL CAN  0           148                             \n",
      "VALUE OF SPEND       Float    2417048287.970118   -47388626.9                                                   174747762.7                                  0           11          5537.833364195076   392969.04530901794\n"
     ]
    }
   ],
   "source": [
    "!xsv stats 2020_Checkbook_Data_cut.csv | xsv table"
   ]
  },
  {
   "cell_type": "markdown",
   "metadata": {},
   "source": [
    "### Dimensional Modeling"
   ]
  },
  {
   "cell_type": "markdown",
   "metadata": {},
   "source": [
    "We will start from this schema:"
   ]
  },
  {
   "cell_type": "code",
   "execution_count": 9,
   "metadata": {},
   "outputs": [
    {
     "data": {
      "text/html": [
       "<img src=\"https://github.com/Alfreddd555/DNSC6505_Group11/blob/main/original_checkbook_new.png?raw=true\"/>"
      ],
      "text/plain": [
       "<IPython.core.display.Image object>"
      ]
     },
     "execution_count": 9,
     "metadata": {},
     "output_type": "execute_result"
    }
   ],
   "source": [
    "from IPython.display import Image\n",
    "Image(url=\"https://github.com/Alfreddd555/DNSC6505_Group11/blob/main/original_checkbook_new.png?raw=true\")"
   ]
  },
  {
   "cell_type": "markdown",
   "metadata": {},
   "source": [
    "We will eventually build a dimensional schema like this:"
   ]
  },
  {
   "cell_type": "code",
   "execution_count": 10,
   "metadata": {},
   "outputs": [
    {
     "data": {
      "text/html": [
       "<img src=\"https://github.com/Alfreddd555/DNSC6505_Group11/blob/main/dimensions_new.png?raw=true\"/>"
      ],
      "text/plain": [
       "<IPython.core.display.Image object>"
      ]
     },
     "execution_count": 10,
     "metadata": {},
     "output_type": "execute_result"
    }
   ],
   "source": [
    "from IPython.display import Image\n",
    "Image(url=\"https://github.com/Alfreddd555/DNSC6505_Group11/blob/main/dimensions_new.png?raw=true\")"
   ]
  },
  {
   "cell_type": "markdown",
   "metadata": {},
   "source": [
    "First, use PostgreSQL's *dropdb* command to drop the database named project3, if it exists. It is necessary so that we can run this notebook repeatedly."
   ]
  },
  {
   "cell_type": "code",
   "execution_count": 11,
   "metadata": {},
   "outputs": [],
   "source": [
    "!dropdb -U student final_project"
   ]
  },
  {
   "cell_type": "markdown",
   "metadata": {},
   "source": [
    "now use PostgreSQL's *createdb* command to create the database named project3."
   ]
  },
  {
   "cell_type": "code",
   "execution_count": 12,
   "metadata": {},
   "outputs": [],
   "source": [
    "!createdb -U student final_project"
   ]
  },
  {
   "cell_type": "markdown",
   "metadata": {},
   "source": [
    "use sql magic command to connect to the database we just created"
   ]
  },
  {
   "cell_type": "code",
   "execution_count": 1,
   "metadata": {},
   "outputs": [],
   "source": [
    "%load_ext sql"
   ]
  },
  {
   "cell_type": "code",
   "execution_count": 2,
   "metadata": {},
   "outputs": [],
   "source": [
    "%sql postgresql://student@/final_project"
   ]
  },
  {
   "cell_type": "markdown",
   "metadata": {},
   "source": [
    "#### Create \"FACT\" table: ***checkbook***"
   ]
  },
  {
   "cell_type": "markdown",
   "metadata": {},
   "source": [
    "use the *CREATE TABLE* command to create a SQL table. Before creating a new table, it is a good practice to use *DROP TABLE* command to drop the table first then create it, in case the table already exists.\n",
    "\n",
    "Now, we are creating the table ***checkbook*** as the fact table"
   ]
  },
  {
   "cell_type": "code",
   "execution_count": 15,
   "metadata": {},
   "outputs": [
    {
     "name": "stdout",
     "output_type": "stream",
     "text": [
      " * postgresql://student@/final_project\n",
      "Done.\n",
      "Done.\n"
     ]
    },
    {
     "data": {
      "text/plain": [
       "[]"
      ]
     },
     "execution_count": 15,
     "metadata": {},
     "output_type": "execute_result"
    }
   ],
   "source": [
    "%%sql\n",
    "DROP TABLE IF EXISTS checkbook;\n",
    "\n",
    "CREATE TABLE checkbook (\n",
    "    DEPARTMENT_NAME                     VARCHAR,\n",
    "    VENDOR_NAME                             VARCHAR,\n",
    "    TRANSACTION_DATE                     DATE,\n",
    "    DOLLAR_AMOUNT                         numeric(11)             NOT NULL,\n",
    "    GOVERNMENT_ACTIVITY               VARCHAR,\n",
    "    FUND_GROUP_NAME                    VARCHAR,\n",
    "    FUND_TYPE                                    VARCHAR,\n",
    "    FUND_NAME                                  VARCHAR,\n",
    "    FUND                                              VARCHAR,\n",
    "    EXPENDITURE_TYPE                       VARCHAR,\n",
    "    FISCAL_MONTH_NUMBER              INTEGER,\n",
    "    FISCAL_YEAR_QUARTER                  VARCHAR,\n",
    "    DEPARTMENT_NUMBER                  INTEGER                  NOT NULL,\n",
    "    VENDOR_ID                                    VARCHAR                 NOT NULL,\n",
    "    PAYMENT_STATUS                          VARCHAR,\n",
    "\n",
    "    INV_DATE                                DATE,\n",
    "    PO_NUM                                         VARCHAR,\n",
    "    DESCRIPTION                                 VARCHAR,\n",
    "\n",
    "    UNIT_PRICE                                    numeric(10),\n",
    "    QUANTITY                                      numeric(11),\n",
    "    DISCOUNT                                      numeric(8),\n",
    "\n",
    "    PO_DATE                                     DATE,\n",
    "\n",
    "    SUPPLIER_CITY                                VARCHAR,\n",
    "    SUPPLIER_COUNTRY                       VARCHAR(3),\n",
    "    ITEM_CODE                                     VARCHAR,\n",
    "    ITEM_CODE_NAME                         VARCHAR,\n",
    "    VALUE_OF_SPEND                          numeric(11)\n",
    ");"
   ]
  },
  {
   "cell_type": "code",
   "execution_count": 16,
   "metadata": {},
   "outputs": [
    {
     "name": "stdout",
     "output_type": "stream",
     "text": [
      " * postgresql://student@/final_project\n",
      "0 rows affected.\n"
     ]
    },
    {
     "data": {
      "text/html": [
       "<table>\n",
       "    <thead>\n",
       "        <tr>\n",
       "            <th>department_name</th>\n",
       "            <th>vendor_name</th>\n",
       "            <th>transaction_date</th>\n",
       "            <th>dollar_amount</th>\n",
       "            <th>government_activity</th>\n",
       "            <th>fund_group_name</th>\n",
       "            <th>fund_type</th>\n",
       "            <th>fund_name</th>\n",
       "            <th>fund</th>\n",
       "            <th>expenditure_type</th>\n",
       "            <th>fiscal_month_number</th>\n",
       "            <th>fiscal_year_quarter</th>\n",
       "            <th>department_number</th>\n",
       "            <th>vendor_id</th>\n",
       "            <th>payment_status</th>\n",
       "            <th>inv_date</th>\n",
       "            <th>po_num</th>\n",
       "            <th>description</th>\n",
       "            <th>unit_price</th>\n",
       "            <th>quantity</th>\n",
       "            <th>discount</th>\n",
       "            <th>po_date</th>\n",
       "            <th>supplier_city</th>\n",
       "            <th>supplier_country</th>\n",
       "            <th>item_code</th>\n",
       "            <th>item_code_name</th>\n",
       "            <th>value_of_spend</th>\n",
       "        </tr>\n",
       "    </thead>\n",
       "    <tbody>\n",
       "    </tbody>\n",
       "</table>"
      ],
      "text/plain": [
       "[]"
      ]
     },
     "execution_count": 16,
     "metadata": {},
     "output_type": "execute_result"
    }
   ],
   "source": [
    "%%sql\n",
    "select * from checkbook"
   ]
  },
  {
   "cell_type": "code",
   "execution_count": 17,
   "metadata": {},
   "outputs": [
    {
     "name": "stdout",
     "output_type": "stream",
     "text": [
      "/home/ubuntu/notebooks/Checkbook_Data\n"
     ]
    }
   ],
   "source": [
    "!pwd"
   ]
  },
  {
   "cell_type": "code",
   "execution_count": 18,
   "metadata": {},
   "outputs": [
    {
     "name": "stdout",
     "output_type": "stream",
     "text": [
      " * postgresql://student@/final_project\n",
      "700145 rows affected.\n"
     ]
    },
    {
     "data": {
      "text/plain": [
       "[]"
      ]
     },
     "execution_count": 18,
     "metadata": {},
     "output_type": "execute_result"
    }
   ],
   "source": [
    "%%sql\n",
    "COPY checkbook FROM '/home/ubuntu/notebooks/Checkbook_Data/2020_Checkbook_Data_cut.csv'\n",
    "CSV\n",
    "HEADER;"
   ]
  },
  {
   "cell_type": "code",
   "execution_count": 19,
   "metadata": {},
   "outputs": [
    {
     "name": "stdout",
     "output_type": "stream",
     "text": [
      " * postgresql://student@/final_project\n",
      "5 rows affected.\n"
     ]
    },
    {
     "data": {
      "text/html": [
       "<table>\n",
       "    <thead>\n",
       "        <tr>\n",
       "            <th>department_name</th>\n",
       "            <th>vendor_name</th>\n",
       "            <th>transaction_date</th>\n",
       "            <th>dollar_amount</th>\n",
       "            <th>government_activity</th>\n",
       "            <th>fund_group_name</th>\n",
       "            <th>fund_type</th>\n",
       "            <th>fund_name</th>\n",
       "            <th>fund</th>\n",
       "            <th>expenditure_type</th>\n",
       "            <th>fiscal_month_number</th>\n",
       "            <th>fiscal_year_quarter</th>\n",
       "            <th>department_number</th>\n",
       "            <th>vendor_id</th>\n",
       "            <th>payment_status</th>\n",
       "            <th>inv_date</th>\n",
       "            <th>po_num</th>\n",
       "            <th>description</th>\n",
       "            <th>unit_price</th>\n",
       "            <th>quantity</th>\n",
       "            <th>discount</th>\n",
       "            <th>po_date</th>\n",
       "            <th>supplier_city</th>\n",
       "            <th>supplier_country</th>\n",
       "            <th>item_code</th>\n",
       "            <th>item_code_name</th>\n",
       "            <th>value_of_spend</th>\n",
       "        </tr>\n",
       "    </thead>\n",
       "    <tbody>\n",
       "        <tr>\n",
       "            <td>HARBOR</td>\n",
       "            <td>RETAIL INDUSTRY LEADERS</td>\n",
       "            <td>2020-01-14</td>\n",
       "            <td>3500</td>\n",
       "            <td>TRANSPORTATION, COMMERCE AND ENTERPRISE</td>\n",
       "            <td>PROPRIETARY</td>\n",
       "            <td>ENTERPRISE</td>\n",
       "            <td>HARBOR REVENUE</td>\n",
       "            <td>702</td>\n",
       "            <td>MEMBERSHIPS</td>\n",
       "            <td>7</td>\n",
       "            <td>2020-03</td>\n",
       "            <td>42</td>\n",
       "            <td>7515</td>\n",
       "            <td>PAID</td>\n",
       "            <td>2019-12-02</td>\n",
       "            <td>AFE5524</td>\n",
       "            <td>RETAIL INDUSTRY LEADERS ASSOCIATION MEMBERSHIP FOR CHRIS CHASE. INVOICE #4325</td>\n",
       "            <td>None</td>\n",
       "            <td>None</td>\n",
       "            <td>None</td>\n",
       "            <td>2019-12-20</td>\n",
       "            <td>BOSTON</td>\n",
       "            <td>US</td>\n",
       "            <td>None</td>\n",
       "            <td>None</td>\n",
       "            <td>None</td>\n",
       "        </tr>\n",
       "        <tr>\n",
       "            <td>HARBOR</td>\n",
       "            <td>AT&amp;T CORP</td>\n",
       "            <td>2020-01-29</td>\n",
       "            <td>57525</td>\n",
       "            <td>TRANSPORTATION, COMMERCE AND ENTERPRISE</td>\n",
       "            <td>PROPRIETARY</td>\n",
       "            <td>ENTERPRISE</td>\n",
       "            <td>HARBOR REVENUE</td>\n",
       "            <td>702</td>\n",
       "            <td>TELEPHONE SERVICE</td>\n",
       "            <td>7</td>\n",
       "            <td>2020-03</td>\n",
       "            <td>42</td>\n",
       "            <td>1990</td>\n",
       "            <td>PAID</td>\n",
       "            <td>2019-12-13</td>\n",
       "            <td>AG3333-000014027834</td>\n",
       "            <td>AT&amp;T SERVICES UNDER AG3333 FOR ACCOUNT 9391035427 INVOICE 000014027834</td>\n",
       "            <td>None</td>\n",
       "            <td>None</td>\n",
       "            <td>None</td>\n",
       "            <td>2020-01-21</td>\n",
       "            <td>CAROL STREAM</td>\n",
       "            <td>US</td>\n",
       "            <td>None</td>\n",
       "            <td>None</td>\n",
       "            <td>None</td>\n",
       "        </tr>\n",
       "        <tr>\n",
       "            <td>HARBOR</td>\n",
       "            <td>A-THRONE CO. INC.</td>\n",
       "            <td>2020-01-03</td>\n",
       "            <td>67</td>\n",
       "            <td>TRANSPORTATION, COMMERCE AND ENTERPRISE</td>\n",
       "            <td>PROPRIETARY</td>\n",
       "            <td>ENTERPRISE</td>\n",
       "            <td>HARBOR REVENUE</td>\n",
       "            <td>702</td>\n",
       "            <td>54025 MAINT SVCS- FAC&amp;LAND</td>\n",
       "            <td>7</td>\n",
       "            <td>2020-03</td>\n",
       "            <td>42</td>\n",
       "            <td>3104</td>\n",
       "            <td>PAID</td>\n",
       "            <td>2019-12-01</td>\n",
       "            <td>EB16918</td>\n",
       "            <td>119969_156 - FENCE RENTAL @ 1050 WAYS (11/04/19 - 12/01/19) - INVOICE NO. 611923</td>\n",
       "            <td>None</td>\n",
       "            <td>None</td>\n",
       "            <td>None</td>\n",
       "            <td>2019-07-01</td>\n",
       "            <td>LONG BEACH</td>\n",
       "            <td>US</td>\n",
       "            <td>None</td>\n",
       "            <td>None</td>\n",
       "            <td>None</td>\n",
       "        </tr>\n",
       "        <tr>\n",
       "            <td>HARBOR</td>\n",
       "            <td>A-THRONE CO. INC.</td>\n",
       "            <td>2020-01-03</td>\n",
       "            <td>46</td>\n",
       "            <td>TRANSPORTATION, COMMERCE AND ENTERPRISE</td>\n",
       "            <td>PROPRIETARY</td>\n",
       "            <td>ENTERPRISE</td>\n",
       "            <td>HARBOR REVENUE</td>\n",
       "            <td>702</td>\n",
       "            <td>54025 MAINT SVCS- FAC&amp;LAND</td>\n",
       "            <td>7</td>\n",
       "            <td>2020-03</td>\n",
       "            <td>42</td>\n",
       "            <td>3104</td>\n",
       "            <td>PAID</td>\n",
       "            <td>2019-12-01</td>\n",
       "            <td>EB16919</td>\n",
       "            <td>XXXXXX_131 - FENCE RENTAL @ BERTH 93A (11/05/19 - 12/02/19) - INVOICE NO. 611924</td>\n",
       "            <td>None</td>\n",
       "            <td>None</td>\n",
       "            <td>None</td>\n",
       "            <td>2019-07-01</td>\n",
       "            <td>LONG BEACH</td>\n",
       "            <td>US</td>\n",
       "            <td>None</td>\n",
       "            <td>None</td>\n",
       "            <td>None</td>\n",
       "        </tr>\n",
       "        <tr>\n",
       "            <td>HARBOR</td>\n",
       "            <td>A-THRONE CO. INC.</td>\n",
       "            <td>2020-01-03</td>\n",
       "            <td>30</td>\n",
       "            <td>TRANSPORTATION, COMMERCE AND ENTERPRISE</td>\n",
       "            <td>PROPRIETARY</td>\n",
       "            <td>ENTERPRISE</td>\n",
       "            <td>HARBOR REVENUE</td>\n",
       "            <td>702</td>\n",
       "            <td>54025 MAINT SVCS- FAC&amp;LAND</td>\n",
       "            <td>7</td>\n",
       "            <td>2020-03</td>\n",
       "            <td>42</td>\n",
       "            <td>3104</td>\n",
       "            <td>PAID</td>\n",
       "            <td>2019-12-01</td>\n",
       "            <td>EB16920</td>\n",
       "            <td>XXXXXXX_131 - FENCE RENTAL  @ BERTH 68 (11/22/19 - 12/19/19) - INVOICE NO. 611925</td>\n",
       "            <td>None</td>\n",
       "            <td>None</td>\n",
       "            <td>None</td>\n",
       "            <td>2019-07-01</td>\n",
       "            <td>LONG BEACH</td>\n",
       "            <td>US</td>\n",
       "            <td>None</td>\n",
       "            <td>None</td>\n",
       "            <td>None</td>\n",
       "        </tr>\n",
       "    </tbody>\n",
       "</table>"
      ],
      "text/plain": [
       "[('HARBOR', 'RETAIL INDUSTRY LEADERS', datetime.date(2020, 1, 14), Decimal('3500'), 'TRANSPORTATION, COMMERCE AND ENTERPRISE', 'PROPRIETARY', 'ENTERPRISE', 'HARBOR REVENUE', '702', 'MEMBERSHIPS', 7, '2020-03', 42, '7515', 'PAID', datetime.date(2019, 12, 2), 'AFE5524', 'RETAIL INDUSTRY LEADERS ASSOCIATION MEMBERSHIP FOR CHRIS CHASE. INVOICE #4325', None, None, None, datetime.date(2019, 12, 20), 'BOSTON', 'US', None, None, None),\n",
       " ('HARBOR', 'AT&T CORP', datetime.date(2020, 1, 29), Decimal('57525'), 'TRANSPORTATION, COMMERCE AND ENTERPRISE', 'PROPRIETARY', 'ENTERPRISE', 'HARBOR REVENUE', '702', 'TELEPHONE SERVICE', 7, '2020-03', 42, '1990', 'PAID', datetime.date(2019, 12, 13), 'AG3333-000014027834', 'AT&T SERVICES UNDER AG3333 FOR ACCOUNT 9391035427 INVOICE 000014027834', None, None, None, datetime.date(2020, 1, 21), 'CAROL STREAM', 'US', None, None, None),\n",
       " ('HARBOR', 'A-THRONE CO. INC.', datetime.date(2020, 1, 3), Decimal('67'), 'TRANSPORTATION, COMMERCE AND ENTERPRISE', 'PROPRIETARY', 'ENTERPRISE', 'HARBOR REVENUE', '702', '54025 MAINT SVCS- FAC&LAND', 7, '2020-03', 42, '3104', 'PAID', datetime.date(2019, 12, 1), 'EB16918', '119969_156 - FENCE RENTAL @ 1050 WAYS (11/04/19 - 12/01/19) - INVOICE NO. 611923', None, None, None, datetime.date(2019, 7, 1), 'LONG BEACH', 'US', None, None, None),\n",
       " ('HARBOR', 'A-THRONE CO. INC.', datetime.date(2020, 1, 3), Decimal('46'), 'TRANSPORTATION, COMMERCE AND ENTERPRISE', 'PROPRIETARY', 'ENTERPRISE', 'HARBOR REVENUE', '702', '54025 MAINT SVCS- FAC&LAND', 7, '2020-03', 42, '3104', 'PAID', datetime.date(2019, 12, 1), 'EB16919', 'XXXXXX_131 - FENCE RENTAL @ BERTH 93A (11/05/19 - 12/02/19) - INVOICE NO. 611924', None, None, None, datetime.date(2019, 7, 1), 'LONG BEACH', 'US', None, None, None),\n",
       " ('HARBOR', 'A-THRONE CO. INC.', datetime.date(2020, 1, 3), Decimal('30'), 'TRANSPORTATION, COMMERCE AND ENTERPRISE', 'PROPRIETARY', 'ENTERPRISE', 'HARBOR REVENUE', '702', '54025 MAINT SVCS- FAC&LAND', 7, '2020-03', 42, '3104', 'PAID', datetime.date(2019, 12, 1), 'EB16920', 'XXXXXXX_131 - FENCE RENTAL  @ BERTH 68 (11/22/19 - 12/19/19) - INVOICE NO. 611925', None, None, None, datetime.date(2019, 7, 1), 'LONG BEACH', 'US', None, None, None)]"
      ]
     },
     "execution_count": 19,
     "metadata": {},
     "output_type": "execute_result"
    }
   ],
   "source": [
    "%%sql\n",
    "select * from checkbook\n",
    "limit 5;"
   ]
  },
  {
   "cell_type": "markdown",
   "metadata": {},
   "source": [
    "#### Create dimension tables"
   ]
  },
  {
   "cell_type": "markdown",
   "metadata": {
    "tags": []
   },
   "source": [
    "##### Create ***department*** table, as a dimension table"
   ]
  },
  {
   "cell_type": "code",
   "execution_count": 20,
   "metadata": {},
   "outputs": [
    {
     "name": "stdout",
     "output_type": "stream",
     "text": [
      " * postgresql://student@/final_project\n",
      "10 rows affected.\n"
     ]
    },
    {
     "data": {
      "text/html": [
       "<table>\n",
       "    <thead>\n",
       "        <tr>\n",
       "            <th>department_name</th>\n",
       "            <th>department_number</th>\n",
       "        </tr>\n",
       "    </thead>\n",
       "    <tbody>\n",
       "        <tr>\n",
       "            <td>AGING</td>\n",
       "            <td>2</td>\n",
       "        </tr>\n",
       "        <tr>\n",
       "            <td>AIRPORTS</td>\n",
       "            <td>4</td>\n",
       "        </tr>\n",
       "        <tr>\n",
       "            <td>ANIMAL SERVICES</td>\n",
       "            <td>6</td>\n",
       "        </tr>\n",
       "        <tr>\n",
       "            <td>BUILDING AND SAFETY</td>\n",
       "            <td>8</td>\n",
       "        </tr>\n",
       "        <tr>\n",
       "            <td>NON_DEPARTMENTAL</td>\n",
       "            <td>8</td>\n",
       "        </tr>\n",
       "        <tr>\n",
       "            <td>CITY ADMINISTRATIVE OFFICER</td>\n",
       "            <td>10</td>\n",
       "        </tr>\n",
       "        <tr>\n",
       "            <td>NON_DEPARTMENTAL</td>\n",
       "            <td>10</td>\n",
       "        </tr>\n",
       "        <tr>\n",
       "            <td>PUBLIC ACCOUNTABILITY</td>\n",
       "            <td>11</td>\n",
       "        </tr>\n",
       "        <tr>\n",
       "            <td>CITY ATTORNEY</td>\n",
       "            <td>12</td>\n",
       "        </tr>\n",
       "        <tr>\n",
       "            <td>CANNABIS REGULATION</td>\n",
       "            <td>13</td>\n",
       "        </tr>\n",
       "    </tbody>\n",
       "</table>"
      ],
      "text/plain": [
       "[('AGING', 2),\n",
       " ('AIRPORTS', 4),\n",
       " ('ANIMAL SERVICES', 6),\n",
       " ('BUILDING AND SAFETY', 8),\n",
       " ('NON_DEPARTMENTAL', 8),\n",
       " ('CITY ADMINISTRATIVE OFFICER', 10),\n",
       " ('NON_DEPARTMENTAL', 10),\n",
       " ('PUBLIC ACCOUNTABILITY', 11),\n",
       " ('CITY ATTORNEY', 12),\n",
       " ('CANNABIS REGULATION', 13)]"
      ]
     },
     "execution_count": 20,
     "metadata": {},
     "output_type": "execute_result"
    }
   ],
   "source": [
    "%%sql\n",
    "select distinct department_name, department_number\n",
    "from checkbook\n",
    "order by department_number\n",
    "limit 10;"
   ]
  },
  {
   "cell_type": "code",
   "execution_count": 21,
   "metadata": {},
   "outputs": [
    {
     "name": "stdout",
     "output_type": "stream",
     "text": [
      " * postgresql://student@/final_project\n",
      "Done.\n",
      "Done.\n"
     ]
    },
    {
     "data": {
      "text/plain": [
       "[]"
      ]
     },
     "execution_count": 21,
     "metadata": {},
     "output_type": "execute_result"
    }
   ],
   "source": [
    "%%sql\n",
    "DROP TABLE IF EXISTS department;\n",
    "\n",
    "CREATE TABLE department(\n",
    "    key                                     SERIAL              PRIMARY KEY,\n",
    "    department_name             VARCHAR,\n",
    "    department_number           INTEGER             NOT NULL\n",
    ")"
   ]
  },
  {
   "cell_type": "code",
   "execution_count": 22,
   "metadata": {},
   "outputs": [
    {
     "name": "stdout",
     "output_type": "stream",
     "text": [
      " * postgresql://student@/final_project\n",
      "61 rows affected.\n"
     ]
    },
    {
     "data": {
      "text/plain": [
       "[]"
      ]
     },
     "execution_count": 22,
     "metadata": {},
     "output_type": "execute_result"
    }
   ],
   "source": [
    "%%sql\n",
    "INSERT INTO department (department_name, department_number)\n",
    "SELECT DISTINCT department_name, department_number\n",
    "FROM CHECKBOOK\n",
    "ORDER BY department_number;"
   ]
  },
  {
   "cell_type": "code",
   "execution_count": 23,
   "metadata": {},
   "outputs": [
    {
     "name": "stdout",
     "output_type": "stream",
     "text": [
      " * postgresql://student@/final_project\n",
      "10 rows affected.\n"
     ]
    },
    {
     "data": {
      "text/html": [
       "<table>\n",
       "    <thead>\n",
       "        <tr>\n",
       "            <th>key</th>\n",
       "            <th>department_name</th>\n",
       "            <th>department_number</th>\n",
       "        </tr>\n",
       "    </thead>\n",
       "    <tbody>\n",
       "        <tr>\n",
       "            <td>1</td>\n",
       "            <td>AGING</td>\n",
       "            <td>2</td>\n",
       "        </tr>\n",
       "        <tr>\n",
       "            <td>2</td>\n",
       "            <td>AIRPORTS</td>\n",
       "            <td>4</td>\n",
       "        </tr>\n",
       "        <tr>\n",
       "            <td>3</td>\n",
       "            <td>ANIMAL SERVICES</td>\n",
       "            <td>6</td>\n",
       "        </tr>\n",
       "        <tr>\n",
       "            <td>4</td>\n",
       "            <td>BUILDING AND SAFETY</td>\n",
       "            <td>8</td>\n",
       "        </tr>\n",
       "        <tr>\n",
       "            <td>5</td>\n",
       "            <td>NON_DEPARTMENTAL</td>\n",
       "            <td>8</td>\n",
       "        </tr>\n",
       "        <tr>\n",
       "            <td>6</td>\n",
       "            <td>NON_DEPARTMENTAL</td>\n",
       "            <td>10</td>\n",
       "        </tr>\n",
       "        <tr>\n",
       "            <td>7</td>\n",
       "            <td>CITY ADMINISTRATIVE OFFICER</td>\n",
       "            <td>10</td>\n",
       "        </tr>\n",
       "        <tr>\n",
       "            <td>8</td>\n",
       "            <td>PUBLIC ACCOUNTABILITY</td>\n",
       "            <td>11</td>\n",
       "        </tr>\n",
       "        <tr>\n",
       "            <td>9</td>\n",
       "            <td>CITY ATTORNEY</td>\n",
       "            <td>12</td>\n",
       "        </tr>\n",
       "        <tr>\n",
       "            <td>10</td>\n",
       "            <td>CANNABIS REGULATION</td>\n",
       "            <td>13</td>\n",
       "        </tr>\n",
       "    </tbody>\n",
       "</table>"
      ],
      "text/plain": [
       "[(1, 'AGING', 2),\n",
       " (2, 'AIRPORTS', 4),\n",
       " (3, 'ANIMAL SERVICES', 6),\n",
       " (4, 'BUILDING AND SAFETY', 8),\n",
       " (5, 'NON_DEPARTMENTAL', 8),\n",
       " (6, 'NON_DEPARTMENTAL', 10),\n",
       " (7, 'CITY ADMINISTRATIVE OFFICER', 10),\n",
       " (8, 'PUBLIC ACCOUNTABILITY', 11),\n",
       " (9, 'CITY ATTORNEY', 12),\n",
       " (10, 'CANNABIS REGULATION', 13)]"
      ]
     },
     "execution_count": 23,
     "metadata": {},
     "output_type": "execute_result"
    }
   ],
   "source": [
    "%%sql\n",
    "select * from department limit 10;"
   ]
  },
  {
   "cell_type": "markdown",
   "metadata": {},
   "source": [
    "add a new identifier (surrogate key) back to the fact table"
   ]
  },
  {
   "cell_type": "code",
   "execution_count": 24,
   "metadata": {},
   "outputs": [
    {
     "name": "stdout",
     "output_type": "stream",
     "text": [
      " * postgresql://student@/final_project\n",
      "Done.\n"
     ]
    },
    {
     "data": {
      "text/plain": [
       "[]"
      ]
     },
     "execution_count": 24,
     "metadata": {},
     "output_type": "execute_result"
    }
   ],
   "source": [
    "%%sql\n",
    "ALTER TABLE checkbook\n",
    "ADD COLUMN department_key INTEGER,\n",
    "ADD CONSTRAINT fk_department\n",
    "    FOREIGN KEY (department_key)\n",
    "    REFERENCES department (key)"
   ]
  },
  {
   "cell_type": "markdown",
   "metadata": {},
   "source": [
    "Now we update the *department_key* in the fact table with the values from ***department*** dimension table"
   ]
  },
  {
   "cell_type": "code",
   "execution_count": 25,
   "metadata": {},
   "outputs": [
    {
     "name": "stdout",
     "output_type": "stream",
     "text": [
      " * postgresql://student@/final_project\n",
      "700145 rows affected.\n"
     ]
    },
    {
     "data": {
      "text/plain": [
       "[]"
      ]
     },
     "execution_count": 25,
     "metadata": {},
     "output_type": "execute_result"
    }
   ],
   "source": [
    "%%sql\n",
    "UPDATE checkbook as c\n",
    "SET department_key = d.key\n",
    "FROM department AS d\n",
    "WHERE c.department_name = d.department_name\n",
    "    and c.department_number = d.department_number"
   ]
  },
  {
   "cell_type": "markdown",
   "metadata": {},
   "source": [
    "Now we can drop the attributes *department_name*, *department_number* from the fact table"
   ]
  },
  {
   "cell_type": "code",
   "execution_count": 26,
   "metadata": {},
   "outputs": [
    {
     "name": "stdout",
     "output_type": "stream",
     "text": [
      " * postgresql://student@/final_project\n",
      "Done.\n"
     ]
    },
    {
     "data": {
      "text/plain": [
       "[]"
      ]
     },
     "execution_count": 26,
     "metadata": {},
     "output_type": "execute_result"
    }
   ],
   "source": [
    "%%sql\n",
    "ALTER TABLE checkbook\n",
    "DROP COLUMN department_name,\n",
    "DROP COLUMN department_number"
   ]
  },
  {
   "cell_type": "markdown",
   "metadata": {
    "tags": []
   },
   "source": [
    "##### Create ***fund*** table, as a dimension table"
   ]
  },
  {
   "cell_type": "code",
   "execution_count": 27,
   "metadata": {},
   "outputs": [
    {
     "name": "stdout",
     "output_type": "stream",
     "text": [
      " * postgresql://student@/final_project\n",
      "10 rows affected.\n"
     ]
    },
    {
     "data": {
      "text/html": [
       "<table>\n",
       "    <thead>\n",
       "        <tr>\n",
       "            <th>fund_group_name</th>\n",
       "            <th>fund_type</th>\n",
       "            <th>fund_name</th>\n",
       "            <th>fund</th>\n",
       "        </tr>\n",
       "    </thead>\n",
       "    <tbody>\n",
       "        <tr>\n",
       "            <td>GOVERNMENTAL</td>\n",
       "            <td>GENERAL FUND</td>\n",
       "            <td>GENERAL FUND (GENERAL BUDGET)</td>\n",
       "            <td>100</td>\n",
       "        </tr>\n",
       "        <tr>\n",
       "            <td>GOVERNMENTAL</td>\n",
       "            <td>GENERAL FUND</td>\n",
       "            <td>HCID GENERAL FUND PROGRAM</td>\n",
       "            <td>10A</td>\n",
       "        </tr>\n",
       "        <tr>\n",
       "            <td>GOVERNMENTAL</td>\n",
       "            <td>GENERAL FUND</td>\n",
       "            <td>GANG INJUNCTION CURFEW SETTLEMENT</td>\n",
       "            <td>10B</td>\n",
       "        </tr>\n",
       "        <tr>\n",
       "            <td>GOVERNMENTAL</td>\n",
       "            <td>GENERAL FUND</td>\n",
       "            <td>LA RISE - CITY GF HOMELESS PROGRAM</td>\n",
       "            <td>10C</td>\n",
       "        </tr>\n",
       "        <tr>\n",
       "            <td>GOVERNMENTAL</td>\n",
       "            <td>GENERAL FUND</td>\n",
       "            <td>ACCESSIBLE HOUSING FUND</td>\n",
       "            <td>10D</td>\n",
       "        </tr>\n",
       "        <tr>\n",
       "            <td>GOVERNMENTAL</td>\n",
       "            <td>CAPITAL PROJECTS</td>\n",
       "            <td>GOB SERIES 2002A ANIM SH CONST</td>\n",
       "            <td>15L</td>\n",
       "        </tr>\n",
       "        <tr>\n",
       "            <td>GOVERNMENTAL</td>\n",
       "            <td>CAPITAL PROJECTS</td>\n",
       "            <td>GOB SERIES 2003A ANIM SH CONST</td>\n",
       "            <td>15S</td>\n",
       "        </tr>\n",
       "        <tr>\n",
       "            <td>GOVERNMENTAL</td>\n",
       "            <td>CAPITAL PROJECTS</td>\n",
       "            <td>GOB SERIES 2003A FIRE/PR CONST</td>\n",
       "            <td>15T</td>\n",
       "        </tr>\n",
       "        <tr>\n",
       "            <td>GOVERNMENTAL</td>\n",
       "            <td>CAPITAL PROJECTS</td>\n",
       "            <td>GOB SERIES 2005A FIRE/PARA CON</td>\n",
       "            <td>16D</td>\n",
       "        </tr>\n",
       "        <tr>\n",
       "            <td>GOVERNMENTAL</td>\n",
       "            <td>CAPITAL PROJECTS</td>\n",
       "            <td>GOB SERIES 2006A FIRE/PARA CON</td>\n",
       "            <td>16J</td>\n",
       "        </tr>\n",
       "    </tbody>\n",
       "</table>"
      ],
      "text/plain": [
       "[('GOVERNMENTAL', 'GENERAL FUND', 'GENERAL FUND (GENERAL BUDGET)', '100'),\n",
       " ('GOVERNMENTAL', 'GENERAL FUND', 'HCID GENERAL FUND PROGRAM', '10A'),\n",
       " ('GOVERNMENTAL', 'GENERAL FUND', 'GANG INJUNCTION CURFEW SETTLEMENT', '10B'),\n",
       " ('GOVERNMENTAL', 'GENERAL FUND', 'LA RISE - CITY GF HOMELESS PROGRAM', '10C'),\n",
       " ('GOVERNMENTAL', 'GENERAL FUND', 'ACCESSIBLE HOUSING FUND', '10D'),\n",
       " ('GOVERNMENTAL', 'CAPITAL PROJECTS', 'GOB SERIES 2002A ANIM SH CONST', '15L'),\n",
       " ('GOVERNMENTAL', 'CAPITAL PROJECTS', 'GOB SERIES 2003A ANIM SH CONST', '15S'),\n",
       " ('GOVERNMENTAL', 'CAPITAL PROJECTS', 'GOB SERIES 2003A FIRE/PR CONST', '15T'),\n",
       " ('GOVERNMENTAL', 'CAPITAL PROJECTS', 'GOB SERIES 2005A FIRE/PARA CON', '16D'),\n",
       " ('GOVERNMENTAL', 'CAPITAL PROJECTS', 'GOB SERIES 2006A FIRE/PARA CON', '16J')]"
      ]
     },
     "execution_count": 27,
     "metadata": {},
     "output_type": "execute_result"
    }
   ],
   "source": [
    "%%sql\n",
    "SELECT distinct fund_group_name, fund_type, fund_name, fund\n",
    "FROM checkbook\n",
    "ORDER BY fund\n",
    "LIMIT 10;"
   ]
  },
  {
   "cell_type": "code",
   "execution_count": 28,
   "metadata": {},
   "outputs": [
    {
     "name": "stdout",
     "output_type": "stream",
     "text": [
      " * postgresql://student@/final_project\n",
      "Done.\n",
      "Done.\n"
     ]
    },
    {
     "data": {
      "text/plain": [
       "[]"
      ]
     },
     "execution_count": 28,
     "metadata": {},
     "output_type": "execute_result"
    }
   ],
   "source": [
    "%%sql\n",
    "DROP TABLE IF EXISTS fund;\n",
    "\n",
    "CREATE TABLE fund(\n",
    "    key                                 SERIAL                          PRIMARY KEY,\n",
    "    fund_group_name          VARCHAR,\n",
    "    fund_type                       VARCHAR,\n",
    "    fund_name                      VARCHAR,\n",
    "    fund                                VARCHAR\n",
    ")"
   ]
  },
  {
   "cell_type": "code",
   "execution_count": 29,
   "metadata": {},
   "outputs": [
    {
     "name": "stdout",
     "output_type": "stream",
     "text": [
      " * postgresql://student@/final_project\n",
      "306 rows affected.\n"
     ]
    },
    {
     "data": {
      "text/plain": [
       "[]"
      ]
     },
     "execution_count": 29,
     "metadata": {},
     "output_type": "execute_result"
    }
   ],
   "source": [
    "%%sql\n",
    "INSERT INTO fund (fund_group_name, fund_type, fund_name, fund)\n",
    "SELECT DISTINCT fund_group_name, fund_type, fund_name, fund\n",
    "FROM checkbook\n",
    "ORDER BY fund;"
   ]
  },
  {
   "cell_type": "code",
   "execution_count": 30,
   "metadata": {},
   "outputs": [
    {
     "name": "stdout",
     "output_type": "stream",
     "text": [
      " * postgresql://student@/final_project\n",
      "10 rows affected.\n"
     ]
    },
    {
     "data": {
      "text/html": [
       "<table>\n",
       "    <thead>\n",
       "        <tr>\n",
       "            <th>key</th>\n",
       "            <th>fund_group_name</th>\n",
       "            <th>fund_type</th>\n",
       "            <th>fund_name</th>\n",
       "            <th>fund</th>\n",
       "        </tr>\n",
       "    </thead>\n",
       "    <tbody>\n",
       "        <tr>\n",
       "            <td>1</td>\n",
       "            <td>GOVERNMENTAL</td>\n",
       "            <td>GENERAL FUND</td>\n",
       "            <td>GENERAL FUND (GENERAL BUDGET)</td>\n",
       "            <td>100</td>\n",
       "        </tr>\n",
       "        <tr>\n",
       "            <td>2</td>\n",
       "            <td>GOVERNMENTAL</td>\n",
       "            <td>GENERAL FUND</td>\n",
       "            <td>HCID GENERAL FUND PROGRAM</td>\n",
       "            <td>10A</td>\n",
       "        </tr>\n",
       "        <tr>\n",
       "            <td>3</td>\n",
       "            <td>GOVERNMENTAL</td>\n",
       "            <td>GENERAL FUND</td>\n",
       "            <td>GANG INJUNCTION CURFEW SETTLEMENT</td>\n",
       "            <td>10B</td>\n",
       "        </tr>\n",
       "        <tr>\n",
       "            <td>4</td>\n",
       "            <td>GOVERNMENTAL</td>\n",
       "            <td>GENERAL FUND</td>\n",
       "            <td>LA RISE - CITY GF HOMELESS PROGRAM</td>\n",
       "            <td>10C</td>\n",
       "        </tr>\n",
       "        <tr>\n",
       "            <td>5</td>\n",
       "            <td>GOVERNMENTAL</td>\n",
       "            <td>GENERAL FUND</td>\n",
       "            <td>ACCESSIBLE HOUSING FUND</td>\n",
       "            <td>10D</td>\n",
       "        </tr>\n",
       "        <tr>\n",
       "            <td>6</td>\n",
       "            <td>GOVERNMENTAL</td>\n",
       "            <td>CAPITAL PROJECTS</td>\n",
       "            <td>GOB SERIES 2002A ANIM SH CONST</td>\n",
       "            <td>15L</td>\n",
       "        </tr>\n",
       "        <tr>\n",
       "            <td>7</td>\n",
       "            <td>GOVERNMENTAL</td>\n",
       "            <td>CAPITAL PROJECTS</td>\n",
       "            <td>GOB SERIES 2003A ANIM SH CONST</td>\n",
       "            <td>15S</td>\n",
       "        </tr>\n",
       "        <tr>\n",
       "            <td>8</td>\n",
       "            <td>GOVERNMENTAL</td>\n",
       "            <td>CAPITAL PROJECTS</td>\n",
       "            <td>GOB SERIES 2003A FIRE/PR CONST</td>\n",
       "            <td>15T</td>\n",
       "        </tr>\n",
       "        <tr>\n",
       "            <td>9</td>\n",
       "            <td>GOVERNMENTAL</td>\n",
       "            <td>CAPITAL PROJECTS</td>\n",
       "            <td>GOB SERIES 2005A FIRE/PARA CON</td>\n",
       "            <td>16D</td>\n",
       "        </tr>\n",
       "        <tr>\n",
       "            <td>10</td>\n",
       "            <td>GOVERNMENTAL</td>\n",
       "            <td>CAPITAL PROJECTS</td>\n",
       "            <td>GOB SERIES 2006A FIRE/PARA CON</td>\n",
       "            <td>16J</td>\n",
       "        </tr>\n",
       "    </tbody>\n",
       "</table>"
      ],
      "text/plain": [
       "[(1, 'GOVERNMENTAL', 'GENERAL FUND', 'GENERAL FUND (GENERAL BUDGET)', '100'),\n",
       " (2, 'GOVERNMENTAL', 'GENERAL FUND', 'HCID GENERAL FUND PROGRAM', '10A'),\n",
       " (3, 'GOVERNMENTAL', 'GENERAL FUND', 'GANG INJUNCTION CURFEW SETTLEMENT', '10B'),\n",
       " (4, 'GOVERNMENTAL', 'GENERAL FUND', 'LA RISE - CITY GF HOMELESS PROGRAM', '10C'),\n",
       " (5, 'GOVERNMENTAL', 'GENERAL FUND', 'ACCESSIBLE HOUSING FUND', '10D'),\n",
       " (6, 'GOVERNMENTAL', 'CAPITAL PROJECTS', 'GOB SERIES 2002A ANIM SH CONST', '15L'),\n",
       " (7, 'GOVERNMENTAL', 'CAPITAL PROJECTS', 'GOB SERIES 2003A ANIM SH CONST', '15S'),\n",
       " (8, 'GOVERNMENTAL', 'CAPITAL PROJECTS', 'GOB SERIES 2003A FIRE/PR CONST', '15T'),\n",
       " (9, 'GOVERNMENTAL', 'CAPITAL PROJECTS', 'GOB SERIES 2005A FIRE/PARA CON', '16D'),\n",
       " (10, 'GOVERNMENTAL', 'CAPITAL PROJECTS', 'GOB SERIES 2006A FIRE/PARA CON', '16J')]"
      ]
     },
     "execution_count": 30,
     "metadata": {},
     "output_type": "execute_result"
    }
   ],
   "source": [
    "%%sql\n",
    "select * from fund limit 10;"
   ]
  },
  {
   "cell_type": "markdown",
   "metadata": {},
   "source": [
    "add a new identifier (surrogate key) back to the fact table"
   ]
  },
  {
   "cell_type": "code",
   "execution_count": 31,
   "metadata": {},
   "outputs": [
    {
     "name": "stdout",
     "output_type": "stream",
     "text": [
      " * postgresql://student@/final_project\n",
      "Done.\n"
     ]
    },
    {
     "data": {
      "text/plain": [
       "[]"
      ]
     },
     "execution_count": 31,
     "metadata": {},
     "output_type": "execute_result"
    }
   ],
   "source": [
    "%%sql\n",
    "ALTER TABLE checkbook\n",
    "ADD COLUMN fund_key INTEGER,\n",
    "ADD CONSTRAINT fk_fund\n",
    "    FOREIGN KEY (fund_key)\n",
    "    REFERENCES fund (key)"
   ]
  },
  {
   "cell_type": "markdown",
   "metadata": {},
   "source": [
    "Now we update the *fund_key* in the fact table with the values from ***fund*** dimension table"
   ]
  },
  {
   "cell_type": "code",
   "execution_count": 32,
   "metadata": {},
   "outputs": [
    {
     "name": "stdout",
     "output_type": "stream",
     "text": [
      " * postgresql://student@/final_project\n",
      "700145 rows affected.\n"
     ]
    },
    {
     "data": {
      "text/plain": [
       "[]"
      ]
     },
     "execution_count": 32,
     "metadata": {},
     "output_type": "execute_result"
    }
   ],
   "source": [
    "%%sql\n",
    "UPDATE checkbook as c\n",
    "SET fund_key = f.key\n",
    "FROM fund AS f\n",
    "WHERE c.fund_group_name = f.fund_group_name\n",
    "    and c.fund_type = f.fund_type\n",
    "    and c.fund_name = f.fund_name    \n",
    "    and c.fund = f.fund    "
   ]
  },
  {
   "cell_type": "markdown",
   "metadata": {},
   "source": [
    "Now we can drop the attributes *fund_group_name*, *fund_type*, *fund_name*, *fund* from the fact table"
   ]
  },
  {
   "cell_type": "code",
   "execution_count": 33,
   "metadata": {},
   "outputs": [
    {
     "name": "stdout",
     "output_type": "stream",
     "text": [
      " * postgresql://student@/final_project\n",
      "Done.\n"
     ]
    },
    {
     "data": {
      "text/plain": [
       "[]"
      ]
     },
     "execution_count": 33,
     "metadata": {},
     "output_type": "execute_result"
    }
   ],
   "source": [
    "%%sql\n",
    "ALTER TABLE checkbook\n",
    "DROP COLUMN fund_group_name,\n",
    "DROP COLUMN fund_type,\n",
    "DROP COLUMN fund_name,\n",
    "DROP COLUMN fund"
   ]
  },
  {
   "cell_type": "markdown",
   "metadata": {
    "tags": []
   },
   "source": [
    "##### Create ***vendor*** table, as a dimension table"
   ]
  },
  {
   "cell_type": "code",
   "execution_count": 34,
   "metadata": {},
   "outputs": [
    {
     "name": "stdout",
     "output_type": "stream",
     "text": [
      " * postgresql://student@/final_project\n",
      "10 rows affected.\n"
     ]
    },
    {
     "data": {
      "text/html": [
       "<table>\n",
       "    <thead>\n",
       "        <tr>\n",
       "            <th>vendor_name</th>\n",
       "            <th>vendor_id</th>\n",
       "            <th>supplier_city</th>\n",
       "            <th>supplier_country</th>\n",
       "        </tr>\n",
       "    </thead>\n",
       "    <tbody>\n",
       "        <tr>\n",
       "            <td>(LA) R.S. HUGHES COMPANY, INC</td>\n",
       "            <td>57772002</td>\n",
       "            <td>PACOIMA</td>\n",
       "            <td>USA</td>\n",
       "        </tr>\n",
       "        <tr>\n",
       "            <td>10-8 RETROFIT</td>\n",
       "            <td>42347</td>\n",
       "            <td>ONTARIO</td>\n",
       "            <td>US</td>\n",
       "        </tr>\n",
       "        <tr>\n",
       "            <td>100 OCEANGATE LLC</td>\n",
       "            <td>VC0000025639</td>\n",
       "            <td>None</td>\n",
       "            <td>None</td>\n",
       "        </tr>\n",
       "        <tr>\n",
       "            <td>1000 VERMONT AVENUE SPE LLC</td>\n",
       "            <td>VC0000024143</td>\n",
       "            <td>None</td>\n",
       "            <td>None</td>\n",
       "        </tr>\n",
       "        <tr>\n",
       "            <td>1000 WEST 6TH STREET PARTNERS LLC</td>\n",
       "            <td>100003312</td>\n",
       "            <td>None</td>\n",
       "            <td>None</td>\n",
       "        </tr>\n",
       "        <tr>\n",
       "            <td>101 ENTERPRISES FOUNDATION</td>\n",
       "            <td>100027187</td>\n",
       "            <td>None</td>\n",
       "            <td>None</td>\n",
       "        </tr>\n",
       "        <tr>\n",
       "            <td>101 PIPE &amp; CASING COMPANY</td>\n",
       "            <td>48985007</td>\n",
       "            <td>AGOURA HILLS</td>\n",
       "            <td>USA</td>\n",
       "        </tr>\n",
       "        <tr>\n",
       "            <td>104 N. AVENUE 56</td>\n",
       "            <td>VC0000024748</td>\n",
       "            <td>None</td>\n",
       "            <td>None</td>\n",
       "        </tr>\n",
       "        <tr>\n",
       "            <td>10TH COUNCIL DISTRICT WOMEN&#x27;S STEERING COMMITTEE</td>\n",
       "            <td>VC0000034612</td>\n",
       "            <td>None</td>\n",
       "            <td>None</td>\n",
       "        </tr>\n",
       "        <tr>\n",
       "            <td>10TH COUNCIL DISTRICT WSC</td>\n",
       "            <td>113421</td>\n",
       "            <td>LOS ANGELES</td>\n",
       "            <td>US</td>\n",
       "        </tr>\n",
       "    </tbody>\n",
       "</table>"
      ],
      "text/plain": [
       "[('(LA) R.S. HUGHES COMPANY, INC', '57772002', 'PACOIMA', 'USA'),\n",
       " ('10-8 RETROFIT', '42347', 'ONTARIO', 'US'),\n",
       " ('100 OCEANGATE LLC', 'VC0000025639', None, None),\n",
       " ('1000 VERMONT AVENUE SPE LLC', 'VC0000024143', None, None),\n",
       " ('1000 WEST 6TH STREET PARTNERS LLC', '100003312', None, None),\n",
       " ('101 ENTERPRISES FOUNDATION', '100027187', None, None),\n",
       " ('101 PIPE & CASING COMPANY', '48985007', 'AGOURA HILLS', 'USA'),\n",
       " ('104 N. AVENUE 56', 'VC0000024748', None, None),\n",
       " (\"10TH COUNCIL DISTRICT WOMEN'S STEERING COMMITTEE\", 'VC0000034612', None, None),\n",
       " ('10TH COUNCIL DISTRICT WSC', '113421', 'LOS ANGELES', 'US')]"
      ]
     },
     "execution_count": 34,
     "metadata": {},
     "output_type": "execute_result"
    }
   ],
   "source": [
    "%%sql\n",
    "SELECT DISTINCT vendor_name, vendor_id, supplier_city, supplier_country\n",
    "FROM checkbook\n",
    "ORDER BY vendor_name\n",
    "LIMIT 10;"
   ]
  },
  {
   "cell_type": "code",
   "execution_count": 35,
   "metadata": {},
   "outputs": [
    {
     "name": "stdout",
     "output_type": "stream",
     "text": [
      " * postgresql://student@/final_project\n",
      "Done.\n",
      "Done.\n"
     ]
    },
    {
     "data": {
      "text/plain": [
       "[]"
      ]
     },
     "execution_count": 35,
     "metadata": {},
     "output_type": "execute_result"
    }
   ],
   "source": [
    "%%sql\n",
    "DROP TABLE IF EXISTS vendor;\n",
    "\n",
    "create table vendor (\n",
    "    key                                     SERIAL              PRIMARY KEY,\n",
    "    vendor_name                 VARCHAR,\n",
    "    vendor_id                       VARCHAR             NOT NULL,\n",
    "    supplier_city                   VARCHAR,\n",
    "    supplier_country            VARCHAR(3)\n",
    ")"
   ]
  },
  {
   "cell_type": "code",
   "execution_count": 36,
   "metadata": {},
   "outputs": [
    {
     "name": "stdout",
     "output_type": "stream",
     "text": [
      " * postgresql://student@/final_project\n",
      "10950 rows affected.\n"
     ]
    },
    {
     "data": {
      "text/plain": [
       "[]"
      ]
     },
     "execution_count": 36,
     "metadata": {},
     "output_type": "execute_result"
    }
   ],
   "source": [
    "%%sql\n",
    "INSERT INTO vendor (vendor_name, vendor_id, supplier_city, supplier_country)\n",
    "SELECT DISTINCT vendor_name, vendor_id, supplier_city, supplier_country\n",
    "FROM checkbook\n",
    "ORDER BY vendor_id;"
   ]
  },
  {
   "cell_type": "code",
   "execution_count": 37,
   "metadata": {},
   "outputs": [
    {
     "name": "stdout",
     "output_type": "stream",
     "text": [
      " * postgresql://student@/final_project\n",
      "10 rows affected.\n"
     ]
    },
    {
     "data": {
      "text/html": [
       "<table>\n",
       "    <thead>\n",
       "        <tr>\n",
       "            <th>key</th>\n",
       "            <th>vendor_name</th>\n",
       "            <th>vendor_id</th>\n",
       "            <th>supplier_city</th>\n",
       "            <th>supplier_country</th>\n",
       "        </tr>\n",
       "    </thead>\n",
       "    <tbody>\n",
       "        <tr>\n",
       "            <td>1</td>\n",
       "            <td>AARON GREENFIELD</td>\n",
       "            <td>07SJ59</td>\n",
       "            <td>None</td>\n",
       "            <td>None</td>\n",
       "        </tr>\n",
       "        <tr>\n",
       "            <td>2</td>\n",
       "            <td>AARON KOESTER</td>\n",
       "            <td>07SJ59</td>\n",
       "            <td>None</td>\n",
       "            <td>None</td>\n",
       "        </tr>\n",
       "        <tr>\n",
       "            <td>3</td>\n",
       "            <td>AARON MARK GROSKY</td>\n",
       "            <td>07SJ59</td>\n",
       "            <td>None</td>\n",
       "            <td>None</td>\n",
       "        </tr>\n",
       "        <tr>\n",
       "            <td>4</td>\n",
       "            <td>AARON MICHAEL HARRISON</td>\n",
       "            <td>07SJ59</td>\n",
       "            <td>None</td>\n",
       "            <td>None</td>\n",
       "        </tr>\n",
       "        <tr>\n",
       "            <td>5</td>\n",
       "            <td>AARON WILLIAMS</td>\n",
       "            <td>07SJ59</td>\n",
       "            <td>None</td>\n",
       "            <td>None</td>\n",
       "        </tr>\n",
       "        <tr>\n",
       "            <td>6</td>\n",
       "            <td>ADAM BARON</td>\n",
       "            <td>07SJ59</td>\n",
       "            <td>None</td>\n",
       "            <td>None</td>\n",
       "        </tr>\n",
       "        <tr>\n",
       "            <td>7</td>\n",
       "            <td>ADAN ROJAS ROJAS</td>\n",
       "            <td>07SJ59</td>\n",
       "            <td>None</td>\n",
       "            <td>None</td>\n",
       "        </tr>\n",
       "        <tr>\n",
       "            <td>8</td>\n",
       "            <td>ADRIAN M NEWCOMB</td>\n",
       "            <td>07SJ59</td>\n",
       "            <td>None</td>\n",
       "            <td>None</td>\n",
       "        </tr>\n",
       "        <tr>\n",
       "            <td>9</td>\n",
       "            <td>AGUSTIN MEDINA</td>\n",
       "            <td>07SJ59</td>\n",
       "            <td>None</td>\n",
       "            <td>None</td>\n",
       "        </tr>\n",
       "        <tr>\n",
       "            <td>10</td>\n",
       "            <td>AHMAD EL TORJMAN</td>\n",
       "            <td>07SJ59</td>\n",
       "            <td>None</td>\n",
       "            <td>None</td>\n",
       "        </tr>\n",
       "    </tbody>\n",
       "</table>"
      ],
      "text/plain": [
       "[(1, 'AARON GREENFIELD', '07SJ59', None, None),\n",
       " (2, 'AARON KOESTER', '07SJ59', None, None),\n",
       " (3, 'AARON MARK GROSKY', '07SJ59', None, None),\n",
       " (4, 'AARON MICHAEL HARRISON', '07SJ59', None, None),\n",
       " (5, 'AARON WILLIAMS', '07SJ59', None, None),\n",
       " (6, 'ADAM BARON', '07SJ59', None, None),\n",
       " (7, 'ADAN ROJAS ROJAS', '07SJ59', None, None),\n",
       " (8, 'ADRIAN M NEWCOMB', '07SJ59', None, None),\n",
       " (9, 'AGUSTIN MEDINA', '07SJ59', None, None),\n",
       " (10, 'AHMAD EL TORJMAN', '07SJ59', None, None)]"
      ]
     },
     "execution_count": 37,
     "metadata": {},
     "output_type": "execute_result"
    }
   ],
   "source": [
    "%%sql\n",
    "select * from vendor limit 10;"
   ]
  },
  {
   "cell_type": "markdown",
   "metadata": {},
   "source": [
    "add a new identifier (surrogate key) back to the fact table"
   ]
  },
  {
   "cell_type": "code",
   "execution_count": 38,
   "metadata": {},
   "outputs": [
    {
     "name": "stdout",
     "output_type": "stream",
     "text": [
      " * postgresql://student@/final_project\n",
      "Done.\n"
     ]
    },
    {
     "data": {
      "text/plain": [
       "[]"
      ]
     },
     "execution_count": 38,
     "metadata": {},
     "output_type": "execute_result"
    }
   ],
   "source": [
    "%%sql\n",
    "ALTER TABLE checkbook\n",
    "ADD COLUMN vendor_key INTEGER,\n",
    "ADD CONSTRAINT fk_vendor\n",
    "    FOREIGN KEY (vendor_key)\n",
    "    REFERENCES vendor (key)"
   ]
  },
  {
   "cell_type": "markdown",
   "metadata": {},
   "source": [
    "Now we update the *vendor_key* in the fact table with the values from ***vendor*** dimension table based on the vendor_name & vendor_id"
   ]
  },
  {
   "cell_type": "code",
   "execution_count": 39,
   "metadata": {},
   "outputs": [
    {
     "name": "stdout",
     "output_type": "stream",
     "text": [
      " * postgresql://student@/final_project\n",
      "700145 rows affected.\n"
     ]
    },
    {
     "data": {
      "text/plain": [
       "[]"
      ]
     },
     "execution_count": 39,
     "metadata": {},
     "output_type": "execute_result"
    }
   ],
   "source": [
    "%%sql\n",
    "UPDATE checkbook as c\n",
    "SET vendor_key = v.key\n",
    "FROM vendor AS v\n",
    "WHERE c.vendor_name = v.vendor_name \n",
    "    and c.vendor_id = v.vendor_id"
   ]
  },
  {
   "cell_type": "markdown",
   "metadata": {},
   "source": [
    "Now we can drop the attributes *vendor_name*, *vendor_id*, *supplier_city*, *supplier_country* from the fact table"
   ]
  },
  {
   "cell_type": "code",
   "execution_count": 40,
   "metadata": {},
   "outputs": [
    {
     "name": "stdout",
     "output_type": "stream",
     "text": [
      " * postgresql://student@/final_project\n",
      "Done.\n"
     ]
    },
    {
     "data": {
      "text/plain": [
       "[]"
      ]
     },
     "execution_count": 40,
     "metadata": {},
     "output_type": "execute_result"
    }
   ],
   "source": [
    "%%sql\n",
    "ALTER TABLE checkbook\n",
    "DROP COLUMN vendor_name,\n",
    "DROP COLUMN vendor_id,\n",
    "DROP COLUMN supplier_city,\n",
    "DROP COLUMN supplier_country"
   ]
  },
  {
   "cell_type": "markdown",
   "metadata": {
    "tags": []
   },
   "source": [
    "##### Create ***time*** table, as a dimension table"
   ]
  },
  {
   "cell_type": "code",
   "execution_count": 41,
   "metadata": {},
   "outputs": [
    {
     "name": "stdout",
     "output_type": "stream",
     "text": [
      " * postgresql://student@/final_project\n",
      "Done.\n",
      "Done.\n"
     ]
    },
    {
     "data": {
      "text/plain": [
       "[]"
      ]
     },
     "execution_count": 41,
     "metadata": {},
     "output_type": "execute_result"
    }
   ],
   "source": [
    "%%sql\n",
    "DROP TABLE IF EXISTS TIME;\n",
    "\n",
    "CREATE TABLE time (\n",
    "    key                                         SERIAL                  PRIMARY KEY,\n",
    "    transaction_date                    DATE,\n",
    "    fiscal_month_number             INTEGER,\n",
    "    fiscal_year_quarter                 VARCHAR,\n",
    "    inv_date                                DATE,\n",
    "    po_date                                 DATE\n",
    ")"
   ]
  },
  {
   "cell_type": "code",
   "execution_count": 42,
   "metadata": {},
   "outputs": [
    {
     "name": "stdout",
     "output_type": "stream",
     "text": [
      " * postgresql://student@/final_project\n",
      "114917 rows affected.\n"
     ]
    },
    {
     "data": {
      "text/plain": [
       "[]"
      ]
     },
     "execution_count": 42,
     "metadata": {},
     "output_type": "execute_result"
    }
   ],
   "source": [
    "%%sql\n",
    "INSERT INTO time (transaction_date, fiscal_month_number, fiscal_year_quarter, inv_date, po_date)\n",
    "SELECT DISTINCT transaction_date, fiscal_month_number, fiscal_year_quarter, inv_date, po_date\n",
    "FROM checkbook\n",
    "ORDER BY fiscal_month_number;"
   ]
  },
  {
   "cell_type": "code",
   "execution_count": 43,
   "metadata": {},
   "outputs": [
    {
     "name": "stdout",
     "output_type": "stream",
     "text": [
      " * postgresql://student@/final_project\n",
      "10 rows affected.\n"
     ]
    },
    {
     "data": {
      "text/html": [
       "<table>\n",
       "    <thead>\n",
       "        <tr>\n",
       "            <th>key</th>\n",
       "            <th>transaction_date</th>\n",
       "            <th>fiscal_month_number</th>\n",
       "            <th>fiscal_year_quarter</th>\n",
       "            <th>inv_date</th>\n",
       "            <th>po_date</th>\n",
       "        </tr>\n",
       "    </thead>\n",
       "    <tbody>\n",
       "        <tr>\n",
       "            <td>1</td>\n",
       "            <td>2019-07-01</td>\n",
       "            <td>1</td>\n",
       "            <td>2020-01</td>\n",
       "            <td>2018-07-23</td>\n",
       "            <td>None</td>\n",
       "        </tr>\n",
       "        <tr>\n",
       "            <td>2</td>\n",
       "            <td>2019-07-01</td>\n",
       "            <td>1</td>\n",
       "            <td>2020-01</td>\n",
       "            <td>2019-02-08</td>\n",
       "            <td>None</td>\n",
       "        </tr>\n",
       "        <tr>\n",
       "            <td>3</td>\n",
       "            <td>2019-07-01</td>\n",
       "            <td>1</td>\n",
       "            <td>2020-01</td>\n",
       "            <td>2019-03-20</td>\n",
       "            <td>None</td>\n",
       "        </tr>\n",
       "        <tr>\n",
       "            <td>4</td>\n",
       "            <td>2019-07-01</td>\n",
       "            <td>1</td>\n",
       "            <td>2020-01</td>\n",
       "            <td>2019-03-21</td>\n",
       "            <td>None</td>\n",
       "        </tr>\n",
       "        <tr>\n",
       "            <td>5</td>\n",
       "            <td>2019-07-01</td>\n",
       "            <td>1</td>\n",
       "            <td>2020-01</td>\n",
       "            <td>2019-03-29</td>\n",
       "            <td>None</td>\n",
       "        </tr>\n",
       "        <tr>\n",
       "            <td>6</td>\n",
       "            <td>2019-07-01</td>\n",
       "            <td>1</td>\n",
       "            <td>2020-01</td>\n",
       "            <td>2019-04-02</td>\n",
       "            <td>None</td>\n",
       "        </tr>\n",
       "        <tr>\n",
       "            <td>7</td>\n",
       "            <td>2019-07-01</td>\n",
       "            <td>1</td>\n",
       "            <td>2020-01</td>\n",
       "            <td>2019-04-04</td>\n",
       "            <td>None</td>\n",
       "        </tr>\n",
       "        <tr>\n",
       "            <td>8</td>\n",
       "            <td>2019-07-01</td>\n",
       "            <td>1</td>\n",
       "            <td>2020-01</td>\n",
       "            <td>2019-04-10</td>\n",
       "            <td>None</td>\n",
       "        </tr>\n",
       "        <tr>\n",
       "            <td>9</td>\n",
       "            <td>2019-07-01</td>\n",
       "            <td>1</td>\n",
       "            <td>2020-01</td>\n",
       "            <td>2019-04-11</td>\n",
       "            <td>None</td>\n",
       "        </tr>\n",
       "        <tr>\n",
       "            <td>10</td>\n",
       "            <td>2019-07-01</td>\n",
       "            <td>1</td>\n",
       "            <td>2020-01</td>\n",
       "            <td>2019-04-15</td>\n",
       "            <td>None</td>\n",
       "        </tr>\n",
       "    </tbody>\n",
       "</table>"
      ],
      "text/plain": [
       "[(1, datetime.date(2019, 7, 1), 1, '2020-01', datetime.date(2018, 7, 23), None),\n",
       " (2, datetime.date(2019, 7, 1), 1, '2020-01', datetime.date(2019, 2, 8), None),\n",
       " (3, datetime.date(2019, 7, 1), 1, '2020-01', datetime.date(2019, 3, 20), None),\n",
       " (4, datetime.date(2019, 7, 1), 1, '2020-01', datetime.date(2019, 3, 21), None),\n",
       " (5, datetime.date(2019, 7, 1), 1, '2020-01', datetime.date(2019, 3, 29), None),\n",
       " (6, datetime.date(2019, 7, 1), 1, '2020-01', datetime.date(2019, 4, 2), None),\n",
       " (7, datetime.date(2019, 7, 1), 1, '2020-01', datetime.date(2019, 4, 4), None),\n",
       " (8, datetime.date(2019, 7, 1), 1, '2020-01', datetime.date(2019, 4, 10), None),\n",
       " (9, datetime.date(2019, 7, 1), 1, '2020-01', datetime.date(2019, 4, 11), None),\n",
       " (10, datetime.date(2019, 7, 1), 1, '2020-01', datetime.date(2019, 4, 15), None)]"
      ]
     },
     "execution_count": 43,
     "metadata": {},
     "output_type": "execute_result"
    }
   ],
   "source": [
    "%%sql\n",
    "select * from time\n",
    "limit 10;"
   ]
  },
  {
   "cell_type": "markdown",
   "metadata": {},
   "source": [
    "add a new identifier (surrogate key) back to the fact table"
   ]
  },
  {
   "cell_type": "code",
   "execution_count": 44,
   "metadata": {},
   "outputs": [
    {
     "name": "stdout",
     "output_type": "stream",
     "text": [
      " * postgresql://student@/final_project\n",
      "Done.\n"
     ]
    },
    {
     "data": {
      "text/plain": [
       "[]"
      ]
     },
     "execution_count": 44,
     "metadata": {},
     "output_type": "execute_result"
    }
   ],
   "source": [
    "%%sql\n",
    "ALTER TABLE checkbook\n",
    "ADD COLUMN time_key INTEGER,\n",
    "ADD CONSTRAINT fk_time\n",
    "    FOREIGN KEY (time_key)\n",
    "    REFERENCES time (key);"
   ]
  },
  {
   "cell_type": "markdown",
   "metadata": {},
   "source": [
    "Now we update the *time_key* in the fact table with the values from ***time*** dimension table"
   ]
  },
  {
   "cell_type": "code",
   "execution_count": 45,
   "metadata": {},
   "outputs": [
    {
     "name": "stdout",
     "output_type": "stream",
     "text": [
      " * postgresql://student@/final_project\n",
      "539922 rows affected.\n"
     ]
    },
    {
     "data": {
      "text/plain": [
       "[]"
      ]
     },
     "execution_count": 45,
     "metadata": {},
     "output_type": "execute_result"
    }
   ],
   "source": [
    "%%sql\n",
    "UPDATE checkbook as c\n",
    "SET time_key = t.key\n",
    "FROM time AS t\n",
    "WHERE c.transaction_date = t.transaction_date\n",
    "    and c.fiscal_month_number = t.fiscal_month_number\n",
    "    and c.fiscal_year_quarter = t.fiscal_year_quarter\n",
    "    and c.inv_date = t.inv_date\n",
    "    and c.po_date = t.po_date"
   ]
  },
  {
   "cell_type": "markdown",
   "metadata": {},
   "source": [
    "Now we can drop the attributes *transaction_date*, *fiscal_month_number*, *fiscal_year_quarter* from the fact table"
   ]
  },
  {
   "cell_type": "code",
   "execution_count": 46,
   "metadata": {},
   "outputs": [
    {
     "name": "stdout",
     "output_type": "stream",
     "text": [
      " * postgresql://student@/final_project\n",
      "Done.\n"
     ]
    },
    {
     "data": {
      "text/plain": [
       "[]"
      ]
     },
     "execution_count": 46,
     "metadata": {},
     "output_type": "execute_result"
    }
   ],
   "source": [
    "%%sql\n",
    "ALTER TABLE checkbook\n",
    "DROP COLUMN transaction_date,\n",
    "DROP COLUMN fiscal_month_number,\n",
    "DROP COLUMN fiscal_year_quarter,\n",
    "DROP COLUMN inv_date,\n",
    "DROP COLUMN po_date"
   ]
  },
  {
   "cell_type": "markdown",
   "metadata": {},
   "source": [
    "##### Create ***item*** table, as a dimension table"
   ]
  },
  {
   "cell_type": "code",
   "execution_count": 47,
   "metadata": {},
   "outputs": [
    {
     "name": "stdout",
     "output_type": "stream",
     "text": [
      " * postgresql://student@/final_project\n",
      "10 rows affected.\n"
     ]
    },
    {
     "data": {
      "text/html": [
       "<table>\n",
       "    <thead>\n",
       "        <tr>\n",
       "            <th>item_code</th>\n",
       "            <th>item_code_name</th>\n",
       "        </tr>\n",
       "    </thead>\n",
       "    <tbody>\n",
       "        <tr>\n",
       "            <td>0</td>\n",
       "            <td>MISCELLANEOUS OR UNCLASSIFIED ITEMS NOT LISTED IN UNSPSC</td>\n",
       "        </tr>\n",
       "        <tr>\n",
       "            <td>1.01113E+11</td>\n",
       "            <td>TOOL,PICK UP, 32&quot;, BISHOP 32S</td>\n",
       "        </tr>\n",
       "        <tr>\n",
       "            <td>1.01113E+11</td>\n",
       "            <td>LITTER,CAT ALL NATURAL PONDEROSA PINE NATURE&#x27;S LOGIC 2000LB</td>\n",
       "        </tr>\n",
       "        <tr>\n",
       "            <td>1.01113E+11</td>\n",
       "            <td>SCOOPER,DOGGIE POOPER, SOVETTS CFX57A</td>\n",
       "        </tr>\n",
       "        <tr>\n",
       "            <td>1.01215E+11</td>\n",
       "            <td>HAY, TIMOTHY, JR BALES, 8/14 OZ (CASE) (#9904 / #996514)</td>\n",
       "        </tr>\n",
       "        <tr>\n",
       "            <td>1.01218E+11</td>\n",
       "            <td>FOOD,  RABBIT, CA 16%, 50 LB BAG (PMI #56AX / NEWCO #25656)</td>\n",
       "        </tr>\n",
       "        <tr>\n",
       "            <td>1.01218E+11</td>\n",
       "            <td>FEED, CAT, DRY,15 LB BAG (FELIDAE #3015 / NEWCO #4615)</td>\n",
       "        </tr>\n",
       "        <tr>\n",
       "            <td>1.01218E+11</td>\n",
       "            <td>FOOD,ANIMAL,CAT,DOG</td>\n",
       "        </tr>\n",
       "        <tr>\n",
       "            <td>1.01218E+11</td>\n",
       "            <td>FEED, DOG, ALS, 44 LB BAG (CANIDAE #1044 / NEWCO #4044)</td>\n",
       "        </tr>\n",
       "        <tr>\n",
       "            <td>1.01218E+11</td>\n",
       "            <td>FOOD,CAT,DIAMOND NATURALS CHICKEN DINNER,5.5OZ CAN,24/CS,</td>\n",
       "        </tr>\n",
       "    </tbody>\n",
       "</table>"
      ],
      "text/plain": [
       "[('0', 'MISCELLANEOUS OR UNCLASSIFIED ITEMS NOT LISTED IN UNSPSC'),\n",
       " ('1.01113E+11', 'TOOL,PICK UP, 32\", BISHOP 32S'),\n",
       " ('1.01113E+11', \"LITTER,CAT ALL NATURAL PONDEROSA PINE NATURE'S LOGIC 2000LB\"),\n",
       " ('1.01113E+11', 'SCOOPER,DOGGIE POOPER, SOVETTS CFX57A'),\n",
       " ('1.01215E+11', 'HAY, TIMOTHY, JR BALES, 8/14 OZ (CASE) (#9904 / #996514)'),\n",
       " ('1.01218E+11', 'FOOD,  RABBIT, CA 16%, 50 LB BAG (PMI #56AX / NEWCO #25656)'),\n",
       " ('1.01218E+11', 'FEED, CAT, DRY,15 LB BAG (FELIDAE #3015 / NEWCO #4615)'),\n",
       " ('1.01218E+11', 'FOOD,ANIMAL,CAT,DOG'),\n",
       " ('1.01218E+11', 'FEED, DOG, ALS, 44 LB BAG (CANIDAE #1044 / NEWCO #4044)'),\n",
       " ('1.01218E+11', 'FOOD,CAT,DIAMOND NATURALS CHICKEN DINNER,5.5OZ CAN,24/CS,')]"
      ]
     },
     "execution_count": 47,
     "metadata": {},
     "output_type": "execute_result"
    }
   ],
   "source": [
    "%%sql\n",
    "select distinct item_code, item_code_name\n",
    "from checkbook\n",
    "order by item_code\n",
    "limit 10;"
   ]
  },
  {
   "cell_type": "code",
   "execution_count": 48,
   "metadata": {},
   "outputs": [
    {
     "name": "stdout",
     "output_type": "stream",
     "text": [
      " * postgresql://student@/final_project\n",
      "Done.\n",
      "Done.\n"
     ]
    },
    {
     "data": {
      "text/plain": [
       "[]"
      ]
     },
     "execution_count": 48,
     "metadata": {},
     "output_type": "execute_result"
    }
   ],
   "source": [
    "%%sql\n",
    "DROP TABLE IF EXISTS item;\n",
    "\n",
    "CREATE TABLE item(\n",
    "    key                                 SERIAL     PRIMARY KEY,\n",
    "    item_code                       VARCHAR,\n",
    "    item_code_name             VARCHAR\n",
    ")"
   ]
  },
  {
   "cell_type": "code",
   "execution_count": 49,
   "metadata": {},
   "outputs": [
    {
     "name": "stdout",
     "output_type": "stream",
     "text": [
      " * postgresql://student@/final_project\n",
      "10372 rows affected.\n"
     ]
    },
    {
     "data": {
      "text/plain": [
       "[]"
      ]
     },
     "execution_count": 49,
     "metadata": {},
     "output_type": "execute_result"
    }
   ],
   "source": [
    "%%sql\n",
    "INSERT INTO item (item_code, item_code_name)\n",
    "SELECT DISTINCT item_code, item_code_name\n",
    "FROM CHECKBOOK\n",
    "ORDER BY item_code;"
   ]
  },
  {
   "cell_type": "code",
   "execution_count": 50,
   "metadata": {},
   "outputs": [
    {
     "name": "stdout",
     "output_type": "stream",
     "text": [
      " * postgresql://student@/final_project\n",
      "10 rows affected.\n"
     ]
    },
    {
     "data": {
      "text/html": [
       "<table>\n",
       "    <thead>\n",
       "        <tr>\n",
       "            <th>key</th>\n",
       "            <th>item_code</th>\n",
       "            <th>item_code_name</th>\n",
       "        </tr>\n",
       "    </thead>\n",
       "    <tbody>\n",
       "        <tr>\n",
       "            <td>1</td>\n",
       "            <td>0</td>\n",
       "            <td>MISCELLANEOUS OR UNCLASSIFIED ITEMS NOT LISTED IN UNSPSC</td>\n",
       "        </tr>\n",
       "        <tr>\n",
       "            <td>2</td>\n",
       "            <td>1.01113E+11</td>\n",
       "            <td>SCOOPER,DOGGIE POOPER, SOVETTS CFX57A</td>\n",
       "        </tr>\n",
       "        <tr>\n",
       "            <td>3</td>\n",
       "            <td>1.01113E+11</td>\n",
       "            <td>LITTER,CAT ALL NATURAL PONDEROSA PINE NATURE&#x27;S LOGIC 2000LB</td>\n",
       "        </tr>\n",
       "        <tr>\n",
       "            <td>4</td>\n",
       "            <td>1.01113E+11</td>\n",
       "            <td>TOOL,PICK UP, 32&quot;, BISHOP 32S</td>\n",
       "        </tr>\n",
       "        <tr>\n",
       "            <td>5</td>\n",
       "            <td>1.01215E+11</td>\n",
       "            <td>HAY, TIMOTHY, JR BALES, 8/14 OZ (CASE) (#9904 / #996514)</td>\n",
       "        </tr>\n",
       "        <tr>\n",
       "            <td>6</td>\n",
       "            <td>1.01218E+11</td>\n",
       "            <td>FOOD,CAT,DIAMOND NATURALS CHICKEN DINNER,5.5OZ CAN,24/CS,</td>\n",
       "        </tr>\n",
       "        <tr>\n",
       "            <td>7</td>\n",
       "            <td>1.01218E+11</td>\n",
       "            <td>FOOD, DOG, ALS, 13 OZ CAN, 12/CASE (CANIDAE #1024 / #4014)</td>\n",
       "        </tr>\n",
       "        <tr>\n",
       "            <td>8</td>\n",
       "            <td>1.01218E+11</td>\n",
       "            <td>FEED, CAT, DRY,15 LB BAG (FELIDAE #3015 / NEWCO #4615)</td>\n",
       "        </tr>\n",
       "        <tr>\n",
       "            <td>9</td>\n",
       "            <td>1.01218E+11</td>\n",
       "            <td>FOOD,  RABBIT, CA 16%, 50 LB BAG (PMI #56AX / NEWCO #25656)</td>\n",
       "        </tr>\n",
       "        <tr>\n",
       "            <td>10</td>\n",
       "            <td>1.01218E+11</td>\n",
       "            <td>FOOD,ANIMAL,CAT,DOG</td>\n",
       "        </tr>\n",
       "    </tbody>\n",
       "</table>"
      ],
      "text/plain": [
       "[(1, '0', 'MISCELLANEOUS OR UNCLASSIFIED ITEMS NOT LISTED IN UNSPSC'),\n",
       " (2, '1.01113E+11', 'SCOOPER,DOGGIE POOPER, SOVETTS CFX57A'),\n",
       " (3, '1.01113E+11', \"LITTER,CAT ALL NATURAL PONDEROSA PINE NATURE'S LOGIC 2000LB\"),\n",
       " (4, '1.01113E+11', 'TOOL,PICK UP, 32\", BISHOP 32S'),\n",
       " (5, '1.01215E+11', 'HAY, TIMOTHY, JR BALES, 8/14 OZ (CASE) (#9904 / #996514)'),\n",
       " (6, '1.01218E+11', 'FOOD,CAT,DIAMOND NATURALS CHICKEN DINNER,5.5OZ CAN,24/CS,'),\n",
       " (7, '1.01218E+11', 'FOOD, DOG, ALS, 13 OZ CAN, 12/CASE (CANIDAE #1024 / #4014)'),\n",
       " (8, '1.01218E+11', 'FEED, CAT, DRY,15 LB BAG (FELIDAE #3015 / NEWCO #4615)'),\n",
       " (9, '1.01218E+11', 'FOOD,  RABBIT, CA 16%, 50 LB BAG (PMI #56AX / NEWCO #25656)'),\n",
       " (10, '1.01218E+11', 'FOOD,ANIMAL,CAT,DOG')]"
      ]
     },
     "execution_count": 50,
     "metadata": {},
     "output_type": "execute_result"
    }
   ],
   "source": [
    "%%sql\n",
    "select * from item \n",
    "limit 10;"
   ]
  },
  {
   "cell_type": "markdown",
   "metadata": {},
   "source": [
    "add a new identifier (surrogate key) back to the fact table"
   ]
  },
  {
   "cell_type": "code",
   "execution_count": 51,
   "metadata": {},
   "outputs": [
    {
     "name": "stdout",
     "output_type": "stream",
     "text": [
      " * postgresql://student@/final_project\n",
      "Done.\n"
     ]
    },
    {
     "data": {
      "text/plain": [
       "[]"
      ]
     },
     "execution_count": 51,
     "metadata": {},
     "output_type": "execute_result"
    }
   ],
   "source": [
    "%%sql\n",
    "ALTER TABLE checkbook\n",
    "ADD COLUMN item_key INTEGER,\n",
    "ADD CONSTRAINT fk_item\n",
    "    FOREIGN KEY (item_key)\n",
    "    REFERENCES item (key)"
   ]
  },
  {
   "cell_type": "markdown",
   "metadata": {},
   "source": [
    "Now we update the *item_key* in the fact table with the values from ***item_key*** dimension table"
   ]
  },
  {
   "cell_type": "code",
   "execution_count": 52,
   "metadata": {},
   "outputs": [
    {
     "name": "stdout",
     "output_type": "stream",
     "text": [
      " * postgresql://student@/final_project\n",
      "417119 rows affected.\n"
     ]
    },
    {
     "data": {
      "text/plain": [
       "[]"
      ]
     },
     "execution_count": 52,
     "metadata": {},
     "output_type": "execute_result"
    }
   ],
   "source": [
    "%%sql\n",
    "UPDATE checkbook as c\n",
    "SET item_key = i.key\n",
    "FROM item AS i\n",
    "WHERE c.item_code = i.item_code\n",
    "    and c.item_code_name = i.item_code_name"
   ]
  },
  {
   "cell_type": "markdown",
   "metadata": {},
   "source": [
    "Now we can drop the attributes *item_code*, *item_code_name* from the fact table"
   ]
  },
  {
   "cell_type": "code",
   "execution_count": 53,
   "metadata": {},
   "outputs": [
    {
     "name": "stdout",
     "output_type": "stream",
     "text": [
      " * postgresql://student@/final_project\n",
      "Done.\n"
     ]
    },
    {
     "data": {
      "text/plain": [
       "[]"
      ]
     },
     "execution_count": 53,
     "metadata": {},
     "output_type": "execute_result"
    }
   ],
   "source": [
    "%%sql\n",
    "ALTER TABLE checkbook\n",
    "DROP COLUMN item_code,\n",
    "DROP COLUMN item_code_name"
   ]
  },
  {
   "cell_type": "markdown",
   "metadata": {},
   "source": [
    "##### Create ***Activity*** table, as a dimension table"
   ]
  },
  {
   "cell_type": "code",
   "execution_count": 54,
   "metadata": {},
   "outputs": [
    {
     "name": "stdout",
     "output_type": "stream",
     "text": [
      " * postgresql://student@/final_project\n",
      "11 rows affected.\n"
     ]
    },
    {
     "data": {
      "text/html": [
       "<table>\n",
       "    <thead>\n",
       "        <tr>\n",
       "            <th>government_activity</th>\n",
       "        </tr>\n",
       "    </thead>\n",
       "    <tbody>\n",
       "        <tr>\n",
       "            <td>COMMUNITY DEVELOPMENT</td>\n",
       "        </tr>\n",
       "        <tr>\n",
       "            <td>CULTURAL AND RECREATIONAL SERVICES</td>\n",
       "        </tr>\n",
       "        <tr>\n",
       "            <td>EXECUTIVE AND LEGISLATIVE</td>\n",
       "        </tr>\n",
       "        <tr>\n",
       "            <td>FINANCIAL SERVICES</td>\n",
       "        </tr>\n",
       "        <tr>\n",
       "            <td>GENERAL GOVERNMENT</td>\n",
       "        </tr>\n",
       "        <tr>\n",
       "            <td>PENSION</td>\n",
       "        </tr>\n",
       "        <tr>\n",
       "            <td>PROTECTION OF PERSONS AND PROPERTY</td>\n",
       "        </tr>\n",
       "        <tr>\n",
       "            <td>PUBLIC WORKS</td>\n",
       "        </tr>\n",
       "        <tr>\n",
       "            <td>TRANSPORTATION, COMMERCE AND ENTERPRISE</td>\n",
       "        </tr>\n",
       "        <tr>\n",
       "            <td>TRANSPORTATION, COMMERCE AND/OR ENTERPRISE</td>\n",
       "        </tr>\n",
       "        <tr>\n",
       "            <td>None</td>\n",
       "        </tr>\n",
       "    </tbody>\n",
       "</table>"
      ],
      "text/plain": [
       "[('COMMUNITY DEVELOPMENT',),\n",
       " ('CULTURAL AND RECREATIONAL SERVICES',),\n",
       " ('EXECUTIVE AND LEGISLATIVE',),\n",
       " ('FINANCIAL SERVICES',),\n",
       " ('GENERAL GOVERNMENT',),\n",
       " ('PENSION',),\n",
       " ('PROTECTION OF PERSONS AND PROPERTY',),\n",
       " ('PUBLIC WORKS',),\n",
       " ('TRANSPORTATION, COMMERCE AND ENTERPRISE',),\n",
       " ('TRANSPORTATION, COMMERCE AND/OR ENTERPRISE',),\n",
       " (None,)]"
      ]
     },
     "execution_count": 54,
     "metadata": {},
     "output_type": "execute_result"
    }
   ],
   "source": [
    "%%sql\n",
    "select distinct government_activity\n",
    "from checkbook\n",
    "order by government_activity"
   ]
  },
  {
   "cell_type": "code",
   "execution_count": 55,
   "metadata": {},
   "outputs": [
    {
     "name": "stdout",
     "output_type": "stream",
     "text": [
      " * postgresql://student@/final_project\n",
      "Done.\n",
      "Done.\n"
     ]
    },
    {
     "data": {
      "text/plain": [
       "[]"
      ]
     },
     "execution_count": 55,
     "metadata": {},
     "output_type": "execute_result"
    }
   ],
   "source": [
    "%%sql\n",
    "DROP TABLE IF EXISTS activity;\n",
    "\n",
    "CREATE TABLE activity(\n",
    "    key                                         SERIAL                  PRIMARY KEY,\n",
    "    government_activity             VARCHAR\n",
    ")"
   ]
  },
  {
   "cell_type": "code",
   "execution_count": 56,
   "metadata": {},
   "outputs": [
    {
     "name": "stdout",
     "output_type": "stream",
     "text": [
      " * postgresql://student@/final_project\n",
      "11 rows affected.\n"
     ]
    },
    {
     "data": {
      "text/plain": [
       "[]"
      ]
     },
     "execution_count": 56,
     "metadata": {},
     "output_type": "execute_result"
    }
   ],
   "source": [
    "%%sql\n",
    "INSERT INTO activity (government_activity)\n",
    "SELECT DISTINCT government_activity\n",
    "FROM CHECKBOOK\n",
    "ORDER BY government_activity;"
   ]
  },
  {
   "cell_type": "code",
   "execution_count": 57,
   "metadata": {},
   "outputs": [
    {
     "name": "stdout",
     "output_type": "stream",
     "text": [
      " * postgresql://student@/final_project\n",
      "11 rows affected.\n"
     ]
    },
    {
     "data": {
      "text/html": [
       "<table>\n",
       "    <thead>\n",
       "        <tr>\n",
       "            <th>key</th>\n",
       "            <th>government_activity</th>\n",
       "        </tr>\n",
       "    </thead>\n",
       "    <tbody>\n",
       "        <tr>\n",
       "            <td>1</td>\n",
       "            <td>COMMUNITY DEVELOPMENT</td>\n",
       "        </tr>\n",
       "        <tr>\n",
       "            <td>2</td>\n",
       "            <td>CULTURAL AND RECREATIONAL SERVICES</td>\n",
       "        </tr>\n",
       "        <tr>\n",
       "            <td>3</td>\n",
       "            <td>EXECUTIVE AND LEGISLATIVE</td>\n",
       "        </tr>\n",
       "        <tr>\n",
       "            <td>4</td>\n",
       "            <td>FINANCIAL SERVICES</td>\n",
       "        </tr>\n",
       "        <tr>\n",
       "            <td>5</td>\n",
       "            <td>GENERAL GOVERNMENT</td>\n",
       "        </tr>\n",
       "        <tr>\n",
       "            <td>6</td>\n",
       "            <td>PENSION</td>\n",
       "        </tr>\n",
       "        <tr>\n",
       "            <td>7</td>\n",
       "            <td>PROTECTION OF PERSONS AND PROPERTY</td>\n",
       "        </tr>\n",
       "        <tr>\n",
       "            <td>8</td>\n",
       "            <td>PUBLIC WORKS</td>\n",
       "        </tr>\n",
       "        <tr>\n",
       "            <td>9</td>\n",
       "            <td>TRANSPORTATION, COMMERCE AND ENTERPRISE</td>\n",
       "        </tr>\n",
       "        <tr>\n",
       "            <td>10</td>\n",
       "            <td>TRANSPORTATION, COMMERCE AND/OR ENTERPRISE</td>\n",
       "        </tr>\n",
       "        <tr>\n",
       "            <td>11</td>\n",
       "            <td>None</td>\n",
       "        </tr>\n",
       "    </tbody>\n",
       "</table>"
      ],
      "text/plain": [
       "[(1, 'COMMUNITY DEVELOPMENT'),\n",
       " (2, 'CULTURAL AND RECREATIONAL SERVICES'),\n",
       " (3, 'EXECUTIVE AND LEGISLATIVE'),\n",
       " (4, 'FINANCIAL SERVICES'),\n",
       " (5, 'GENERAL GOVERNMENT'),\n",
       " (6, 'PENSION'),\n",
       " (7, 'PROTECTION OF PERSONS AND PROPERTY'),\n",
       " (8, 'PUBLIC WORKS'),\n",
       " (9, 'TRANSPORTATION, COMMERCE AND ENTERPRISE'),\n",
       " (10, 'TRANSPORTATION, COMMERCE AND/OR ENTERPRISE'),\n",
       " (11, None)]"
      ]
     },
     "execution_count": 57,
     "metadata": {},
     "output_type": "execute_result"
    }
   ],
   "source": [
    "%%sql\n",
    "select * from activity"
   ]
  },
  {
   "cell_type": "markdown",
   "metadata": {},
   "source": [
    "Add a new identifier (surrogate key) back to the fact table"
   ]
  },
  {
   "cell_type": "code",
   "execution_count": 58,
   "metadata": {},
   "outputs": [
    {
     "name": "stdout",
     "output_type": "stream",
     "text": [
      " * postgresql://student@/final_project\n",
      "Done.\n"
     ]
    },
    {
     "data": {
      "text/plain": [
       "[]"
      ]
     },
     "execution_count": 58,
     "metadata": {},
     "output_type": "execute_result"
    }
   ],
   "source": [
    "%%sql\n",
    "ALTER TABLE checkbook\n",
    "ADD COLUMN activity_key INTEGER,\n",
    "ADD CONSTRAINT fk_activity\n",
    "    FOREIGN KEY (activity_key)\n",
    "    REFERENCES activity (key)"
   ]
  },
  {
   "cell_type": "markdown",
   "metadata": {},
   "source": [
    "Now we update the *activity_key* in the fact table with the values from ***activity*** dimension table based on the government_activity (natural key)"
   ]
  },
  {
   "cell_type": "code",
   "execution_count": 59,
   "metadata": {},
   "outputs": [
    {
     "name": "stdout",
     "output_type": "stream",
     "text": [
      " * postgresql://student@/final_project\n",
      "699438 rows affected.\n"
     ]
    },
    {
     "data": {
      "text/plain": [
       "[]"
      ]
     },
     "execution_count": 59,
     "metadata": {},
     "output_type": "execute_result"
    }
   ],
   "source": [
    "%%sql\n",
    "UPDATE checkbook as c\n",
    "SET activity_key = a.key\n",
    "FROM activity AS a\n",
    "WHERE c.government_activity = a.government_activity"
   ]
  },
  {
   "cell_type": "markdown",
   "metadata": {},
   "source": [
    "Now we can drop the attributes *government_activity* from the fact table"
   ]
  },
  {
   "cell_type": "code",
   "execution_count": 60,
   "metadata": {},
   "outputs": [
    {
     "name": "stdout",
     "output_type": "stream",
     "text": [
      " * postgresql://student@/final_project\n",
      "Done.\n"
     ]
    },
    {
     "data": {
      "text/plain": [
       "[]"
      ]
     },
     "execution_count": 60,
     "metadata": {},
     "output_type": "execute_result"
    }
   ],
   "source": [
    "%%sql\n",
    "ALTER TABLE checkbook\n",
    "DROP COLUMN government_activity"
   ]
  },
  {
   "cell_type": "markdown",
   "metadata": {},
   "source": [
    "##### Create *expenditure type* table, as a dimension table"
   ]
  },
  {
   "cell_type": "code",
   "execution_count": 61,
   "metadata": {},
   "outputs": [
    {
     "name": "stdout",
     "output_type": "stream",
     "text": [
      " * postgresql://student@/final_project\n",
      "10 rows affected.\n"
     ]
    },
    {
     "data": {
      "text/html": [
       "<table>\n",
       "    <thead>\n",
       "        <tr>\n",
       "            <th>expenditure_type</th>\n",
       "        </tr>\n",
       "    </thead>\n",
       "    <tbody>\n",
       "        <tr>\n",
       "            <td>11220 REC-POLLUTION COST RECOV</td>\n",
       "        </tr>\n",
       "        <tr>\n",
       "            <td>11225 REIMBURSABLE COSTS-ENV.</td>\n",
       "        </tr>\n",
       "        <tr>\n",
       "            <td>13150 - EQUIPMENT ABOVE $5000</td>\n",
       "        </tr>\n",
       "        <tr>\n",
       "            <td>2011A INTEREST FUND</td>\n",
       "        </tr>\n",
       "        <tr>\n",
       "            <td>2011A PRINCIPAL FUND</td>\n",
       "        </tr>\n",
       "        <tr>\n",
       "            <td>2011B INTEREST FUND</td>\n",
       "        </tr>\n",
       "        <tr>\n",
       "            <td>2014A INTEREST FUND</td>\n",
       "        </tr>\n",
       "        <tr>\n",
       "            <td>2014A PRINCIPAL FUND</td>\n",
       "        </tr>\n",
       "        <tr>\n",
       "            <td>2014B INTEREST FUND</td>\n",
       "        </tr>\n",
       "        <tr>\n",
       "            <td>2014B PRINCIPAL FUND</td>\n",
       "        </tr>\n",
       "    </tbody>\n",
       "</table>"
      ],
      "text/plain": [
       "[('11220 REC-POLLUTION COST RECOV',),\n",
       " ('11225 REIMBURSABLE COSTS-ENV.',),\n",
       " ('13150 - EQUIPMENT ABOVE $5000',),\n",
       " ('2011A INTEREST FUND',),\n",
       " ('2011A PRINCIPAL FUND',),\n",
       " ('2011B INTEREST FUND',),\n",
       " ('2014A INTEREST FUND',),\n",
       " ('2014A PRINCIPAL FUND',),\n",
       " ('2014B INTEREST FUND',),\n",
       " ('2014B PRINCIPAL FUND',)]"
      ]
     },
     "execution_count": 61,
     "metadata": {},
     "output_type": "execute_result"
    }
   ],
   "source": [
    "%%sql\n",
    "select distinct expenditure_type\n",
    "from checkbook\n",
    "order by expenditure_type\n",
    "limit 10"
   ]
  },
  {
   "cell_type": "code",
   "execution_count": 62,
   "metadata": {},
   "outputs": [
    {
     "name": "stdout",
     "output_type": "stream",
     "text": [
      " * postgresql://student@/final_project\n",
      "Done.\n",
      "Done.\n"
     ]
    },
    {
     "data": {
      "text/plain": [
       "[]"
      ]
     },
     "execution_count": 62,
     "metadata": {},
     "output_type": "execute_result"
    }
   ],
   "source": [
    "%%sql\n",
    "DROP TABLE IF EXISTS expenditure_type;\n",
    "\n",
    "CREATE TABLE expenditure_type(\n",
    "    key                                         SERIAL                  PRIMARY KEY,\n",
    "    expenditure_type             VARCHAR\n",
    ")"
   ]
  },
  {
   "cell_type": "code",
   "execution_count": 63,
   "metadata": {},
   "outputs": [
    {
     "name": "stdout",
     "output_type": "stream",
     "text": [
      " * postgresql://student@/final_project\n",
      "235 rows affected.\n"
     ]
    },
    {
     "data": {
      "text/plain": [
       "[]"
      ]
     },
     "execution_count": 63,
     "metadata": {},
     "output_type": "execute_result"
    }
   ],
   "source": [
    "%%sql\n",
    "INSERT INTO expenditure_type (expenditure_type)\n",
    "SELECT DISTINCT expenditure_type\n",
    "FROM CHECKBOOK\n",
    "ORDER BY expenditure_type;"
   ]
  },
  {
   "cell_type": "code",
   "execution_count": 64,
   "metadata": {},
   "outputs": [
    {
     "name": "stdout",
     "output_type": "stream",
     "text": [
      " * postgresql://student@/final_project\n",
      "10 rows affected.\n"
     ]
    },
    {
     "data": {
      "text/html": [
       "<table>\n",
       "    <thead>\n",
       "        <tr>\n",
       "            <th>key</th>\n",
       "            <th>expenditure_type</th>\n",
       "        </tr>\n",
       "    </thead>\n",
       "    <tbody>\n",
       "        <tr>\n",
       "            <td>1</td>\n",
       "            <td>11220 REC-POLLUTION COST RECOV</td>\n",
       "        </tr>\n",
       "        <tr>\n",
       "            <td>2</td>\n",
       "            <td>11225 REIMBURSABLE COSTS-ENV.</td>\n",
       "        </tr>\n",
       "        <tr>\n",
       "            <td>3</td>\n",
       "            <td>13150 - EQUIPMENT ABOVE $5000</td>\n",
       "        </tr>\n",
       "        <tr>\n",
       "            <td>4</td>\n",
       "            <td>2011A INTEREST FUND</td>\n",
       "        </tr>\n",
       "        <tr>\n",
       "            <td>5</td>\n",
       "            <td>2011A PRINCIPAL FUND</td>\n",
       "        </tr>\n",
       "        <tr>\n",
       "            <td>6</td>\n",
       "            <td>2011B INTEREST FUND</td>\n",
       "        </tr>\n",
       "        <tr>\n",
       "            <td>7</td>\n",
       "            <td>2014A INTEREST FUND</td>\n",
       "        </tr>\n",
       "        <tr>\n",
       "            <td>8</td>\n",
       "            <td>2014A PRINCIPAL FUND</td>\n",
       "        </tr>\n",
       "        <tr>\n",
       "            <td>9</td>\n",
       "            <td>2014B INTEREST FUND</td>\n",
       "        </tr>\n",
       "        <tr>\n",
       "            <td>10</td>\n",
       "            <td>2014B PRINCIPAL FUND</td>\n",
       "        </tr>\n",
       "    </tbody>\n",
       "</table>"
      ],
      "text/plain": [
       "[(1, '11220 REC-POLLUTION COST RECOV'),\n",
       " (2, '11225 REIMBURSABLE COSTS-ENV.'),\n",
       " (3, '13150 - EQUIPMENT ABOVE $5000'),\n",
       " (4, '2011A INTEREST FUND'),\n",
       " (5, '2011A PRINCIPAL FUND'),\n",
       " (6, '2011B INTEREST FUND'),\n",
       " (7, '2014A INTEREST FUND'),\n",
       " (8, '2014A PRINCIPAL FUND'),\n",
       " (9, '2014B INTEREST FUND'),\n",
       " (10, '2014B PRINCIPAL FUND')]"
      ]
     },
     "execution_count": 64,
     "metadata": {},
     "output_type": "execute_result"
    }
   ],
   "source": [
    "%%sql\n",
    "select * from expenditure_type\n",
    "limit 10"
   ]
  },
  {
   "cell_type": "markdown",
   "metadata": {},
   "source": [
    "add a new identifier (surrogate key) back to the fact table"
   ]
  },
  {
   "cell_type": "code",
   "execution_count": 65,
   "metadata": {},
   "outputs": [
    {
     "name": "stdout",
     "output_type": "stream",
     "text": [
      " * postgresql://student@/final_project\n",
      "Done.\n"
     ]
    },
    {
     "data": {
      "text/plain": [
       "[]"
      ]
     },
     "execution_count": 65,
     "metadata": {},
     "output_type": "execute_result"
    }
   ],
   "source": [
    "%%sql\n",
    "ALTER TABLE checkbook\n",
    "ADD COLUMN expenditure_type_key INTEGER,\n",
    "ADD CONSTRAINT fk_expenditure_type\n",
    "    FOREIGN KEY (expenditure_type_key)\n",
    "    REFERENCES expenditure_type (key)"
   ]
  },
  {
   "cell_type": "code",
   "execution_count": 66,
   "metadata": {},
   "outputs": [
    {
     "name": "stdout",
     "output_type": "stream",
     "text": [
      " * postgresql://student@/final_project\n",
      "10 rows affected.\n"
     ]
    },
    {
     "data": {
      "text/html": [
       "<table>\n",
       "    <thead>\n",
       "        <tr>\n",
       "            <th>expenditure_type</th>\n",
       "            <th>expenditure_type_key</th>\n",
       "        </tr>\n",
       "    </thead>\n",
       "    <tbody>\n",
       "        <tr>\n",
       "            <td>55010 PARTS &amp; MATERIALS</td>\n",
       "            <td>None</td>\n",
       "        </tr>\n",
       "        <tr>\n",
       "            <td>COMPUTER MAINT. SVC. - SOFTWARE</td>\n",
       "            <td>None</td>\n",
       "        </tr>\n",
       "        <tr>\n",
       "            <td>COMPUTER MAINT. SVC. - SOFTWARE</td>\n",
       "            <td>None</td>\n",
       "        </tr>\n",
       "        <tr>\n",
       "            <td>COMPUTER MAINT. SVC. - SOFTWARE</td>\n",
       "            <td>None</td>\n",
       "        </tr>\n",
       "        <tr>\n",
       "            <td>COMPUTER MAINT. SVC. - HARDWARE</td>\n",
       "            <td>None</td>\n",
       "        </tr>\n",
       "        <tr>\n",
       "            <td>COMPUTER MAINT. SVC. - HARDWARE</td>\n",
       "            <td>None</td>\n",
       "        </tr>\n",
       "        <tr>\n",
       "            <td>54030 MAINT. SVCS.- EQUIP</td>\n",
       "            <td>None</td>\n",
       "        </tr>\n",
       "        <tr>\n",
       "            <td>59010 EQUIP RENTAL - MAINT.</td>\n",
       "            <td>None</td>\n",
       "        </tr>\n",
       "        <tr>\n",
       "            <td>OPERATING MATERIALS &amp; SUPPLIES</td>\n",
       "            <td>None</td>\n",
       "        </tr>\n",
       "        <tr>\n",
       "            <td>55010 PARTS &amp; MATERIALS</td>\n",
       "            <td>None</td>\n",
       "        </tr>\n",
       "    </tbody>\n",
       "</table>"
      ],
      "text/plain": [
       "[('55010 PARTS & MATERIALS', None),\n",
       " ('COMPUTER MAINT. SVC. - SOFTWARE', None),\n",
       " ('COMPUTER MAINT. SVC. - SOFTWARE', None),\n",
       " ('COMPUTER MAINT. SVC. - SOFTWARE', None),\n",
       " ('COMPUTER MAINT. SVC. - HARDWARE', None),\n",
       " ('COMPUTER MAINT. SVC. - HARDWARE', None),\n",
       " ('54030 MAINT. SVCS.- EQUIP', None),\n",
       " ('59010 EQUIP RENTAL - MAINT.', None),\n",
       " ('OPERATING MATERIALS & SUPPLIES', None),\n",
       " ('55010 PARTS & MATERIALS', None)]"
      ]
     },
     "execution_count": 66,
     "metadata": {},
     "output_type": "execute_result"
    }
   ],
   "source": [
    "%%sql\n",
    "select expenditure_type, expenditure_type_key\n",
    "from checkbook\n",
    "limit 10"
   ]
  },
  {
   "cell_type": "markdown",
   "metadata": {},
   "source": [
    "Now we update the *expenditure_type_key* in the fact table with the values from ***expenditure_type*** dimension table based on the expenditure_type (natural key)"
   ]
  },
  {
   "cell_type": "code",
   "execution_count": 67,
   "metadata": {},
   "outputs": [
    {
     "name": "stdout",
     "output_type": "stream",
     "text": [
      " * postgresql://student@/final_project\n",
      "700145 rows affected.\n"
     ]
    },
    {
     "data": {
      "text/plain": [
       "[]"
      ]
     },
     "execution_count": 67,
     "metadata": {},
     "output_type": "execute_result"
    }
   ],
   "source": [
    "%%sql\n",
    "UPDATE checkbook as c\n",
    "SET expenditure_type_key = et.key\n",
    "FROM expenditure_type AS et\n",
    "WHERE c.expenditure_type = et.expenditure_type"
   ]
  },
  {
   "cell_type": "markdown",
   "metadata": {},
   "source": [
    "Now we can drop the attributes *expenditure_type* from the fact table"
   ]
  },
  {
   "cell_type": "code",
   "execution_count": 68,
   "metadata": {},
   "outputs": [
    {
     "name": "stdout",
     "output_type": "stream",
     "text": [
      " * postgresql://student@/final_project\n",
      "Done.\n"
     ]
    },
    {
     "data": {
      "text/plain": [
       "[]"
      ]
     },
     "execution_count": 68,
     "metadata": {},
     "output_type": "execute_result"
    }
   ],
   "source": [
    "%%sql\n",
    "ALTER TABLE checkbook\n",
    "DROP COLUMN expenditure_type"
   ]
  },
  {
   "cell_type": "markdown",
   "metadata": {},
   "source": [
    "##### Create ***po_line*** table, as a dimension table"
   ]
  },
  {
   "cell_type": "code",
   "execution_count": 69,
   "metadata": {},
   "outputs": [
    {
     "name": "stdout",
     "output_type": "stream",
     "text": [
      " * postgresql://student@/final_project\n",
      "10 rows affected.\n"
     ]
    },
    {
     "data": {
      "text/html": [
       "<table>\n",
       "    <thead>\n",
       "        <tr>\n",
       "            <th>po_num</th>\n",
       "        </tr>\n",
       "    </thead>\n",
       "    <tbody>\n",
       "        <tr>\n",
       "            <td>201831549</td>\n",
       "        </tr>\n",
       "        <tr>\n",
       "            <td>201831608</td>\n",
       "        </tr>\n",
       "        <tr>\n",
       "            <td>201931002-0419</td>\n",
       "        </tr>\n",
       "        <tr>\n",
       "            <td>201931002-0519</td>\n",
       "        </tr>\n",
       "        <tr>\n",
       "            <td>201931002-0619</td>\n",
       "        </tr>\n",
       "        <tr>\n",
       "            <td>201931003-GRANT10</td>\n",
       "        </tr>\n",
       "        <tr>\n",
       "            <td>201931003-MATTFELD5</td>\n",
       "        </tr>\n",
       "        <tr>\n",
       "            <td>201931003-OEY1</td>\n",
       "        </tr>\n",
       "        <tr>\n",
       "            <td>201931003-SIDLEY1</td>\n",
       "        </tr>\n",
       "        <tr>\n",
       "            <td>201931003-TRINIDAD2</td>\n",
       "        </tr>\n",
       "    </tbody>\n",
       "</table>"
      ],
      "text/plain": [
       "[('201831549',),\n",
       " ('201831608',),\n",
       " ('201931002-0419',),\n",
       " ('201931002-0519',),\n",
       " ('201931002-0619',),\n",
       " ('201931003-GRANT10',),\n",
       " ('201931003-MATTFELD5',),\n",
       " ('201931003-OEY1',),\n",
       " ('201931003-SIDLEY1',),\n",
       " ('201931003-TRINIDAD2',)]"
      ]
     },
     "execution_count": 69,
     "metadata": {},
     "output_type": "execute_result"
    }
   ],
   "source": [
    "%%sql\n",
    "select distinct po_num\n",
    "from checkbook\n",
    "order by po_num\n",
    "limit 10"
   ]
  },
  {
   "cell_type": "code",
   "execution_count": 70,
   "metadata": {},
   "outputs": [
    {
     "name": "stdout",
     "output_type": "stream",
     "text": [
      " * postgresql://student@/final_project\n",
      "Done.\n",
      "Done.\n"
     ]
    },
    {
     "data": {
      "text/plain": [
       "[]"
      ]
     },
     "execution_count": 70,
     "metadata": {},
     "output_type": "execute_result"
    }
   ],
   "source": [
    "%%sql\n",
    "DROP TABLE IF EXISTS po_line;\n",
    "\n",
    "CREATE TABLE po_line(\n",
    "    key                                         SERIAL                  PRIMARY KEY,\n",
    "    po_num             VARCHAR\n",
    ")"
   ]
  },
  {
   "cell_type": "code",
   "execution_count": 71,
   "metadata": {},
   "outputs": [
    {
     "name": "stdout",
     "output_type": "stream",
     "text": [
      " * postgresql://student@/final_project\n",
      "150231 rows affected.\n"
     ]
    },
    {
     "data": {
      "text/plain": [
       "[]"
      ]
     },
     "execution_count": 71,
     "metadata": {},
     "output_type": "execute_result"
    }
   ],
   "source": [
    "%%sql\n",
    "INSERT INTO po_line (po_num)\n",
    "SELECT DISTINCT po_num\n",
    "FROM CHECKBOOK\n",
    "ORDER BY po_num;"
   ]
  },
  {
   "cell_type": "code",
   "execution_count": 72,
   "metadata": {},
   "outputs": [
    {
     "name": "stdout",
     "output_type": "stream",
     "text": [
      " * postgresql://student@/final_project\n",
      "10 rows affected.\n"
     ]
    },
    {
     "data": {
      "text/html": [
       "<table>\n",
       "    <thead>\n",
       "        <tr>\n",
       "            <th>key</th>\n",
       "            <th>po_num</th>\n",
       "        </tr>\n",
       "    </thead>\n",
       "    <tbody>\n",
       "        <tr>\n",
       "            <td>1</td>\n",
       "            <td>201831549</td>\n",
       "        </tr>\n",
       "        <tr>\n",
       "            <td>2</td>\n",
       "            <td>201831608</td>\n",
       "        </tr>\n",
       "        <tr>\n",
       "            <td>3</td>\n",
       "            <td>201931002-0419</td>\n",
       "        </tr>\n",
       "        <tr>\n",
       "            <td>4</td>\n",
       "            <td>201931002-0519</td>\n",
       "        </tr>\n",
       "        <tr>\n",
       "            <td>5</td>\n",
       "            <td>201931002-0619</td>\n",
       "        </tr>\n",
       "        <tr>\n",
       "            <td>6</td>\n",
       "            <td>201931003-GRANT10</td>\n",
       "        </tr>\n",
       "        <tr>\n",
       "            <td>7</td>\n",
       "            <td>201931003-MATTFELD5</td>\n",
       "        </tr>\n",
       "        <tr>\n",
       "            <td>8</td>\n",
       "            <td>201931003-OEY1</td>\n",
       "        </tr>\n",
       "        <tr>\n",
       "            <td>9</td>\n",
       "            <td>201931003-SIDLEY1</td>\n",
       "        </tr>\n",
       "        <tr>\n",
       "            <td>10</td>\n",
       "            <td>201931003-TRINIDAD2</td>\n",
       "        </tr>\n",
       "    </tbody>\n",
       "</table>"
      ],
      "text/plain": [
       "[(1, '201831549'),\n",
       " (2, '201831608'),\n",
       " (3, '201931002-0419'),\n",
       " (4, '201931002-0519'),\n",
       " (5, '201931002-0619'),\n",
       " (6, '201931003-GRANT10'),\n",
       " (7, '201931003-MATTFELD5'),\n",
       " (8, '201931003-OEY1'),\n",
       " (9, '201931003-SIDLEY1'),\n",
       " (10, '201931003-TRINIDAD2')]"
      ]
     },
     "execution_count": 72,
     "metadata": {},
     "output_type": "execute_result"
    }
   ],
   "source": [
    "%%sql\n",
    "select * from po_line\n",
    "limit 10"
   ]
  },
  {
   "cell_type": "markdown",
   "metadata": {},
   "source": [
    "add a new identifier (surrogate key) back to the fact table"
   ]
  },
  {
   "cell_type": "code",
   "execution_count": 73,
   "metadata": {},
   "outputs": [
    {
     "name": "stdout",
     "output_type": "stream",
     "text": [
      " * postgresql://student@/final_project\n",
      "Done.\n"
     ]
    },
    {
     "data": {
      "text/plain": [
       "[]"
      ]
     },
     "execution_count": 73,
     "metadata": {},
     "output_type": "execute_result"
    }
   ],
   "source": [
    "%%sql\n",
    "ALTER TABLE checkbook\n",
    "ADD COLUMN po_line_key INTEGER,\n",
    "ADD CONSTRAINT fk_po_line\n",
    "    FOREIGN KEY (po_line_key)\n",
    "    REFERENCES po_line (key)"
   ]
  },
  {
   "cell_type": "markdown",
   "metadata": {},
   "source": [
    "Now we update the *po_line_key* in the fact table with the values from ***po_line*** dimension table based on the po_num (natural key)"
   ]
  },
  {
   "cell_type": "code",
   "execution_count": 74,
   "metadata": {},
   "outputs": [
    {
     "name": "stdout",
     "output_type": "stream",
     "text": [
      " * postgresql://student@/final_project\n",
      "616328 rows affected.\n"
     ]
    },
    {
     "data": {
      "text/plain": [
       "[]"
      ]
     },
     "execution_count": 74,
     "metadata": {},
     "output_type": "execute_result"
    }
   ],
   "source": [
    "%%sql\n",
    "UPDATE checkbook as c\n",
    "SET po_line_key = p.key\n",
    "FROM po_line AS p\n",
    "WHERE c.po_num = p.po_num"
   ]
  },
  {
   "cell_type": "markdown",
   "metadata": {},
   "source": [
    "Now we can drop the attributes *po_line* from the fact table"
   ]
  },
  {
   "cell_type": "code",
   "execution_count": 75,
   "metadata": {},
   "outputs": [
    {
     "name": "stdout",
     "output_type": "stream",
     "text": [
      " * postgresql://student@/final_project\n",
      "Done.\n"
     ]
    },
    {
     "data": {
      "text/plain": [
       "[]"
      ]
     },
     "execution_count": 75,
     "metadata": {},
     "output_type": "execute_result"
    }
   ],
   "source": [
    "%%sql\n",
    "ALTER TABLE checkbook\n",
    "DROP COLUMN po_num"
   ]
  },
  {
   "cell_type": "markdown",
   "metadata": {},
   "source": [
    "#### Final Fact Table:"
   ]
  },
  {
   "cell_type": "code",
   "execution_count": 76,
   "metadata": {},
   "outputs": [
    {
     "name": "stdout",
     "output_type": "stream",
     "text": [
      " * postgresql://student@/final_project\n",
      "10 rows affected.\n"
     ]
    },
    {
     "data": {
      "text/html": [
       "<table>\n",
       "    <thead>\n",
       "        <tr>\n",
       "            <th>dollar_amount</th>\n",
       "            <th>payment_status</th>\n",
       "            <th>description</th>\n",
       "            <th>unit_price</th>\n",
       "            <th>quantity</th>\n",
       "            <th>discount</th>\n",
       "            <th>value_of_spend</th>\n",
       "            <th>department_key</th>\n",
       "            <th>fund_key</th>\n",
       "            <th>vendor_key</th>\n",
       "            <th>time_key</th>\n",
       "            <th>item_key</th>\n",
       "            <th>activity_key</th>\n",
       "            <th>expenditure_type_key</th>\n",
       "            <th>po_line_key</th>\n",
       "        </tr>\n",
       "    </thead>\n",
       "    <tbody>\n",
       "        <tr>\n",
       "            <td>3713</td>\n",
       "            <td>PAID</td>\n",
       "            <td>GTECH FITNESS QUOTE #GT7015 DATED 03/04/19 FOR GLASSLESS GYM WALL MOUNT MIRRORS INCLUDES WOOD CRATE PACKING.</td>\n",
       "            <td>None</td>\n",
       "            <td>None</td>\n",
       "            <td>None</td>\n",
       "            <td>None</td>\n",
       "            <td>26</td>\n",
       "            <td>253</td>\n",
       "            <td>8120</td>\n",
       "            <td>407</td>\n",
       "            <td>None</td>\n",
       "            <td>9</td>\n",
       "            <td>174</td>\n",
       "            <td>43</td>\n",
       "        </tr>\n",
       "        <tr>\n",
       "            <td>3720</td>\n",
       "            <td>PAID</td>\n",
       "            <td>70 DUROMETER WHITE EPDM RUBBER WEFCO PART NO. 2390 (140 FEET MADE IN 10 FOOT LENGTHS)</td>\n",
       "            <td>None</td>\n",
       "            <td>None</td>\n",
       "            <td>None</td>\n",
       "            <td>None</td>\n",
       "            <td>26</td>\n",
       "            <td>253</td>\n",
       "            <td>3723</td>\n",
       "            <td>401</td>\n",
       "            <td>None</td>\n",
       "            <td>9</td>\n",
       "            <td>50</td>\n",
       "            <td>82</td>\n",
       "        </tr>\n",
       "        <tr>\n",
       "            <td>2552</td>\n",
       "            <td>PAID</td>\n",
       "            <td>ALARM KIT VON DUPRIN 22-ALK SP28 36 W/EXT INHIB 30897 REM BOARD F/36DR SPRAYED ALUM PART NO. CS894600</td>\n",
       "            <td>None</td>\n",
       "            <td>None</td>\n",
       "            <td>None</td>\n",
       "            <td>None</td>\n",
       "            <td>26</td>\n",
       "            <td>253</td>\n",
       "            <td>2786</td>\n",
       "            <td>409</td>\n",
       "            <td>None</td>\n",
       "            <td>9</td>\n",
       "            <td>50</td>\n",
       "            <td>94</td>\n",
       "        </tr>\n",
       "        <tr>\n",
       "            <td>119</td>\n",
       "            <td>PAID</td>\n",
       "            <td>REPAIR - ALIGN FRONT ON VEHCILE NO. 2780127</td>\n",
       "            <td>None</td>\n",
       "            <td>None</td>\n",
       "            <td>None</td>\n",
       "            <td>None</td>\n",
       "            <td>26</td>\n",
       "            <td>253</td>\n",
       "            <td>7996</td>\n",
       "            <td>404</td>\n",
       "            <td>None</td>\n",
       "            <td>9</td>\n",
       "            <td>37</td>\n",
       "            <td>134321</td>\n",
       "        </tr>\n",
       "        <tr>\n",
       "            <td>620</td>\n",
       "            <td>PAID</td>\n",
       "            <td>TRUCK PICKUP 1/2 T STD 2WD GAS 659100074 (05/13/19 - 06/12/19) - INVOICE NO. 29891430-015</td>\n",
       "            <td>None</td>\n",
       "            <td>None</td>\n",
       "            <td>None</td>\n",
       "            <td>None</td>\n",
       "            <td>26</td>\n",
       "            <td>253</td>\n",
       "            <td>3681</td>\n",
       "            <td>405</td>\n",
       "            <td>None</td>\n",
       "            <td>9</td>\n",
       "            <td>60</td>\n",
       "            <td>134336</td>\n",
       "        </tr>\n",
       "        <tr>\n",
       "            <td>225</td>\n",
       "            <td>PAID</td>\n",
       "            <td>INSIGHT PUBLIC SECTOR INC 39844 SOFTWARE 4-ADOBE ACROBAT PRO DC 5/16/19-9/30/19 QUOTE 221199999 - ITD</td>\n",
       "            <td>None</td>\n",
       "            <td>None</td>\n",
       "            <td>None</td>\n",
       "            <td>None</td>\n",
       "            <td>26</td>\n",
       "            <td>253</td>\n",
       "            <td>3367</td>\n",
       "            <td>402</td>\n",
       "            <td>None</td>\n",
       "            <td>9</td>\n",
       "            <td>99</td>\n",
       "            <td>145749</td>\n",
       "        </tr>\n",
       "        <tr>\n",
       "            <td>528</td>\n",
       "            <td>PAID</td>\n",
       "            <td>INSIGHT PUBLIC SECTOR INC 39844 SOFTWARE 4-ADOBE ACROBAT PRO DC 10/1/19-9/30/20 QUOTE 221199999 - ITD</td>\n",
       "            <td>None</td>\n",
       "            <td>None</td>\n",
       "            <td>None</td>\n",
       "            <td>None</td>\n",
       "            <td>26</td>\n",
       "            <td>253</td>\n",
       "            <td>3367</td>\n",
       "            <td>402</td>\n",
       "            <td>None</td>\n",
       "            <td>9</td>\n",
       "            <td>99</td>\n",
       "            <td>145749</td>\n",
       "        </tr>\n",
       "        <tr>\n",
       "            <td>528</td>\n",
       "            <td>PAID</td>\n",
       "            <td>INSIGHT PUBLIC SECTOR INC 39844 SOFTWARE 4-ADOBE ACROBAT PRO DC 10/1/20-9/30/21 QUOTE 221199999 - ITD</td>\n",
       "            <td>None</td>\n",
       "            <td>None</td>\n",
       "            <td>None</td>\n",
       "            <td>None</td>\n",
       "            <td>26</td>\n",
       "            <td>253</td>\n",
       "            <td>3367</td>\n",
       "            <td>402</td>\n",
       "            <td>None</td>\n",
       "            <td>9</td>\n",
       "            <td>99</td>\n",
       "            <td>145749</td>\n",
       "        </tr>\n",
       "        <tr>\n",
       "            <td>4236</td>\n",
       "            <td>PAID</td>\n",
       "            <td>ZONES INC 39811 HARDWARE 1-GIGAMON MAINTENANCE &amp; SUPPORT RENEWAL QUOTE K1239173 - ITD</td>\n",
       "            <td>None</td>\n",
       "            <td>None</td>\n",
       "            <td>None</td>\n",
       "            <td>None</td>\n",
       "            <td>26</td>\n",
       "            <td>253</td>\n",
       "            <td>7960</td>\n",
       "            <td>403</td>\n",
       "            <td>None</td>\n",
       "            <td>9</td>\n",
       "            <td>98</td>\n",
       "            <td>145750</td>\n",
       "        </tr>\n",
       "        <tr>\n",
       "            <td>-22</td>\n",
       "            <td>PAID</td>\n",
       "            <td>ZONES INC 39811 HARDWARE 1-GIGAMON MAINTENANCE &amp; SUPPORT RENEWAL QUOTE K1239173 - ITD</td>\n",
       "            <td>None</td>\n",
       "            <td>None</td>\n",
       "            <td>None</td>\n",
       "            <td>None</td>\n",
       "            <td>26</td>\n",
       "            <td>253</td>\n",
       "            <td>7960</td>\n",
       "            <td>403</td>\n",
       "            <td>None</td>\n",
       "            <td>9</td>\n",
       "            <td>98</td>\n",
       "            <td>145750</td>\n",
       "        </tr>\n",
       "    </tbody>\n",
       "</table>"
      ],
      "text/plain": [
       "[(Decimal('3713'), 'PAID', 'GTECH FITNESS QUOTE #GT7015 DATED 03/04/19 FOR GLASSLESS GYM WALL MOUNT MIRRORS INCLUDES WOOD CRATE PACKING.', None, None, None, None, 26, 253, 8120, 407, None, 9, 174, 43),\n",
       " (Decimal('3720'), 'PAID', '70 DUROMETER WHITE EPDM RUBBER WEFCO PART NO. 2390 (140 FEET MADE IN 10 FOOT LENGTHS)', None, None, None, None, 26, 253, 3723, 401, None, 9, 50, 82),\n",
       " (Decimal('2552'), 'PAID', 'ALARM KIT VON DUPRIN 22-ALK SP28 36 W/EXT INHIB 30897 REM BOARD F/36DR SPRAYED ALUM PART NO. CS894600', None, None, None, None, 26, 253, 2786, 409, None, 9, 50, 94),\n",
       " (Decimal('119'), 'PAID', 'REPAIR - ALIGN FRONT ON VEHCILE NO. 2780127', None, None, None, None, 26, 253, 7996, 404, None, 9, 37, 134321),\n",
       " (Decimal('620'), 'PAID', 'TRUCK PICKUP 1/2 T STD 2WD GAS 659100074 (05/13/19 - 06/12/19) - INVOICE NO. 29891430-015', None, None, None, None, 26, 253, 3681, 405, None, 9, 60, 134336),\n",
       " (Decimal('225'), 'PAID', 'INSIGHT PUBLIC SECTOR INC 39844 SOFTWARE 4-ADOBE ACROBAT PRO DC 5/16/19-9/30/19 QUOTE 221199999 - ITD', None, None, None, None, 26, 253, 3367, 402, None, 9, 99, 145749),\n",
       " (Decimal('528'), 'PAID', 'INSIGHT PUBLIC SECTOR INC 39844 SOFTWARE 4-ADOBE ACROBAT PRO DC 10/1/19-9/30/20 QUOTE 221199999 - ITD', None, None, None, None, 26, 253, 3367, 402, None, 9, 99, 145749),\n",
       " (Decimal('528'), 'PAID', 'INSIGHT PUBLIC SECTOR INC 39844 SOFTWARE 4-ADOBE ACROBAT PRO DC 10/1/20-9/30/21 QUOTE 221199999 - ITD', None, None, None, None, 26, 253, 3367, 402, None, 9, 99, 145749),\n",
       " (Decimal('4236'), 'PAID', 'ZONES INC 39811 HARDWARE 1-GIGAMON MAINTENANCE & SUPPORT RENEWAL QUOTE K1239173 - ITD', None, None, None, None, 26, 253, 7960, 403, None, 9, 98, 145750),\n",
       " (Decimal('-22'), 'PAID', 'ZONES INC 39811 HARDWARE 1-GIGAMON MAINTENANCE & SUPPORT RENEWAL QUOTE K1239173 - ITD', None, None, None, None, 26, 253, 7960, 403, None, 9, 98, 145750)]"
      ]
     },
     "execution_count": 76,
     "metadata": {},
     "output_type": "execute_result"
    }
   ],
   "source": [
    "%%sql\n",
    "select * from checkbook\n",
    "limit 10"
   ]
  },
  {
   "cell_type": "markdown",
   "metadata": {},
   "source": [
    "Counting the number of records in the original file (2020_Checkbook_Data_cut.csv) and the final fact table to check if the number of records are the same."
   ]
  },
  {
   "cell_type": "markdown",
   "metadata": {},
   "source": [
    "Counting number of records in the orginal in the file"
   ]
  },
  {
   "cell_type": "code",
   "execution_count": 77,
   "metadata": {},
   "outputs": [
    {
     "name": "stdout",
     "output_type": "stream",
     "text": [
      "700145\n"
     ]
    }
   ],
   "source": [
    "!xsv count 2020_Checkbook_Data_cut.csv"
   ]
  },
  {
   "cell_type": "markdown",
   "metadata": {},
   "source": [
    "Countinf the number of records in the final fact table"
   ]
  },
  {
   "cell_type": "code",
   "execution_count": 78,
   "metadata": {},
   "outputs": [
    {
     "name": "stdout",
     "output_type": "stream",
     "text": [
      " * postgresql://student@/final_project\n",
      "1 rows affected.\n"
     ]
    },
    {
     "data": {
      "text/html": [
       "<table>\n",
       "    <thead>\n",
       "        <tr>\n",
       "            <th>count</th>\n",
       "        </tr>\n",
       "    </thead>\n",
       "    <tbody>\n",
       "        <tr>\n",
       "            <td>700145</td>\n",
       "        </tr>\n",
       "    </tbody>\n",
       "</table>"
      ],
      "text/plain": [
       "[(700145,)]"
      ]
     },
     "execution_count": 78,
     "metadata": {},
     "output_type": "execute_result"
    }
   ],
   "source": [
    "%%sql\n",
    "SELECT \n",
    "    COUNT(*)\n",
    "FROM \n",
    "    checkbook"
   ]
  },
  {
   "cell_type": "markdown",
   "metadata": {},
   "source": [
    "***Both records as the same number of records. (700145)***"
   ]
  },
  {
   "cell_type": "markdown",
   "metadata": {},
   "source": [
    "## Ask 3: Data Analysis and Visualization"
   ]
  },
  {
   "cell_type": "code",
   "execution_count": 3,
   "metadata": {},
   "outputs": [],
   "source": [
    "import matplotlib.pyplot as plt\n",
    "%matplotlib  inline\n",
    "import pandas as pd"
   ]
  },
  {
   "cell_type": "markdown",
   "metadata": {},
   "source": [
    "### Overview:\n",
    "***How does expenditure fluctuate over time based on the Los Angeles checkbook data?***\n",
    "- Selecting the month/quarter from the 'time' dimension table, dollar amount from checkbook table, and the count of rows \n",
    "- Join the two tables: checkbook and time together \n",
    "- Group and order by the data by month/quarter"
   ]
  },
  {
   "cell_type": "markdown",
   "metadata": {},
   "source": [
    "#### Monthly:"
   ]
  },
  {
   "cell_type": "code",
   "execution_count": 80,
   "metadata": {},
   "outputs": [
    {
     "name": "stdout",
     "output_type": "stream",
     "text": [
      " * postgresql://student@/final_project\n",
      "12 rows affected.\n"
     ]
    },
    {
     "data": {
      "text/html": [
       "<table>\n",
       "    <thead>\n",
       "        <tr>\n",
       "            <th>fiscal_month_number</th>\n",
       "            <th>total_dollar_amount</th>\n",
       "            <th>total_transaction_count</th>\n",
       "        </tr>\n",
       "    </thead>\n",
       "    <tbody>\n",
       "        <tr>\n",
       "            <td>1</td>\n",
       "            <td>77777416</td>\n",
       "            <td>2576</td>\n",
       "        </tr>\n",
       "        <tr>\n",
       "            <td>2</td>\n",
       "            <td>261327945</td>\n",
       "            <td>40167</td>\n",
       "        </tr>\n",
       "        <tr>\n",
       "            <td>3</td>\n",
       "            <td>189401182</td>\n",
       "            <td>35213</td>\n",
       "        </tr>\n",
       "        <tr>\n",
       "            <td>4</td>\n",
       "            <td>222588205</td>\n",
       "            <td>40565</td>\n",
       "        </tr>\n",
       "        <tr>\n",
       "            <td>5</td>\n",
       "            <td>386117041</td>\n",
       "            <td>81511</td>\n",
       "        </tr>\n",
       "        <tr>\n",
       "            <td>6</td>\n",
       "            <td>217181697</td>\n",
       "            <td>40684</td>\n",
       "        </tr>\n",
       "        <tr>\n",
       "            <td>7</td>\n",
       "            <td>253787197</td>\n",
       "            <td>40773</td>\n",
       "        </tr>\n",
       "        <tr>\n",
       "            <td>8</td>\n",
       "            <td>214522924</td>\n",
       "            <td>39642</td>\n",
       "        </tr>\n",
       "        <tr>\n",
       "            <td>9</td>\n",
       "            <td>224499778</td>\n",
       "            <td>54932</td>\n",
       "        </tr>\n",
       "        <tr>\n",
       "            <td>10</td>\n",
       "            <td>236772194</td>\n",
       "            <td>65862</td>\n",
       "        </tr>\n",
       "        <tr>\n",
       "            <td>11</td>\n",
       "            <td>228717114</td>\n",
       "            <td>44400</td>\n",
       "        </tr>\n",
       "        <tr>\n",
       "            <td>12</td>\n",
       "            <td>301017735</td>\n",
       "            <td>53597</td>\n",
       "        </tr>\n",
       "    </tbody>\n",
       "</table>"
      ],
      "text/plain": [
       "[(1, Decimal('77777416'), 2576),\n",
       " (2, Decimal('261327945'), 40167),\n",
       " (3, Decimal('189401182'), 35213),\n",
       " (4, Decimal('222588205'), 40565),\n",
       " (5, Decimal('386117041'), 81511),\n",
       " (6, Decimal('217181697'), 40684),\n",
       " (7, Decimal('253787197'), 40773),\n",
       " (8, Decimal('214522924'), 39642),\n",
       " (9, Decimal('224499778'), 54932),\n",
       " (10, Decimal('236772194'), 65862),\n",
       " (11, Decimal('228717114'), 44400),\n",
       " (12, Decimal('301017735'), 53597)]"
      ]
     },
     "execution_count": 80,
     "metadata": {},
     "output_type": "execute_result"
    }
   ],
   "source": [
    "%%sql\n",
    "SELECT \n",
    "    t.fiscal_month_number,\n",
    "    SUM(c.dollar_amount) AS total_dollar_amount,\n",
    "    COUNT(*) AS total_transaction_count\n",
    "FROM \n",
    "    checkbook AS c\n",
    "JOIN \n",
    "    time AS t ON c.time_key = t.key\n",
    "GROUP BY \n",
    "    t.fiscal_month_number\n",
    "ORDER BY \n",
    "    t.fiscal_month_number;"
   ]
  },
  {
   "cell_type": "markdown",
   "metadata": {},
   "source": [
    "Plotting the data using pandas library.\n",
    "Looking at expenditure on a monthly basis."
   ]
  },
  {
   "cell_type": "code",
   "execution_count": 81,
   "metadata": {},
   "outputs": [
    {
     "data": {
      "image/png": "[encoded data removed]",
      "text/plain": [
       "<Figure size 1000x400 with 2 Axes>"
      ]
     },
     "metadata": {},
     "output_type": "display_data"
    }
   ],
   "source": [
    "df = pd.DataFrame(_).sort_values(by='fiscal_month_number', ascending=True)\n",
    "\n",
    "plt.figure(figsize=(10,4), tight_layout=True, facecolor='white')\n",
    "plt.title('Fiscal-Monthly: Expenditure & Transaction_Count');\n",
    "plt.grid(True, alpha=0.5, ls='--');\n",
    "plt.xticks(range(1, 13));    plt.xlabel('Fiscal_Month_number');  \n",
    "\n",
    "plt.bar(x='fiscal_month_number', height='total_dollar_amount', data=df, alpha=0.7, width=0.5, label='Dollar_Amount')\n",
    "plt.legend();\n",
    "plt.ylabel('Total_Dollar_Amount');\n",
    "\n",
    "plt.twinx();\n",
    "plt.plot(df['fiscal_month_number'], df['total_transaction_count'], marker='*', color='red', label='Transaction_Count');\n",
    "plt.ylabel('Transaction_Count');\n",
    "plt.legend(loc='lower right');"
   ]
  },
  {
   "cell_type": "markdown",
   "metadata": {},
   "source": [
    "#### Quarterly"
   ]
  },
  {
   "cell_type": "markdown",
   "metadata": {},
   "source": [
    "Combining data from the \"checkbook\" and \"time\" tables, linking them through the \"time_key\" column. It then groups the results by fiscal year-quarter, calculating the total dollar amount and transaction count for each quarter. The final output is ordered by fiscal year quarter, providing a concise summary of financial data across quarters for analysis."
   ]
  },
  {
   "cell_type": "code",
   "execution_count": 82,
   "metadata": {},
   "outputs": [
    {
     "name": "stdout",
     "output_type": "stream",
     "text": [
      " * postgresql://student@/final_project\n",
      "4 rows affected.\n"
     ]
    },
    {
     "data": {
      "text/html": [
       "<table>\n",
       "    <thead>\n",
       "        <tr>\n",
       "            <th>fiscal_year_quarter</th>\n",
       "            <th>total_dollar_amount</th>\n",
       "            <th>total_transaction_count</th>\n",
       "        </tr>\n",
       "    </thead>\n",
       "    <tbody>\n",
       "        <tr>\n",
       "            <td>2020-01</td>\n",
       "            <td>528506543</td>\n",
       "            <td>77956</td>\n",
       "        </tr>\n",
       "        <tr>\n",
       "            <td>2020-02</td>\n",
       "            <td>825886943</td>\n",
       "            <td>162760</td>\n",
       "        </tr>\n",
       "        <tr>\n",
       "            <td>2020-03</td>\n",
       "            <td>692809899</td>\n",
       "            <td>135347</td>\n",
       "        </tr>\n",
       "        <tr>\n",
       "            <td>2020-04</td>\n",
       "            <td>766507043</td>\n",
       "            <td>163859</td>\n",
       "        </tr>\n",
       "    </tbody>\n",
       "</table>"
      ],
      "text/plain": [
       "[('2020-01', Decimal('528506543'), 77956),\n",
       " ('2020-02', Decimal('825886943'), 162760),\n",
       " ('2020-03', Decimal('692809899'), 135347),\n",
       " ('2020-04', Decimal('766507043'), 163859)]"
      ]
     },
     "execution_count": 82,
     "metadata": {},
     "output_type": "execute_result"
    }
   ],
   "source": [
    "%%sql\n",
    "SELECT \n",
    "    t.fiscal_year_quarter,\n",
    "    SUM(c.dollar_amount) AS total_dollar_amount,\n",
    "    COUNT(*) AS total_transaction_count\n",
    "FROM \n",
    "    checkbook AS c\n",
    "JOIN \n",
    "    time AS t ON c.time_key = t.key\n",
    "GROUP BY \n",
    "    t.fiscal_year_quarter\n",
    "ORDER BY \n",
    "    t.fiscal_year_quarter;"
   ]
  },
  {
   "cell_type": "markdown",
   "metadata": {},
   "source": [
    "Using pandas to plot on a quarterly basis."
   ]
  },
  {
   "cell_type": "code",
   "execution_count": 83,
   "metadata": {},
   "outputs": [
    {
     "data": {
      "image/png": "[encoded data removed]",
      "text/plain": [
       "<Figure size 1000x400 with 2 Axes>"
      ]
     },
     "metadata": {},
     "output_type": "display_data"
    }
   ],
   "source": [
    "df = pd.DataFrame(_).sort_values(by='fiscal_year_quarter', ascending=True)\n",
    "\n",
    "plt.figure(figsize=(10,4), tight_layout=True, facecolor='white')\n",
    "plt.title('Fiscal-quarterly: Spending & Order_Count');\n",
    "plt.grid(True, alpha=0.5, ls='--');\n",
    "plt.xlabel('fiscal_year_quarter');  \n",
    "\n",
    "plt.bar(x='fiscal_year_quarter', height='total_dollar_amount', data=df, alpha=0.7, width=0.5, label='Dollar_Amount')\n",
    "plt.legend();\n",
    "plt.ylabel('Total_Dollar_Amount');\n",
    "\n",
    "plt.twinx();\n",
    "plt.plot(df['fiscal_year_quarter'], df['total_transaction_count'], marker='*', color='red', label='Transaction_Count');\n",
    "plt.ylabel('Transaction_Count');\n",
    "plt.legend(loc='lower right');"
   ]
  },
  {
   "cell_type": "markdown",
   "metadata": {},
   "source": [
    "#### Discoveries:\n",
    "- ***Monthly:*** The graph displays a general upward trend in spending with some fluctuations. The transaction count appears more variable, with several peaks and troughs, indicating that the number of transactions does not increase consistently alongside expenditure. This suggests that higher spending may be due to a combination of an increased number of transactions and larger transaction amounts in certain months.\n",
    "\n",
    "- ***Quaretly:*** The expenditure consistently increased from the first to the fourth quarter of 2020, the transaction count fluctuated with a notable dip in the third quarter before rising again. This suggests a possible increase in the average value of transactions over time, especially in the final quarter."
   ]
  },
  {
   "cell_type": "markdown",
   "metadata": {},
   "source": [
    "### QUESTION 1:\n",
    "***What are the highest-ranking vendors based on the total dollar amount of orders? Additionally, what is the count of orders for each of these top three vendors, and what percentage does each vendor's order count contribute to the overall activity in the dataset?***"
   ]
  },
  {
   "cell_type": "markdown",
   "metadata": {},
   "source": [
    "Information about the top five vendors based on the total dollar amount of transactions in the \"checkbook\" dataset. The main query then selects the vendor name, total dollar amount, transaction count, and the percentage of total transactions for each vendor. The results are grouped by vendor name, ordered by total dollar amount in descending order, and limited to the top five vendors."
   ]
  },
  {
   "cell_type": "code",
   "execution_count": 84,
   "metadata": {},
   "outputs": [
    {
     "name": "stdout",
     "output_type": "stream",
     "text": [
      " * postgresql://student@/final_project\n",
      "5 rows affected.\n"
     ]
    },
    {
     "data": {
      "text/html": [
       "<table>\n",
       "    <thead>\n",
       "        <tr>\n",
       "            <th>vendor_name</th>\n",
       "            <th>total_dollar_amount</th>\n",
       "            <th>transaction_count</th>\n",
       "            <th>percentage_of_total</th>\n",
       "        </tr>\n",
       "    </thead>\n",
       "    <tbody>\n",
       "        <tr>\n",
       "            <td>VOYA HOLDINGS, INC.</td>\n",
       "            <td>344757329</td>\n",
       "            <td>152</td>\n",
       "            <td>4.06080058806313396700</td>\n",
       "        </tr>\n",
       "        <tr>\n",
       "            <td>SO CALIF PUBLIC PWR AUTH/SCPPA C/O OFFICE OF THE TREASURER</td>\n",
       "            <td>342719045</td>\n",
       "            <td>142</td>\n",
       "            <td>4.03679220834326533800</td>\n",
       "        </tr>\n",
       "        <tr>\n",
       "            <td>TURNER PCL A JOINT VENTURE</td>\n",
       "            <td>329937822</td>\n",
       "            <td>16</td>\n",
       "            <td>3.88624574128160048400</td>\n",
       "        </tr>\n",
       "        <tr>\n",
       "            <td>DELTA AIR LINES INC</td>\n",
       "            <td>226029349</td>\n",
       "            <td>6</td>\n",
       "            <td>2.66233676888338852800</td>\n",
       "        </tr>\n",
       "        <tr>\n",
       "            <td>SOUTHERN CALIFORNIA PERMANENTE MEDICAL GROUP</td>\n",
       "            <td>214302046</td>\n",
       "            <td>39</td>\n",
       "            <td>2.52420413206047546100</td>\n",
       "        </tr>\n",
       "    </tbody>\n",
       "</table>"
      ],
      "text/plain": [
       "[('VOYA HOLDINGS, INC.', Decimal('344757329'), 152, Decimal('4.06080058806313396700')),\n",
       " ('SO CALIF PUBLIC PWR AUTH/SCPPA C/O OFFICE OF THE TREASURER', Decimal('342719045'), 142, Decimal('4.03679220834326533800')),\n",
       " ('TURNER PCL A JOINT VENTURE', Decimal('329937822'), 16, Decimal('3.88624574128160048400')),\n",
       " ('DELTA AIR LINES INC', Decimal('226029349'), 6, Decimal('2.66233676888338852800')),\n",
       " ('SOUTHERN CALIFORNIA PERMANENTE MEDICAL GROUP', Decimal('214302046'), 39, Decimal('2.52420413206047546100'))]"
      ]
     },
     "execution_count": 84,
     "metadata": {},
     "output_type": "execute_result"
    }
   ],
   "source": [
    "%%sql\n",
    "WITH TotalAmount AS (\n",
    "    SELECT \n",
    "        SUM(dollar_amount) AS total_amount\n",
    "    FROM \n",
    "        checkbook\n",
    ")\n",
    "\n",
    "SELECT \n",
    "    v.vendor_name,\n",
    "    SUM(c.dollar_amount) AS total_dollar_amount,\n",
    "    COUNT(c.dollar_amount) AS transaction_count,\n",
    "    SUM(c.dollar_amount) / (SELECT total_amount FROM TotalAmount) * 100 AS percentage_of_total\n",
    "FROM \n",
    "    checkbook AS c\n",
    "JOIN\n",
    "    vendor AS v ON c.vendor_key = v.key\n",
    "CROSS JOIN\n",
    "    TotalAmount\n",
    "\n",
    "GROUP BY \n",
    "    v.vendor_name\n",
    "\n",
    "ORDER BY \n",
    "    total_dollar_amount DESC\n",
    "LIMIT 5;"
   ]
  },
  {
   "cell_type": "code",
   "execution_count": 85,
   "metadata": {},
   "outputs": [
    {
     "data": {
      "image/png": "[encoded data removed]",
      "text/plain": [
       "<Figure size 1000x600 with 2 Axes>"
      ]
     },
     "metadata": {},
     "output_type": "display_data"
    }
   ],
   "source": [
    "df = pd.DataFrame(_).sort_values(by='total_dollar_amount', ascending=True)\n",
    "fig, ax1 = plt.subplots(figsize=(10, 6))\n",
    "ax1.set_title('Top Dollar Amount Vendors & transaction count')\n",
    "\n",
    "ax1.barh(y='vendor_name', width='total_dollar_amount', data=df, color='skyblue', label='dollar amount')\n",
    "ax1.set_xlabel('Total Dollar Amount');\n",
    "ax1.legend(loc='lower right')\n",
    "# ax1.set_ylabel('Vendor')\n",
    "\n",
    "ax2 = ax1.twiny();\n",
    "ax2.plot(df['transaction_count'], df['vendor_name'], color='red', marker='o', label='transaction count')\n",
    "ax2.set_xlabel('Transaction Count')\n",
    "\n",
    "plt.legend(loc='upper center');\n",
    "\n",
    "plt.show();"
   ]
  },
  {
   "cell_type": "markdown",
   "metadata": {},
   "source": [
    "#### Discoveries:\n",
    "Top-5 Vendors are:\n",
    "1. Voya Holdings, Inc.: <u>$ 344,757,329</u>    VOYA is a financial services company that provides retirement, investment, and insurance products. In a government context, this expenditure could be related to pension fund management, employee retirement plans, or other financial services.\n",
    "\n",
    "2. Southern California Public Power Authority: <u>$ 342,719,045</u> SCPPA is a joint powers authority consisting of municipal utilities and an irrigation district. The Office of the Treasurer likely handles financial transactions for a city or state. Expenditures here may relate to utility services or financial management services for public funds.\n",
    "\n",
    "3. Turner PCL: <u>$ 329,937,822</u>   These are large construction companies that often form joint ventures for large-scale construction projects. Expenditures with this vendor would likely be for construction or major infrastructure projects.\n",
    "\n",
    "4. Delta Airlines Inc.: <u>$ 226,029,349</u>    Delta is a major airline. Government expenditures with Delta could be for employee travel, transportation of officials, or other travel-related services.\n",
    "\n",
    "5. Southern California Permanente Medical Group: <u>$ 214,302,046</u>    This is a medical organization that provides healthcare services. Expenditures with this group would likely be related to healthcare services for government employees or public health initiatives."
   ]
  },
  {
   "cell_type": "markdown",
   "metadata": {},
   "source": [
    "Information about the top five vendors based on the highest amount of transactions in the \"checkbook\" dataset. The main query then selects the vendor name, total dollar amount, transaction count, and the percentage of total transactions for each vendor. The results are grouped by vendor name, ordered by total dollar amount in descending order, and limited to the top five vendors."
   ]
  },
  {
   "cell_type": "code",
   "execution_count": 86,
   "metadata": {},
   "outputs": [
    {
     "name": "stdout",
     "output_type": "stream",
     "text": [
      " * postgresql://student@/final_project\n",
      "5 rows affected.\n"
     ]
    },
    {
     "data": {
      "text/html": [
       "<table>\n",
       "    <thead>\n",
       "        <tr>\n",
       "            <th>vendor_name</th>\n",
       "            <th>total_dollar_amount</th>\n",
       "            <th>transaction_count</th>\n",
       "            <th>percentage_of_total</th>\n",
       "        </tr>\n",
       "    </thead>\n",
       "    <tbody>\n",
       "        <tr>\n",
       "            <td>KONICA MINOLTA BUSINESS SOLUTIONS</td>\n",
       "            <td>3925052</td>\n",
       "            <td>54975</td>\n",
       "            <td>0.04623209466209311600</td>\n",
       "        </tr>\n",
       "        <tr>\n",
       "            <td>OFFICE DEPOT BUSINESS SVCS DIV</td>\n",
       "            <td>3690778</td>\n",
       "            <td>43104</td>\n",
       "            <td>0.04347264644462562700</td>\n",
       "        </tr>\n",
       "        <tr>\n",
       "            <td>FALCON FUELS INC</td>\n",
       "            <td>25628667</td>\n",
       "            <td>20578</td>\n",
       "            <td>0.30187293284452333000</td>\n",
       "        </tr>\n",
       "        <tr>\n",
       "            <td>ROBERTSONS READY MIX</td>\n",
       "            <td>4034635</td>\n",
       "            <td>16535</td>\n",
       "            <td>0.04752284230807491400</td>\n",
       "        </tr>\n",
       "        <tr>\n",
       "            <td>PRIVACY-RECREATION AND PARKS</td>\n",
       "            <td>1801432</td>\n",
       "            <td>16304</td>\n",
       "            <td>0.02121856595818952900</td>\n",
       "        </tr>\n",
       "    </tbody>\n",
       "</table>"
      ],
      "text/plain": [
       "[('KONICA MINOLTA BUSINESS SOLUTIONS', Decimal('3925052'), 54975, Decimal('0.04623209466209311600')),\n",
       " ('OFFICE DEPOT BUSINESS SVCS DIV', Decimal('3690778'), 43104, Decimal('0.04347264644462562700')),\n",
       " ('FALCON FUELS INC', Decimal('25628667'), 20578, Decimal('0.30187293284452333000')),\n",
       " ('ROBERTSONS READY MIX', Decimal('4034635'), 16535, Decimal('0.04752284230807491400')),\n",
       " ('PRIVACY-RECREATION AND PARKS', Decimal('1801432'), 16304, Decimal('0.02121856595818952900'))]"
      ]
     },
     "execution_count": 86,
     "metadata": {},
     "output_type": "execute_result"
    }
   ],
   "source": [
    "%%sql\n",
    "WITH TotalAmount AS (\n",
    "    SELECT \n",
    "        SUM(dollar_amount) AS total_amount\n",
    "    FROM \n",
    "        checkbook\n",
    ")\n",
    "\n",
    "SELECT \n",
    "    v.vendor_name,\n",
    "    SUM(c.dollar_amount) AS total_dollar_amount,\n",
    "    COUNT(c.dollar_amount) AS transaction_count,\n",
    "    SUM(c.dollar_amount) / (SELECT total_amount FROM TotalAmount) * 100 AS percentage_of_total\n",
    "FROM \n",
    "    checkbook AS c\n",
    "JOIN\n",
    "    vendor AS v ON c.vendor_key = v.key\n",
    "CROSS JOIN\n",
    "    TotalAmount\n",
    "\n",
    "GROUP BY \n",
    "    v.vendor_name\n",
    "\n",
    "ORDER BY \n",
    "    transaction_count DESC\n",
    "LIMIT 5;"
   ]
  },
  {
   "cell_type": "code",
   "execution_count": 87,
   "metadata": {},
   "outputs": [
    {
     "data": {
      "image/png": "[encoded data removed]",
      "text/plain": [
       "<Figure size 1000x600 with 2 Axes>"
      ]
     },
     "metadata": {},
     "output_type": "display_data"
    }
   ],
   "source": [
    "df = pd.DataFrame(_).sort_values(by='transaction_count', ascending=True)\n",
    "fig, ax1 = plt.subplots(figsize=(10, 6))\n",
    "ax1.set_title('Top Transaction count Vendors & dollar amount')\n",
    "\n",
    "ax1.barh(y='vendor_name', width='total_dollar_amount', data=df, color='skyblue', label='dollar amount')\n",
    "ax1.set_xlabel('Total Dollar Amount');\n",
    "ax1.legend(loc='lower right')\n",
    "# ax1.set_ylabel('Vendor')\n",
    "\n",
    "ax2 = ax1.twiny();\n",
    "ax2.plot(df['transaction_count'], df['vendor_name'], color='red', marker='o', label='transaction count')\n",
    "ax2.set_xlabel('Transaction Count')\n",
    "\n",
    "plt.legend(loc='upper center');\n",
    "\n",
    "plt.show();"
   ]
  },
  {
   "cell_type": "markdown",
   "metadata": {},
   "source": [
    "#### Discoveries:\n",
    "Top-5 transaction count Vendors are:\n",
    "1. Konica Minolta Business Solutions: <u>*54,975 transactions*</u>    Konica Minolta is a multinational technology company that specializes in business solutions, including office printing systems, digital presses, multifunctional products (MFPs), and IT services. They typically provide copiers, laser printers, and related services.\n",
    "\n",
    "2. Office Depot Business SVCS Div: <u>*43,104 transactions*</u>    Office Depot provides a broad range of office supplies and services. This division would cater to business customers with products like stationery, furniture, technology equipment, and business services (such as printing and document services).\n",
    "\n",
    "3. Falcon Fuels INC.: <u>*20,578 transactions*</u>    This company likely specializes in the provision of fuel products. They could be supplying gasoline, diesel, or other types of fuel for vehicles, equipment, and heating purposes.\n",
    "\n",
    "4. Robertsons Ready Mix: <u>*16,535 transactions*</u>    Robertson's Ready Mix is a company that supplies ready-mixed concrete and building materials. Ready mix concrete is typically used in construction projects for everything from sidewalks and driveways to buildings and bridges.\n",
    "\n",
    "5. Privacy-recreation and parks: <u>*16,304 transactions*</u>    it could be involved with municipal or regional services related to recreation and park management. This could include maintenance of park facilities, organization of recreational programs, and possibly conservation efforts."
   ]
  },
  {
   "cell_type": "markdown",
   "metadata": {},
   "source": [
    "### QUESTION 2:\n",
    "***What departments exhibit higher spending, and how is the government budget allocated among various activities within these departments?***"
   ]
  },
  {
   "cell_type": "markdown",
   "metadata": {},
   "source": [
    "Retrieving and summarizing spending information from the \"checkbook\" data by joining it with the \"department\" data. It retrieves the total dollar amount spent by each department, grouping the results by department name. The output is then ordered in descending order based on the total dollar amount, and only the top 10 departments are displayed. Identifying and presenting the highest-spending departments in the dataset."
   ]
  },
  {
   "cell_type": "code",
   "execution_count": 88,
   "metadata": {},
   "outputs": [
    {
     "name": "stdout",
     "output_type": "stream",
     "text": [
      " * postgresql://student@/final_project\n",
      "10 rows affected.\n"
     ]
    },
    {
     "data": {
      "text/html": [
       "<table>\n",
       "    <thead>\n",
       "        <tr>\n",
       "            <th>department_name</th>\n",
       "            <th>total_dollar_amount</th>\n",
       "            <th>individual_percentage</th>\n",
       "            <th>cumulative_total</th>\n",
       "            <th>cumulative_percentage</th>\n",
       "        </tr>\n",
       "    </thead>\n",
       "    <tbody>\n",
       "        <tr>\n",
       "            <td>WATER AND POWER</td>\n",
       "            <td>2465801870</td>\n",
       "            <td>29.04%</td>\n",
       "            <td>$ 2465801870</td>\n",
       "            <td>29.04%</td>\n",
       "        </tr>\n",
       "        <tr>\n",
       "            <td>AIRPORTS</td>\n",
       "            <td>1778447571</td>\n",
       "            <td>20.95%</td>\n",
       "            <td>$ 4244249441</td>\n",
       "            <td>49.99%</td>\n",
       "        </tr>\n",
       "        <tr>\n",
       "            <td>NON_DEPARTMENTAL</td>\n",
       "            <td>1732687502</td>\n",
       "            <td>20.41%</td>\n",
       "            <td>$ 5976936943</td>\n",
       "            <td>70.40%</td>\n",
       "        </tr>\n",
       "        <tr>\n",
       "            <td>GENERAL SERVICES</td>\n",
       "            <td>335859880</td>\n",
       "            <td>3.96%</td>\n",
       "            <td>$ 6312796823</td>\n",
       "            <td>74.36%</td>\n",
       "        </tr>\n",
       "        <tr>\n",
       "            <td>TRANSPORTATION</td>\n",
       "            <td>243743469</td>\n",
       "            <td>2.87%</td>\n",
       "            <td>$ 6556540292</td>\n",
       "            <td>77.23%</td>\n",
       "        </tr>\n",
       "        <tr>\n",
       "            <td>HOUSING AND COMMUNITY INVESTMENT DEPARTMENT</td>\n",
       "            <td>241620058</td>\n",
       "            <td>2.85%</td>\n",
       "            <td>$ 6798160350</td>\n",
       "            <td>80.07%</td>\n",
       "        </tr>\n",
       "        <tr>\n",
       "            <td>HARBOR</td>\n",
       "            <td>219100261</td>\n",
       "            <td>2.58%</td>\n",
       "            <td>$ 7017260611</td>\n",
       "            <td>82.65%</td>\n",
       "        </tr>\n",
       "        <tr>\n",
       "            <td>PERSONNEL</td>\n",
       "            <td>173973397</td>\n",
       "            <td>2.05%</td>\n",
       "            <td>$ 7191234008</td>\n",
       "            <td>84.70%</td>\n",
       "        </tr>\n",
       "        <tr>\n",
       "            <td>PENSION</td>\n",
       "            <td>152348661</td>\n",
       "            <td>1.79%</td>\n",
       "            <td>$ 7343582669</td>\n",
       "            <td>86.50%</td>\n",
       "        </tr>\n",
       "        <tr>\n",
       "            <td>POLICE</td>\n",
       "            <td>116529144</td>\n",
       "            <td>1.37%</td>\n",
       "            <td>$ 7460111813</td>\n",
       "            <td>87.87%</td>\n",
       "        </tr>\n",
       "    </tbody>\n",
       "</table>"
      ],
      "text/plain": [
       "[('WATER AND POWER', Decimal('2465801870'), '29.04%', '$ 2465801870', '29.04%'),\n",
       " ('AIRPORTS', Decimal('1778447571'), '20.95%', '$ 4244249441', '49.99%'),\n",
       " ('NON_DEPARTMENTAL', Decimal('1732687502'), '20.41%', '$ 5976936943', '70.40%'),\n",
       " ('GENERAL SERVICES', Decimal('335859880'), '3.96%', '$ 6312796823', '74.36%'),\n",
       " ('TRANSPORTATION', Decimal('243743469'), '2.87%', '$ 6556540292', '77.23%'),\n",
       " ('HOUSING AND COMMUNITY INVESTMENT DEPARTMENT', Decimal('241620058'), '2.85%', '$ 6798160350', '80.07%'),\n",
       " ('HARBOR', Decimal('219100261'), '2.58%', '$ 7017260611', '82.65%'),\n",
       " ('PERSONNEL', Decimal('173973397'), '2.05%', '$ 7191234008', '84.70%'),\n",
       " ('PENSION', Decimal('152348661'), '1.79%', '$ 7343582669', '86.50%'),\n",
       " ('POLICE', Decimal('116529144'), '1.37%', '$ 7460111813', '87.87%')]"
      ]
     },
     "execution_count": 88,
     "metadata": {},
     "output_type": "execute_result"
    }
   ],
   "source": [
    "%%sql\n",
    "SELECT \n",
    "    d.department_name AS department_name,\n",
    "    SUM(c.dollar_amount) AS total_dollar_amount,\n",
    "    CONCAT(ROUND(100.0 * SUM(c.dollar_amount) / SUM(SUM(c.dollar_amount)) OVER (), 2), '%') AS individual_percentage,\n",
    "    CONCAT('$ ',SUM(SUM(c.dollar_amount)) OVER (ORDER BY SUM(c.dollar_amount) DESC)) AS cumulative_total,\n",
    "    CONCAT(ROUND(100.0 * SUM(SUM(c.dollar_amount)) OVER (ORDER BY SUM(c.dollar_amount) DESC) / SUM(SUM(c.dollar_amount)) OVER (), 2), '%') AS cumulative_percentage \n",
    "    \n",
    "FROM \n",
    "    checkbook AS c\n",
    "JOIN \n",
    "    department AS d ON c.department_key = d.key\n",
    "GROUP BY \n",
    "    d.department_name\n",
    "ORDER BY \n",
    "    total_dollar_amount DESC\n",
    "LIMIT 10;"
   ]
  },
  {
   "cell_type": "markdown",
   "metadata": {},
   "source": [
    "Creating a combined horizontal bar chart and line plot for departmental spending. The horizontal bars represent total dollar amounts for each department, while the line plot shows cumulative percentages. The chart includes a secondary x-axis with an 80% mark for Pareto analysis.\n",
    "\n",
    "- ***Pareto analysis:*** is also known as the 80/20 rule, which states that for many events, roughly 80% of the effects come from 20% of the causes. When applied to spending analysis, a Pareto chart can help identify the largest areas of expenditure, suggesting that focusing on these areas can have the most substantial impact on overall cost reduction or budget optimization."
   ]
  },
  {
   "cell_type": "markdown",
   "metadata": {},
   "source": [
    "Applying Pareto analysis to the top 10 departments in the LA checkbook data involves identifying and prioritizing the crucial few departments that contribute significantly to 80% of the financial impact. By focusing efforts on these key departments, the analysis can help aim to streamline resource allocation and decision-making for maximum efficiency in financial management."
   ]
  },
  {
   "cell_type": "code",
   "execution_count": 89,
   "metadata": {},
   "outputs": [
    {
     "data": {
      "image/png": "[encoded data removed]",
      "text/plain": [
       "<Figure size 1000x600 with 2 Axes>"
      ]
     },
     "metadata": {},
     "output_type": "display_data"
    }
   ],
   "source": [
    "df = pd.DataFrame(_).sort_values(by='total_dollar_amount', ascending=True)\n",
    "\n",
    "df['cumulative_percentage'] = df['cumulative_percentage'].str.rstrip('%').astype('float')\n",
    "\n",
    "fig, ax1 = plt.subplots(figsize=(10, 6))\n",
    "ax1.set_title('Total Dollar Amount: by Department')\n",
    "\n",
    "ax1.barh(y='department_name', width='total_dollar_amount', data=df, color='blue', alpha=0.7)\n",
    "ax1.set_xlabel('Total Dollar Amount')\n",
    "ax1.set_ylabel('Department Name')\n",
    "\n",
    "ax2 = ax1.twiny();\n",
    "ax2.plot(df['cumulative_percentage'], df['department_name'], color='red', marker='o', label='Cumulative Percentage')\n",
    "ax2.set_xlim([0, 100])  # Set x-axis limit to ensure it reaches 100%\n",
    "ax2.axvline(x=80, color='green', linestyle='--', label='80% Mark')\n",
    "ax2.set_xlabel('Cumulative Percentage')\n",
    "\n",
    "plt.legend(loc='lower center');\n",
    "\n",
    "plt.show();"
   ]
  },
  {
   "cell_type": "markdown",
   "metadata": {},
   "source": [
    "#### Discoveries & Insights:\n",
    "\n",
    "1. **Concentration of Spending:** The top three departments by spending are \"WATER AND POWER\", \"AIRPORTS\", and \"NON_DEPARTMENTAL\". Together, they account for a significant portion (70.40%) of the total spending. \n",
    "\n",
    "    - The distribution of spending among the departments may reflect the priorities and policy decisions of the governing body. Significant spending in \"WATER AND POWER\" and \"AIRPORTS\" may reflect large infrastructure, maintenance, or operational costs associated with these sectors\n",
    "\n",
    "2. **Threshold for Majority of Spending:** It takes only five departments (\"WATER AND POWER\", \"AIRPORTS\", \"NON_DEPARTMENTAL\", \"GENERAL SERVICES\", and \"TRANSPORTATION\") to exceed 77% of total spending, and the \"HOUSING AND COMMUNITY INVESTMENT DEPARTMENT\" pushes the cumulative spending just past the 80% threshold. This means that approximately 80% of the total spending is mostly concentrated within only the top 6 departments.\n",
    "    - This aligns with the Pareto principle, which suggests that a small number of departments are responsible for a large proportion of the effects (spending).\n",
    "\n",
    "3. **Smaller Departments:** The departments listed at the bottom (\"PERSONNEL\", \"PENSION\", \"POLICE\") have relatively small individual percentages (all below 3%)\n",
    "    - While smaller departments like \"POLICE\" have a lower individual percentage, their essential services mean that any budget adjustments would need to be carefully considered to avoid compromising critical public services.\n",
    "- This distribution of spending suggests that strategic financial management efforts should likely be concentrated on the top spending departments. However, it is also crucial to ensure that smaller departments are operating efficiently and are not overlooked simply because they have a smaller share of the spending."
   ]
  },
  {
   "cell_type": "markdown",
   "metadata": {},
   "source": [
    "We will check the activities into each department , and their distribution. Similar to what we have done before, finding the same for government activites. \n",
    "We are filtering for the departments that hit the 80% Pareto analysis mark."
   ]
  },
  {
   "cell_type": "markdown",
   "metadata": {},
   "source": [
    "Extracting financial data from the checkbook table, joined with the department and activity tables. It specifically focuses on departments such as 'WATER AND POWER', 'AIRPORTS', 'NON DEPARTMENTAL', 'GENERAL SERVICES', 'TRANSPORTATION', and 'HOUSING AND COMMUNITY INVESTMENT DEPARTMENT'. The results provide the total dollar amount spent on each government activity within these departments, along with the percentage of each activity's spending relative to the total spending within its corresponding department. The output is organized by department name, total dollar amount (in descending order), and government activity, offering insights into spending patterns and priorities across the selected departments."
   ]
  },
  {
   "cell_type": "code",
   "execution_count": 90,
   "metadata": {},
   "outputs": [
    {
     "name": "stdout",
     "output_type": "stream",
     "text": [
      " * postgresql://student@/final_project\n",
      "11 rows affected.\n"
     ]
    },
    {
     "data": {
      "text/html": [
       "<table>\n",
       "    <thead>\n",
       "        <tr>\n",
       "            <th>department_name</th>\n",
       "            <th>government_activity</th>\n",
       "            <th>total_dollar_amount</th>\n",
       "            <th>percentage_of_total</th>\n",
       "        </tr>\n",
       "    </thead>\n",
       "    <tbody>\n",
       "        <tr>\n",
       "            <td>AIRPORTS</td>\n",
       "            <td>TRANSPORTATION, COMMERCE AND/OR ENTERPRISE</td>\n",
       "            <td>1777456541</td>\n",
       "            <td>99.94</td>\n",
       "        </tr>\n",
       "        <tr>\n",
       "            <td>AIRPORTS</td>\n",
       "            <td>FINANCIAL SERVICES</td>\n",
       "            <td>991030</td>\n",
       "            <td>0.06</td>\n",
       "        </tr>\n",
       "        <tr>\n",
       "            <td>GENERAL SERVICES</td>\n",
       "            <td>GENERAL GOVERNMENT</td>\n",
       "            <td>324621626</td>\n",
       "            <td>96.65</td>\n",
       "        </tr>\n",
       "        <tr>\n",
       "            <td>GENERAL SERVICES</td>\n",
       "            <td>FINANCIAL SERVICES</td>\n",
       "            <td>11235141</td>\n",
       "            <td>3.35</td>\n",
       "        </tr>\n",
       "        <tr>\n",
       "            <td>GENERAL SERVICES</td>\n",
       "            <td>PROTECTION OF PERSONS AND PROPERTY</td>\n",
       "            <td>3113</td>\n",
       "            <td>0.00</td>\n",
       "        </tr>\n",
       "        <tr>\n",
       "            <td>HOUSING AND COMMUNITY INVESTMENT DEPARTMENT</td>\n",
       "            <td>COMMUNITY DEVELOPMENT</td>\n",
       "            <td>240895510</td>\n",
       "            <td>99.70</td>\n",
       "        </tr>\n",
       "        <tr>\n",
       "            <td>HOUSING AND COMMUNITY INVESTMENT DEPARTMENT</td>\n",
       "            <td>PROTECTION OF PERSONS AND PROPERTY</td>\n",
       "            <td>724820</td>\n",
       "            <td>0.30</td>\n",
       "        </tr>\n",
       "        <tr>\n",
       "            <td>HOUSING AND COMMUNITY INVESTMENT DEPARTMENT</td>\n",
       "            <td>FINANCIAL SERVICES</td>\n",
       "            <td>-272</td>\n",
       "            <td>0.00</td>\n",
       "        </tr>\n",
       "        <tr>\n",
       "            <td>TRANSPORTATION</td>\n",
       "            <td>TRANSPORTATION, COMMERCE AND ENTERPRISE</td>\n",
       "            <td>243743469</td>\n",
       "            <td>100.00</td>\n",
       "        </tr>\n",
       "        <tr>\n",
       "            <td>WATER AND POWER</td>\n",
       "            <td>TRANSPORTATION, COMMERCE AND ENTERPRISE</td>\n",
       "            <td>2465796870</td>\n",
       "            <td>100.00</td>\n",
       "        </tr>\n",
       "        <tr>\n",
       "            <td>WATER AND POWER</td>\n",
       "            <td>FINANCIAL SERVICES</td>\n",
       "            <td>5000</td>\n",
       "            <td>0.00</td>\n",
       "        </tr>\n",
       "    </tbody>\n",
       "</table>"
      ],
      "text/plain": [
       "[('AIRPORTS', 'TRANSPORTATION, COMMERCE AND/OR ENTERPRISE', Decimal('1777456541'), Decimal('99.94')),\n",
       " ('AIRPORTS', 'FINANCIAL SERVICES', Decimal('991030'), Decimal('0.06')),\n",
       " ('GENERAL SERVICES', 'GENERAL GOVERNMENT', Decimal('324621626'), Decimal('96.65')),\n",
       " ('GENERAL SERVICES', 'FINANCIAL SERVICES', Decimal('11235141'), Decimal('3.35')),\n",
       " ('GENERAL SERVICES', 'PROTECTION OF PERSONS AND PROPERTY', Decimal('3113'), Decimal('0.00')),\n",
       " ('HOUSING AND COMMUNITY INVESTMENT DEPARTMENT', 'COMMUNITY DEVELOPMENT', Decimal('240895510'), Decimal('99.70')),\n",
       " ('HOUSING AND COMMUNITY INVESTMENT DEPARTMENT', 'PROTECTION OF PERSONS AND PROPERTY', Decimal('724820'), Decimal('0.30')),\n",
       " ('HOUSING AND COMMUNITY INVESTMENT DEPARTMENT', 'FINANCIAL SERVICES', Decimal('-272'), Decimal('0.00')),\n",
       " ('TRANSPORTATION', 'TRANSPORTATION, COMMERCE AND ENTERPRISE', Decimal('243743469'), Decimal('100.00')),\n",
       " ('WATER AND POWER', 'TRANSPORTATION, COMMERCE AND ENTERPRISE', Decimal('2465796870'), Decimal('100.00')),\n",
       " ('WATER AND POWER', 'FINANCIAL SERVICES', Decimal('5000'), Decimal('0.00'))]"
      ]
     },
     "execution_count": 90,
     "metadata": {},
     "output_type": "execute_result"
    }
   ],
   "source": [
    "%%sql\n",
    "SELECT \n",
    "    d.department_name AS department_name,\n",
    "    a.government_activity AS government_activity,\n",
    "    SUM(c.dollar_amount) AS total_dollar_amount,\n",
    "    ROUND(100.0 * SUM(c.dollar_amount) / SUM(SUM(c.dollar_amount)) OVER (PARTITION BY d.department_name), 2) AS percentage_of_total\n",
    "FROM \n",
    "    checkbook AS c\n",
    "JOIN \n",
    "    department AS d ON c.department_key = d.key\n",
    "JOIN \n",
    "    activity AS a ON c.activity_key = a.key\n",
    "WHERE\n",
    "    d.department_name IN ('WATER AND POWER', 'AIRPORTS','NON DEPARTMENTAL','GENERAL SERVICES','TRANSPORTATION','HOUSING AND COMMUNITY INVESTMENT DEPARTMENT') \n",
    "GROUP BY \n",
    "    d.department_name, a.government_activity\n",
    "ORDER BY \n",
    "    d.department_name, total_dollar_amount DESC, government_activity;"
   ]
  },
  {
   "cell_type": "markdown",
   "metadata": {},
   "source": [
    "#### Discoveries and Insights:\n",
    "The government's activities under each department are classified into main activity and financial services. \n",
    "Financial Services activities concentrate on the financial management and planning necessary to support those operations.\n",
    "Almost more than 97% of each department's allotted budget is spent on the main activities. \n",
    "- **Airports**: These are divided into 'TRANSPORTATION, COMMERCE AND/OR ENTERPRISE' and 'FINANCIAL SERVICES.' 99.94 of the total spending by airports is towards 'TRANSPORTATION, COMMERCE AND/OR ENTERPRISE.' \n",
    "- **General Services**: It is divided into 'GENERAL GOVERNMENT,' 'FINANCIAL SERVICES', and 'PROTECTION OF PERSONS AND PROPERTY. 96.65% is spent on 'GENERAL GOVERNMENT,' 3.35 to 'FINANCIAL SERVICES.'\n",
    "- **Housing and Community Investment Department**: Most expenditure is on community development.\n",
    "- **Transportation** and **Water**: Both these departments' complete expenditure is towards 'TRANSPORTATION, COMMERCE and ENTERPRISE.'"
   ]
  },
  {
   "cell_type": "markdown",
   "metadata": {},
   "source": [
    "### QUESTION 3:\n",
    "***Which departments use most of the Special Revenue funds and the Capital Projects funds?***"
   ]
  },
  {
   "cell_type": "markdown",
   "metadata": {},
   "source": [
    "Retrieving financial data from the \"checkbook\" table, associating it with department and fund information through joins with the \"department\" and \"fund\" tables. The results are filtered to include only entries where the fund type is 'SPECIAL REVENUE'. The query then calculates the total dollar amount for each department-fund combination and adds columns for cumulative total and cumulative percentage of spending. The cumulative total is presented in descending order, providing insights into the distribution of spending across departments and funds within the 'SPECIAL REVENUE' category."
   ]
  },
  {
   "cell_type": "code",
   "execution_count": 91,
   "metadata": {},
   "outputs": [
    {
     "name": "stdout",
     "output_type": "stream",
     "text": [
      " * postgresql://student@/final_project\n",
      "29 rows affected.\n"
     ]
    },
    {
     "data": {
      "text/html": [
       "<table>\n",
       "    <thead>\n",
       "        <tr>\n",
       "            <th>department_name</th>\n",
       "            <th>fund_type</th>\n",
       "            <th>total_dollar_amount</th>\n",
       "            <th>total_count</th>\n",
       "            <th>cumulative_percentage</th>\n",
       "        </tr>\n",
       "    </thead>\n",
       "    <tbody>\n",
       "        <tr>\n",
       "            <td>NON_DEPARTMENTAL</td>\n",
       "            <td>SPECIAL REVENUE</td>\n",
       "            <td>276968288</td>\n",
       "            <td>4199</td>\n",
       "            <td>25.11%</td>\n",
       "        </tr>\n",
       "        <tr>\n",
       "            <td>TRANSPORTATION</td>\n",
       "            <td>SPECIAL REVENUE</td>\n",
       "            <td>216980703</td>\n",
       "            <td>6113</td>\n",
       "            <td>44.78%</td>\n",
       "        </tr>\n",
       "        <tr>\n",
       "            <td>HOUSING AND COMMUNITY INVESTMENT DEPARTMENT</td>\n",
       "            <td>SPECIAL REVENUE</td>\n",
       "            <td>100950739</td>\n",
       "            <td>8513</td>\n",
       "            <td>53.93%</td>\n",
       "        </tr>\n",
       "        <tr>\n",
       "            <td>CITY CLERK</td>\n",
       "            <td>SPECIAL REVENUE</td>\n",
       "            <td>78385863</td>\n",
       "            <td>935</td>\n",
       "            <td>61.04%</td>\n",
       "        </tr>\n",
       "        <tr>\n",
       "            <td>ECONOMIC AND WORKFORCE DEVELOPMENT DEPARTMENT</td>\n",
       "            <td>SPECIAL REVENUE</td>\n",
       "            <td>60691668</td>\n",
       "            <td>3515</td>\n",
       "            <td>66.54%</td>\n",
       "        </tr>\n",
       "        <tr>\n",
       "            <td>GENERAL SERVICES</td>\n",
       "            <td>SPECIAL REVENUE</td>\n",
       "            <td>56317995</td>\n",
       "            <td>2821</td>\n",
       "            <td>71.65%</td>\n",
       "        </tr>\n",
       "        <tr>\n",
       "            <td>RECREATION AND PARKS</td>\n",
       "            <td>SPECIAL REVENUE</td>\n",
       "            <td>47100033</td>\n",
       "            <td>56499</td>\n",
       "            <td>75.92%</td>\n",
       "        </tr>\n",
       "        <tr>\n",
       "            <td>FIRE</td>\n",
       "            <td>SPECIAL REVENUE</td>\n",
       "            <td>32418627</td>\n",
       "            <td>2036</td>\n",
       "            <td>78.86%</td>\n",
       "        </tr>\n",
       "        <tr>\n",
       "            <td>MAYOR</td>\n",
       "            <td>SPECIAL REVENUE</td>\n",
       "            <td>31836943</td>\n",
       "            <td>1169</td>\n",
       "            <td>81.75%</td>\n",
       "        </tr>\n",
       "        <tr>\n",
       "            <td>RECREATION AND PARKS - SPECIAL ACCOUNTS</td>\n",
       "            <td>SPECIAL REVENUE</td>\n",
       "            <td>31715838</td>\n",
       "            <td>6873</td>\n",
       "            <td>84.62%</td>\n",
       "        </tr>\n",
       "        <tr>\n",
       "            <td>LIBRARY</td>\n",
       "            <td>SPECIAL REVENUE</td>\n",
       "            <td>28194613</td>\n",
       "            <td>4366</td>\n",
       "            <td>87.18%</td>\n",
       "        </tr>\n",
       "        <tr>\n",
       "            <td>NON-DEPARTMENTAL - APPROPRIATIONS TO SPECIAL PURPOSE FUND</td>\n",
       "            <td>SPECIAL REVENUE</td>\n",
       "            <td>28006715</td>\n",
       "            <td>6192</td>\n",
       "            <td>89.72%</td>\n",
       "        </tr>\n",
       "        <tr>\n",
       "            <td>CITY ADMINISTRATIVE OFFICER</td>\n",
       "            <td>SPECIAL REVENUE</td>\n",
       "            <td>26003360</td>\n",
       "            <td>116</td>\n",
       "            <td>92.07%</td>\n",
       "        </tr>\n",
       "        <tr>\n",
       "            <td>AGING</td>\n",
       "            <td>SPECIAL REVENUE</td>\n",
       "            <td>22499032</td>\n",
       "            <td>1872</td>\n",
       "            <td>94.11%</td>\n",
       "        </tr>\n",
       "        <tr>\n",
       "            <td>POLICE</td>\n",
       "            <td>SPECIAL REVENUE</td>\n",
       "            <td>18408254</td>\n",
       "            <td>1482</td>\n",
       "            <td>95.78%</td>\n",
       "        </tr>\n",
       "        <tr>\n",
       "            <td>BUILDING AND SAFETY</td>\n",
       "            <td>SPECIAL REVENUE</td>\n",
       "            <td>14097526</td>\n",
       "            <td>18086</td>\n",
       "            <td>97.06%</td>\n",
       "        </tr>\n",
       "        <tr>\n",
       "            <td>CITY ATTORNEY</td>\n",
       "            <td>SPECIAL REVENUE</td>\n",
       "            <td>9095372</td>\n",
       "            <td>1904</td>\n",
       "            <td>97.88%</td>\n",
       "        </tr>\n",
       "        <tr>\n",
       "            <td>COUNCIL</td>\n",
       "            <td>SPECIAL REVENUE</td>\n",
       "            <td>8380390</td>\n",
       "            <td>971</td>\n",
       "            <td>98.64%</td>\n",
       "        </tr>\n",
       "        <tr>\n",
       "            <td>CULTURAL AFFAIRS</td>\n",
       "            <td>SPECIAL REVENUE</td>\n",
       "            <td>4534763</td>\n",
       "            <td>602</td>\n",
       "            <td>99.06%</td>\n",
       "        </tr>\n",
       "        <tr>\n",
       "            <td>ANIMAL SERVICES</td>\n",
       "            <td>SPECIAL REVENUE</td>\n",
       "            <td>3230130</td>\n",
       "            <td>1142</td>\n",
       "            <td>99.35%</td>\n",
       "        </tr>\n",
       "        <tr>\n",
       "            <td>INFORMATION TECHNOLOGY AGENCY</td>\n",
       "            <td>SPECIAL REVENUE</td>\n",
       "            <td>2149393</td>\n",
       "            <td>832</td>\n",
       "            <td>99.54%</td>\n",
       "        </tr>\n",
       "        <tr>\n",
       "            <td>CITY ETHICS COMMISSION</td>\n",
       "            <td>SPECIAL REVENUE</td>\n",
       "            <td>1832287</td>\n",
       "            <td>120</td>\n",
       "            <td>99.71%</td>\n",
       "        </tr>\n",
       "        <tr>\n",
       "            <td>ZOO</td>\n",
       "            <td>SPECIAL REVENUE</td>\n",
       "            <td>1830586</td>\n",
       "            <td>160</td>\n",
       "            <td>99.88%</td>\n",
       "        </tr>\n",
       "        <tr>\n",
       "            <td>CITY PLANNING</td>\n",
       "            <td>SPECIAL REVENUE</td>\n",
       "            <td>1228204</td>\n",
       "            <td>1643</td>\n",
       "            <td>99.99%</td>\n",
       "        </tr>\n",
       "        <tr>\n",
       "            <td>OFFICE OF FINANCE</td>\n",
       "            <td>SPECIAL REVENUE</td>\n",
       "            <td>92710</td>\n",
       "            <td>32</td>\n",
       "            <td>100.00%</td>\n",
       "        </tr>\n",
       "        <tr>\n",
       "            <td>DISABILITY</td>\n",
       "            <td>SPECIAL REVENUE</td>\n",
       "            <td>34485</td>\n",
       "            <td>20</td>\n",
       "            <td>100.00%</td>\n",
       "        </tr>\n",
       "        <tr>\n",
       "            <td>EL PUEBLO DE LOS ANGELES HISTORICAL MONUMENT AUTHORITY</td>\n",
       "            <td>SPECIAL REVENUE</td>\n",
       "            <td>14536</td>\n",
       "            <td>7</td>\n",
       "            <td>100.00%</td>\n",
       "        </tr>\n",
       "        <tr>\n",
       "            <td>NON-DEPARTMENTAL - HUMAN RESOURCES BENEFITS</td>\n",
       "            <td>SPECIAL REVENUE</td>\n",
       "            <td>2230</td>\n",
       "            <td>3</td>\n",
       "            <td>100.00%</td>\n",
       "        </tr>\n",
       "        <tr>\n",
       "            <td>PERSONNEL</td>\n",
       "            <td>SPECIAL REVENUE</td>\n",
       "            <td>1364</td>\n",
       "            <td>4</td>\n",
       "            <td>100.00%</td>\n",
       "        </tr>\n",
       "    </tbody>\n",
       "</table>"
      ],
      "text/plain": [
       "[('NON_DEPARTMENTAL', 'SPECIAL REVENUE', Decimal('276968288'), 4199, '25.11%'),\n",
       " ('TRANSPORTATION', 'SPECIAL REVENUE', Decimal('216980703'), 6113, '44.78%'),\n",
       " ('HOUSING AND COMMUNITY INVESTMENT DEPARTMENT', 'SPECIAL REVENUE', Decimal('100950739'), 8513, '53.93%'),\n",
       " ('CITY CLERK', 'SPECIAL REVENUE', Decimal('78385863'), 935, '61.04%'),\n",
       " ('ECONOMIC AND WORKFORCE DEVELOPMENT DEPARTMENT', 'SPECIAL REVENUE', Decimal('60691668'), 3515, '66.54%'),\n",
       " ('GENERAL SERVICES', 'SPECIAL REVENUE', Decimal('56317995'), 2821, '71.65%'),\n",
       " ('RECREATION AND PARKS', 'SPECIAL REVENUE', Decimal('47100033'), 56499, '75.92%'),\n",
       " ('FIRE', 'SPECIAL REVENUE', Decimal('32418627'), 2036, '78.86%'),\n",
       " ('MAYOR', 'SPECIAL REVENUE', Decimal('31836943'), 1169, '81.75%'),\n",
       " ('RECREATION AND PARKS - SPECIAL ACCOUNTS', 'SPECIAL REVENUE', Decimal('31715838'), 6873, '84.62%'),\n",
       " ('LIBRARY', 'SPECIAL REVENUE', Decimal('28194613'), 4366, '87.18%'),\n",
       " ('NON-DEPARTMENTAL - APPROPRIATIONS TO SPECIAL PURPOSE FUND', 'SPECIAL REVENUE', Decimal('28006715'), 6192, '89.72%'),\n",
       " ('CITY ADMINISTRATIVE OFFICER', 'SPECIAL REVENUE', Decimal('26003360'), 116, '92.07%'),\n",
       " ('AGING', 'SPECIAL REVENUE', Decimal('22499032'), 1872, '94.11%'),\n",
       " ('POLICE', 'SPECIAL REVENUE', Decimal('18408254'), 1482, '95.78%'),\n",
       " ('BUILDING AND SAFETY', 'SPECIAL REVENUE', Decimal('14097526'), 18086, '97.06%'),\n",
       " ('CITY ATTORNEY', 'SPECIAL REVENUE', Decimal('9095372'), 1904, '97.88%'),\n",
       " ('COUNCIL', 'SPECIAL REVENUE', Decimal('8380390'), 971, '98.64%'),\n",
       " ('CULTURAL AFFAIRS', 'SPECIAL REVENUE', Decimal('4534763'), 602, '99.06%'),\n",
       " ('ANIMAL SERVICES', 'SPECIAL REVENUE', Decimal('3230130'), 1142, '99.35%'),\n",
       " ('INFORMATION TECHNOLOGY AGENCY', 'SPECIAL REVENUE', Decimal('2149393'), 832, '99.54%'),\n",
       " ('CITY ETHICS COMMISSION', 'SPECIAL REVENUE', Decimal('1832287'), 120, '99.71%'),\n",
       " ('ZOO', 'SPECIAL REVENUE', Decimal('1830586'), 160, '99.88%'),\n",
       " ('CITY PLANNING', 'SPECIAL REVENUE', Decimal('1228204'), 1643, '99.99%'),\n",
       " ('OFFICE OF FINANCE', 'SPECIAL REVENUE', Decimal('92710'), 32, '100.00%'),\n",
       " ('DISABILITY', 'SPECIAL REVENUE', Decimal('34485'), 20, '100.00%'),\n",
       " ('EL PUEBLO DE LOS ANGELES HISTORICAL MONUMENT AUTHORITY', 'SPECIAL REVENUE', Decimal('14536'), 7, '100.00%'),\n",
       " ('NON-DEPARTMENTAL - HUMAN RESOURCES BENEFITS', 'SPECIAL REVENUE', Decimal('2230'), 3, '100.00%'),\n",
       " ('PERSONNEL', 'SPECIAL REVENUE', Decimal('1364'), 4, '100.00%')]"
      ]
     },
     "execution_count": 91,
     "metadata": {},
     "output_type": "execute_result"
    }
   ],
   "source": [
    "%%sql\n",
    "SELECT \n",
    "    d.department_name AS department_name,\n",
    "    f.fund_type AS fund_type,\n",
    "    SUM(c.dollar_amount) AS total_dollar_amount,\n",
    "    count(c.dollar_amount) AS total_count,\n",
    "    --CONCAT('$ ',SUM(SUM(c.dollar_amount)) OVER (ORDER BY SUM(c.dollar_amount) DESC)) AS cumulative_total,\n",
    "    CONCAT(ROUND(100.0 * SUM(SUM(c.dollar_amount)) OVER (ORDER BY SUM(c.dollar_amount) DESC) / SUM(SUM(c.dollar_amount)) OVER (), 2), '%') AS cumulative_percentage \n",
    "FROM \n",
    "    checkbook AS c\n",
    "JOIN \n",
    "    department AS d ON c.department_key = d.key\n",
    "JOIN \n",
    "    fund AS f ON c.fund_key = f.key\n",
    "WHERE\n",
    "    fund_type = 'SPECIAL REVENUE'\n",
    "GROUP BY \n",
    "    d.department_name, f.fund_type\n",
    "ORDER BY \n",
    "    total_dollar_amount DESC"
   ]
  },
  {
   "cell_type": "markdown",
   "metadata": {},
   "source": [
    "Pandas to generate a dual-axis visualization for departments under the 'Special Revenue' fund type. The horizontal bar chart displays total dollar amounts for each department, while the line plot on the secondary axis depicts the cumulative percentage of spending. The green dashed line at 80% signifies the point where roughly 80% of the total spending is achieved. This real-time visualization offers a concise view of departmental spending distribution within the 'Special Revenue' category, emphasizing key contributors to the cumulative total."
   ]
  },
  {
   "cell_type": "code",
   "execution_count": 92,
   "metadata": {},
   "outputs": [
    {
     "data": {
      "image/png": "[encoded data removed]",
      "text/plain": [
       "<Figure size 1000x600 with 2 Axes>"
      ]
     },
     "metadata": {},
     "output_type": "display_data"
    }
   ],
   "source": [
    "df = pd.DataFrame(_).sort_values(by='total_dollar_amount', ascending=True).iloc[4:, :]\n",
    "\n",
    "df['cumulative_percentage'] = df['cumulative_percentage'].str.rstrip('%').astype('float')\n",
    "\n",
    "fig, ax1 = plt.subplots(figsize=(10, 6))\n",
    "ax1.set_title('Special Revenue')\n",
    "\n",
    "ax1.barh(y='department_name', width='total_dollar_amount', data=df, color='blue', alpha=0.7)\n",
    "ax1.set_xlabel('Total Dollar Amount')\n",
    "ax1.set_ylabel('Department Name')\n",
    "\n",
    "ax2 = ax1.twiny();\n",
    "ax2.plot(df['cumulative_percentage'], df['department_name'], color='red', marker='o', label='Cumulative Percentage')\n",
    "ax2.set_xlim([0, 100])  # Set x-axis limit to ensure it reaches 100%\n",
    "ax2.axvline(x=80, color='green', linestyle='--', label='80% Mark')\n",
    "ax2.set_xlabel('Cumulative Percentage')\n",
    "\n",
    "plt.legend(loc='lower center');\n",
    "\n",
    "plt.show();"
   ]
  },
  {
   "cell_type": "markdown",
   "metadata": {},
   "source": [
    "#### Discoveries & Insights:\n",
    "***Special revenue fund*** is a designated account created by a government to gather funds earmarked for a specific project. These funds offer an additional layer of accountability and transparency, assuring taxpayers that their contributions will be allocated for the intended purpose.\n",
    "\n",
    "1. **Top Departments by Special Revenue:** The \"NON_DEPARTMENTAL\", \"TRANSPORTATION\", and \"HOUSING AND COMMUNITY INVESTMENT DEPARTMENT\" are the top three entities in terms of total dollar amount from special revenue funds.\n",
    "\n",
    "2. **Cumulative Impact:** There is a noticeable cumulative impact of spending from these funds as we move down the list. The \"TRANSPORTATION\" department alone accounts for nearly 45% of the special revenue fund spending, and along with \"NON_DEPARTMENTAL\", they comprise over 70% of the total special revenue fund expenditure.\n",
    "\n",
    "3. **Efficiency and Efficacy:** The efficient use of special revenue funds should be regularly reviewed to ensure that these targeted funds are making the intended impact. Departments with lower allocations may need to be audited for efficiency or to argue a case for increased funding."
   ]
  },
  {
   "cell_type": "markdown",
   "metadata": {},
   "source": [
    "**For capital project funds**"
   ]
  },
  {
   "cell_type": "markdown",
   "metadata": {},
   "source": [
    "Checking the financial activity for 'CAPITAL PROJECTS' funds in the \"checkbook\" dataset. It calculates the total dollar amount and transaction count for each department and fund type combination, grouping the results accordingly. The output is ordered in descending order based on the total dollar amount, providing a concise overview of expenditure patterns in capital projects across different departments and fund types."
   ]
  },
  {
   "cell_type": "code",
   "execution_count": 93,
   "metadata": {},
   "outputs": [
    {
     "name": "stdout",
     "output_type": "stream",
     "text": [
      " * postgresql://student@/final_project\n",
      "7 rows affected.\n"
     ]
    },
    {
     "data": {
      "text/html": [
       "<table>\n",
       "    <thead>\n",
       "        <tr>\n",
       "            <th>department_name</th>\n",
       "            <th>fund_type</th>\n",
       "            <th>total_dollar_amount</th>\n",
       "            <th>total_count</th>\n",
       "        </tr>\n",
       "    </thead>\n",
       "    <tbody>\n",
       "        <tr>\n",
       "            <td>HOUSING AND COMMUNITY INVESTMENT DEPARTMENT</td>\n",
       "            <td>CAPITAL PROJECTS</td>\n",
       "            <td>78845662</td>\n",
       "            <td>451</td>\n",
       "        </tr>\n",
       "        <tr>\n",
       "            <td>NON_DEPARTMENTAL</td>\n",
       "            <td>CAPITAL PROJECTS</td>\n",
       "            <td>30267967</td>\n",
       "            <td>237</td>\n",
       "        </tr>\n",
       "        <tr>\n",
       "            <td>CITY ADMINISTRATIVE OFFICER</td>\n",
       "            <td>CAPITAL PROJECTS</td>\n",
       "            <td>20290760</td>\n",
       "            <td>435</td>\n",
       "        </tr>\n",
       "        <tr>\n",
       "            <td>RECREATION AND PARKS</td>\n",
       "            <td>CAPITAL PROJECTS</td>\n",
       "            <td>16877499</td>\n",
       "            <td>1810</td>\n",
       "        </tr>\n",
       "        <tr>\n",
       "            <td>RECREATION AND PARKS - SPECIAL ACCOUNTS</td>\n",
       "            <td>CAPITAL PROJECTS</td>\n",
       "            <td>6598136</td>\n",
       "            <td>628</td>\n",
       "        </tr>\n",
       "        <tr>\n",
       "            <td>TRANSPORTATION</td>\n",
       "            <td>CAPITAL PROJECTS</td>\n",
       "            <td>5235053</td>\n",
       "            <td>149</td>\n",
       "        </tr>\n",
       "        <tr>\n",
       "            <td>NON-DEPARTMENTAL - APPROPRIATIONS TO SPECIAL PURPOSE FUND</td>\n",
       "            <td>CAPITAL PROJECTS</td>\n",
       "            <td>191227</td>\n",
       "            <td>89</td>\n",
       "        </tr>\n",
       "    </tbody>\n",
       "</table>"
      ],
      "text/plain": [
       "[('HOUSING AND COMMUNITY INVESTMENT DEPARTMENT', 'CAPITAL PROJECTS', Decimal('78845662'), 451),\n",
       " ('NON_DEPARTMENTAL', 'CAPITAL PROJECTS', Decimal('30267967'), 237),\n",
       " ('CITY ADMINISTRATIVE OFFICER', 'CAPITAL PROJECTS', Decimal('20290760'), 435),\n",
       " ('RECREATION AND PARKS', 'CAPITAL PROJECTS', Decimal('16877499'), 1810),\n",
       " ('RECREATION AND PARKS - SPECIAL ACCOUNTS', 'CAPITAL PROJECTS', Decimal('6598136'), 628),\n",
       " ('TRANSPORTATION', 'CAPITAL PROJECTS', Decimal('5235053'), 149),\n",
       " ('NON-DEPARTMENTAL - APPROPRIATIONS TO SPECIAL PURPOSE FUND', 'CAPITAL PROJECTS', Decimal('191227'), 89)]"
      ]
     },
     "execution_count": 93,
     "metadata": {},
     "output_type": "execute_result"
    }
   ],
   "source": [
    "%%sql\n",
    "SELECT \n",
    "    d.department_name AS department_name,\n",
    "    f.fund_type AS fund_type,\n",
    "    SUM(c.dollar_amount) AS total_dollar_amount,\n",
    "    count(c.dollar_amount) AS total_count\n",
    "FROM \n",
    "    checkbook AS c\n",
    "JOIN \n",
    "    department AS d ON c.department_key = d.key\n",
    "JOIN \n",
    "    fund AS f ON c.fund_key = f.key\n",
    "WHERE\n",
    "    fund_type = 'CAPITAL PROJECTS'\n",
    "GROUP BY \n",
    "    d.department_name, f.fund_type\n",
    "ORDER BY \n",
    "    total_dollar_amount DESC"
   ]
  },
  {
   "cell_type": "markdown",
   "metadata": {},
   "source": [
    "#### Discoveries & Insights:​\n",
    "\n",
    "Discoveries:​\n",
    "\n",
    "- The \"HOUSING AND COMMUNITY INVESTMENT DEPARTMENT\" has the highest capital project expenditure, suggesting large, individual projects in housing and community infrastructure.​\n",
    "\n",
    "- \"RECREATION AND PARKS\" shows a high transaction count but not the highest funding, indicating many smaller-scale projects or purchases, as opposed to fewer, larger transactions in departments like \"HOUSING AND COMMUNITY INVESTMENT\". This could indicate ongoing or numerous smaller projects, requiring continual funding. ​  ​\n",
    "\n",
    "Insights:​\n",
    "\n",
    "- Investment Priorities: The data suggests prioritization of housing and community development in capital expenditures, reflecting policy emphasis on these areas.​\n",
    "\n",
    "- Efficiency Potential: Departments with high transaction counts but lower total expenditures might benefit from efficiency reviews to optimize procurement and project management processes.​\n",
    "\n",
    "- Fiscal Strategy: The presence of \"NON_DEPARTMENTAL\" spending indicates strategic financial management, where funds may be allocated for cross-departmental projects or citywide initiatives not confined to a single department.​"
   ]
  },
  {
   "cell_type": "markdown",
   "metadata": {},
   "source": [
    "Now we are digging deeper into what project used \"capital projects\" fund the most within the top-spent department. The final output includes the department name, fund type, maximum spent amount, purchase order number, and description for the top spending transaction in each specified department within the context of capital projects."
   ]
  },
  {
   "cell_type": "code",
   "execution_count": 5,
   "metadata": {},
   "outputs": [
    {
     "name": "stdout",
     "output_type": "stream",
     "text": [
      " * postgresql://student@/final_project\n",
      "5 rows affected.\n"
     ]
    },
    {
     "data": {
      "text/html": [
       "<table>\n",
       "    <thead>\n",
       "        <tr>\n",
       "            <th>department_name</th>\n",
       "            <th>fund_type</th>\n",
       "            <th>max_spent</th>\n",
       "            <th>po_num</th>\n",
       "            <th>description</th>\n",
       "        </tr>\n",
       "    </thead>\n",
       "    <tbody>\n",
       "        <tr>\n",
       "            <td>HOUSING AND COMMUNITY INVESTMENT DEPARTMENT</td>\n",
       "            <td>CAPITAL PROJECTS</td>\n",
       "            <td>3698365</td>\n",
       "            <td>SC43CO20134396Y</td>\n",
       "            <td>SC FOR MELROSE PSH, L.P <br><br><br>C-134396</td>\n",
       "        </tr>\n",
       "        <tr>\n",
       "            <td>NON_DEPARTMENTAL</td>\n",
       "            <td>CAPITAL PROJECTS</td>\n",
       "            <td>2043845</td>\n",
       "            <td>SC50CO19131878KO</td>\n",
       "            <td>OHL USA INC-CO#131878, ARGO</td>\n",
       "        </tr>\n",
       "        <tr>\n",
       "            <td>TRANSPORTATION</td>\n",
       "            <td>CAPITAL PROJECTS</td>\n",
       "            <td>1885731</td>\n",
       "            <td>SC94CO19127318M</td>\n",
       "            <td>BIKE SHARE PHASE III</td>\n",
       "        </tr>\n",
       "        <tr>\n",
       "            <td>RECREATION AND PARKS</td>\n",
       "            <td>CAPITAL PROJECTS</td>\n",
       "            <td>879543</td>\n",
       "            <td>GAE88RE20010548M</td>\n",
       "            <td>#21254 BROOKLYN HEIGHTS PARK ACQUISITION, CROWN ESCROW CORP</td>\n",
       "        </tr>\n",
       "        <tr>\n",
       "            <td>CITY ADMINISTRATIVE OFFICER</td>\n",
       "            <td>CAPITAL PROJECTS</td>\n",
       "            <td>750000</td>\n",
       "            <td>SC10CO19003645KC</td>\n",
       "            <td>ENC. $4,588,206.00 FROM PROP K 43K/10/VARIOUS APPRUNITS</td>\n",
       "        </tr>\n",
       "    </tbody>\n",
       "</table>"
      ],
      "text/plain": [
       "[('HOUSING AND COMMUNITY INVESTMENT DEPARTMENT', 'CAPITAL PROJECTS', Decimal('3698365'), 'SC43CO20134396Y', 'SC FOR MELROSE PSH, L.P \\n\\n\\nC-134396'),\n",
       " ('NON_DEPARTMENTAL', 'CAPITAL PROJECTS', Decimal('2043845'), 'SC50CO19131878KO', 'OHL USA INC-CO#131878, ARGO'),\n",
       " ('TRANSPORTATION', 'CAPITAL PROJECTS', Decimal('1885731'), 'SC94CO19127318M', 'BIKE SHARE PHASE III'),\n",
       " ('RECREATION AND PARKS', 'CAPITAL PROJECTS', Decimal('879543'), 'GAE88RE20010548M', '#21254 BROOKLYN HEIGHTS PARK ACQUISITION, CROWN ESCROW CORP'),\n",
       " ('CITY ADMINISTRATIVE OFFICER', 'CAPITAL PROJECTS', Decimal('750000'), 'SC10CO19003645KC', 'ENC. $4,588,206.00 FROM PROP K 43K/10/VARIOUS APPRUNITS')]"
      ]
     },
     "execution_count": 5,
     "metadata": {},
     "output_type": "execute_result"
    }
   ],
   "source": [
    "%%sql\n",
    "SELECT \n",
    "    sub.department_name,\n",
    "    sub.fund_type,\n",
    "    sub.MAX_spent,\n",
    "    sub.po_num,\n",
    "    sub.description\n",
    "FROM (\n",
    "    SELECT \n",
    "        d.department_name AS department_name,\n",
    "        f.fund_type AS fund_type,\n",
    "        c.dollar_amount AS spent,\n",
    "        p.po_num AS po_num,\n",
    "        c.description AS description,\n",
    "        MAX(c.dollar_amount) OVER (PARTITION BY d.department_name) AS MAX_spent,\n",
    "        ROW_NUMBER() OVER (PARTITION BY d.department_name ORDER BY c.dollar_amount DESC) AS rn\n",
    "    FROM \n",
    "        checkbook AS c\n",
    "    JOIN \n",
    "        department AS d ON c.department_key = d.key\n",
    "    JOIN \n",
    "        fund AS f ON c.fund_key = f.key\n",
    "    JOIN\n",
    "        po_line AS p ON c.po_line_key = p.key\n",
    "    WHERE\n",
    "        f.fund_type = 'CAPITAL PROJECTS'\n",
    "        AND d.department_name IN ('HOUSING AND COMMUNITY INVESTMENT DEPARTMENT', 'NON_DEPARTMENTAL', 'CITY ADMINISTRATIVE OFFICER', 'RECREATION AND PARKS', 'TRANSPORTATION')\n",
    ") sub\n",
    "WHERE sub.rn = 1\n",
    "ORDER BY \n",
    "    max_spent DESC"
   ]
  },
  {
   "cell_type": "markdown",
   "metadata": {},
   "source": [
    "#### Discoveries and Insights:\n",
    "***Capital projects funds:*** Funds are used to account for financial resources used for the acquisition or construction of capital facilities. These include land, improvements to land, buildings and building improvements and infrastructure. Examples: Infrastructure projects such as railways, roads, and dams.\n",
    "\n",
    "**Discoveries:**\n",
    "- **High-Value Projects:** The \"HOUSING AND COMMUNITY INVESTMENT DEPARTMENT\" has incurred the highest maximum expenditure on a single project, indicating a significant investment in a housing-related initiative.\n",
    "- **Diverse Capital Projects:** The capital projects span across different sectors, from administrative actions (as suggested by the expense in the \"CITY ADMINISTRATIVE OFFICER\" department) to housing, public works, park acquisition, and transportation. And the descriptions suggest a variety of capital project types, from housing investments and park acquisitions to infrastructure for transportation.\n",
    "\n",
    "**Insights:**\n",
    "- **Investment in Public Services:** There's a clear investment in community services and infrastructure, such as parks and transportation, which can enhance the quality of life for residents.\n",
    "- **Focus on Housing:** The significant expenditure in the \"HOUSING AND COMMUNITY INVESTMENT DEPARTMENT\" suggests a focused effort on housing development, possibly addressing housing affordability or homelessness.\n",
    "- **Sustainable Transportation:** The investment in \"BIKE SHARE PHASE III\" within the \"TRANSPORTATION\" department reflects a commitment to sustainable and alternative transportation options."
   ]
  }
 ],
 "metadata": {
  "kernelspec": {
   "display_name": "Python 3 (ipykernel)",
   "language": "python",
   "name": "python3"
  },
  "language_info": {
   "codemirror_mode": {
    "name": "ipython",
    "version": 3
   },
   "file_extension": ".py",
   "mimetype": "text/x-python",
   "name": "python",
   "nbconvert_exporter": "python",
   "pygments_lexer": "ipython3",
   "version": "3.8.10"
  }
 },
 "nbformat": 4,
 "nbformat_minor": 4
}
